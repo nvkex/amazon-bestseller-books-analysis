{
 "cells": [
  {
   "cell_type": "markdown",
   "metadata": {},
   "source": [
    "# Amazon Top 50 Bestselling Books 2009 - 2019"
   ]
  },
  {
   "cell_type": "markdown",
   "metadata": {},
   "source": [
    "Dataset on Amazon's Top 50 bestselling books from 2009 to 2019. Contains 550 books, data has been categorized into fiction and non-fiction using Goodreads"
   ]
  },
  {
   "cell_type": "code",
   "execution_count": 15,
   "metadata": {},
   "outputs": [],
   "source": [
    "import pandas as pd\n",
    "import numpy as np\n",
    "import matplotlib.pyplot as plt\n",
    "import plotly.express as px"
   ]
  },
  {
   "cell_type": "markdown",
   "metadata": {},
   "source": [
    "## Reading the Data"
   ]
  },
  {
   "cell_type": "code",
   "execution_count": 4,
   "metadata": {},
   "outputs": [],
   "source": [
    "dataset = pd.read_csv('Datasets/bestsellers with categories.csv')"
   ]
  },
  {
   "cell_type": "code",
   "execution_count": 5,
   "metadata": {},
   "outputs": [
    {
     "data": {
      "text/html": [
       "<div>\n",
       "<style scoped>\n",
       "    .dataframe tbody tr th:only-of-type {\n",
       "        vertical-align: middle;\n",
       "    }\n",
       "\n",
       "    .dataframe tbody tr th {\n",
       "        vertical-align: top;\n",
       "    }\n",
       "\n",
       "    .dataframe thead th {\n",
       "        text-align: right;\n",
       "    }\n",
       "</style>\n",
       "<table border=\"1\" class=\"dataframe\">\n",
       "  <thead>\n",
       "    <tr style=\"text-align: right;\">\n",
       "      <th></th>\n",
       "      <th>Name</th>\n",
       "      <th>Author</th>\n",
       "      <th>User Rating</th>\n",
       "      <th>Reviews</th>\n",
       "      <th>Price</th>\n",
       "      <th>Year</th>\n",
       "      <th>Genre</th>\n",
       "    </tr>\n",
       "  </thead>\n",
       "  <tbody>\n",
       "    <tr>\n",
       "      <th>0</th>\n",
       "      <td>10-Day Green Smoothie Cleanse</td>\n",
       "      <td>JJ Smith</td>\n",
       "      <td>4.7</td>\n",
       "      <td>17350</td>\n",
       "      <td>8</td>\n",
       "      <td>2016</td>\n",
       "      <td>Non Fiction</td>\n",
       "    </tr>\n",
       "    <tr>\n",
       "      <th>1</th>\n",
       "      <td>11/22/63: A Novel</td>\n",
       "      <td>Stephen King</td>\n",
       "      <td>4.6</td>\n",
       "      <td>2052</td>\n",
       "      <td>22</td>\n",
       "      <td>2011</td>\n",
       "      <td>Fiction</td>\n",
       "    </tr>\n",
       "    <tr>\n",
       "      <th>2</th>\n",
       "      <td>12 Rules for Life: An Antidote to Chaos</td>\n",
       "      <td>Jordan B. Peterson</td>\n",
       "      <td>4.7</td>\n",
       "      <td>18979</td>\n",
       "      <td>15</td>\n",
       "      <td>2018</td>\n",
       "      <td>Non Fiction</td>\n",
       "    </tr>\n",
       "    <tr>\n",
       "      <th>3</th>\n",
       "      <td>1984 (Signet Classics)</td>\n",
       "      <td>George Orwell</td>\n",
       "      <td>4.7</td>\n",
       "      <td>21424</td>\n",
       "      <td>6</td>\n",
       "      <td>2017</td>\n",
       "      <td>Fiction</td>\n",
       "    </tr>\n",
       "    <tr>\n",
       "      <th>4</th>\n",
       "      <td>5,000 Awesome Facts (About Everything!) (Natio...</td>\n",
       "      <td>National Geographic Kids</td>\n",
       "      <td>4.8</td>\n",
       "      <td>7665</td>\n",
       "      <td>12</td>\n",
       "      <td>2019</td>\n",
       "      <td>Non Fiction</td>\n",
       "    </tr>\n",
       "  </tbody>\n",
       "</table>\n",
       "</div>"
      ],
      "text/plain": [
       "                                                Name  \\\n",
       "0                      10-Day Green Smoothie Cleanse   \n",
       "1                                  11/22/63: A Novel   \n",
       "2            12 Rules for Life: An Antidote to Chaos   \n",
       "3                             1984 (Signet Classics)   \n",
       "4  5,000 Awesome Facts (About Everything!) (Natio...   \n",
       "\n",
       "                     Author  User Rating  Reviews  Price  Year        Genre  \n",
       "0                  JJ Smith          4.7    17350      8  2016  Non Fiction  \n",
       "1              Stephen King          4.6     2052     22  2011      Fiction  \n",
       "2        Jordan B. Peterson          4.7    18979     15  2018  Non Fiction  \n",
       "3             George Orwell          4.7    21424      6  2017      Fiction  \n",
       "4  National Geographic Kids          4.8     7665     12  2019  Non Fiction  "
      ]
     },
     "execution_count": 5,
     "metadata": {},
     "output_type": "execute_result"
    }
   ],
   "source": [
    "dataset.head()"
   ]
  },
  {
   "cell_type": "code",
   "execution_count": 11,
   "metadata": {},
   "outputs": [
    {
     "data": {
      "text/plain": [
       "False"
      ]
     },
     "execution_count": 11,
     "metadata": {},
     "output_type": "execute_result"
    }
   ],
   "source": [
    "dataset.isnull().values.any()"
   ]
  },
  {
   "cell_type": "markdown",
   "metadata": {},
   "source": [
    "## Data Visualization"
   ]
  },
  {
   "cell_type": "markdown",
   "metadata": {},
   "source": [
    "### Popularity of the books"
   ]
  },
  {
   "cell_type": "markdown",
   "metadata": {},
   "source": [
    "- The columns *User Rating* and *Reviews* can decide the popularity of the books."
   ]
  },
  {
   "cell_type": "code",
   "execution_count": 18,
   "metadata": {},
   "outputs": [
    {
     "data": {
      "application/vnd.plotly.v1+json": {
       "config": {
        "plotlyServerURL": "https://plot.ly"
       },
       "data": [
        {
         "hovertemplate": "Genre=Non Fiction<br>User Rating=%{x}<br>Reviews=%{y}<extra></extra>",
         "legendgroup": "Non Fiction",
         "marker": {
          "color": "#636efa",
          "symbol": "circle"
         },
         "mode": "markers",
         "name": "Non Fiction",
         "orientation": "v",
         "showlegend": true,
         "type": "scatter",
         "x": [
          4.7,
          4.7,
          4.8,
          4.7,
          4.6,
          4.6,
          4.6,
          4.5,
          4.6,
          4.4,
          4.5,
          4.8,
          4.6,
          4.6,
          4.7,
          4.2,
          4.6,
          4.6,
          4.8,
          4.7,
          4.8,
          4.8,
          4.8,
          4.7,
          4.7,
          4.7,
          4.5,
          4.6,
          4.8,
          4.5,
          4.7,
          4.7,
          4.7,
          4.7,
          4.8,
          4.8,
          4.8,
          4.4,
          4.6,
          4.6,
          4.5,
          4.5,
          4.6,
          4.6,
          4.6,
          4.5,
          4.5,
          4.3,
          4.5,
          4.5,
          4.7,
          4.7,
          4.7,
          4.4,
          4.2,
          4.7,
          4.7,
          4.7,
          4.7,
          4.7,
          4.4,
          4.4,
          4.5,
          4.6,
          4.6,
          4.6,
          4.6,
          4.6,
          4.6,
          4.6,
          4.5,
          4.5,
          4.5,
          4.5,
          4.6,
          4.8,
          4.9,
          4.8,
          4.7,
          4.8,
          4.7,
          4.7,
          4.4,
          4.4,
          4.8,
          4.7,
          4.7,
          4.7,
          4.7,
          4.7,
          4.3,
          4.8,
          4.8,
          4.9,
          4.7,
          4.8,
          4.4,
          4.4,
          4.4,
          4.8,
          4.9,
          4.9,
          4.9,
          4.9,
          4.9,
          4.9,
          4.6,
          4.5,
          4.6,
          4.7,
          4.7,
          4.6,
          4.6,
          4.8,
          4.8,
          4.5,
          4.5,
          4.5,
          4.6,
          4.6,
          4.6,
          4.6,
          4.6,
          4.5,
          4.5,
          4.4,
          4.8,
          4.5,
          4.2,
          4.8,
          4.5,
          4.7,
          4.8,
          4.7,
          4.7,
          4.7,
          4.4,
          4.6,
          4.6,
          4.6,
          4.8,
          4.8,
          4.7,
          4.6,
          4.9,
          4.6,
          4.6,
          4.5,
          4.6,
          4.6,
          4.7,
          4.7,
          4.3,
          4.3,
          4.5,
          4.5,
          4.5,
          4.5,
          4.5,
          4.5,
          4.5,
          4.5,
          4.5,
          4.5,
          4.6,
          4.6,
          4.7,
          4.7,
          4.8,
          4.8,
          4.8,
          4.8,
          4.7,
          4.7,
          4.8,
          4.1,
          4.6,
          4.6,
          4.6,
          4,
          4,
          4,
          4,
          4,
          4,
          4,
          4,
          4,
          4.5,
          4.6,
          4.4,
          4.4,
          4.3,
          4.3,
          4.7,
          4.7,
          4.7,
          4.7,
          4.7,
          4.8,
          4.8,
          4.8,
          4.8,
          4.8,
          4.8,
          4.6,
          4.6,
          4.6,
          4.6,
          4.7,
          4.7,
          4.7,
          4.6,
          4.7,
          4.2,
          4.8,
          4.7,
          4.8,
          4.8,
          4.7,
          4.3,
          4.3,
          4.8,
          4.4,
          4.1,
          4.6,
          4.6,
          4.6,
          4.6,
          4.6,
          4.6,
          4.7,
          4.7,
          4.7,
          4.7,
          4.7,
          4.7,
          4.7,
          4.7,
          4.7,
          4.3,
          4.3,
          4.7,
          4.4,
          4.4,
          4.5,
          4.5,
          4.5,
          4.5,
          4.8,
          4.9,
          4.6,
          4.4,
          4.4,
          4.4,
          4.4,
          4.4,
          4.3,
          4.8,
          4.8,
          4.8,
          4.5,
          4.4,
          4.6,
          4.6,
          4.6,
          4.6,
          4.6,
          4.7,
          4.4,
          4.7,
          4.7,
          4.6,
          4.6,
          4.6,
          4.7,
          4.7,
          4.6,
          4.6,
          4.5,
          4.3,
          4.3,
          4.6,
          4.6,
          4.6,
          4.6,
          4.3,
          4.6,
          4.5,
          4.8,
          4.8,
          4.8,
          4.8,
          4.8,
          4.9,
          4.8,
          4.7,
          4.6,
          4.7,
          4.4,
          4.4,
          4.4,
          4.8,
          4.6,
          4.4,
          4.2,
          4.7,
          4.7,
          4.7,
          4.7
         ],
         "xaxis": "x",
         "y": [
          17350,
          18979,
          7665,
          5983,
          460,
          4149,
          5013,
          2313,
          2925,
          2951,
          2426,
          9198,
          15921,
          798,
          9374,
          491,
          5360,
          1909,
          1296,
          615,
          61133,
          61133,
          11113,
          10070,
          10070,
          3729,
          471,
          10369,
          16244,
          2884,
          4761,
          1542,
          1542,
          1542,
          4022,
          3871,
          1329,
          4642,
          2137,
          1651,
          6679,
          6679,
          7955,
          37,
          2134,
          2525,
          720,
          956,
          6346,
          6346,
          28729,
          28729,
          5413,
          6042,
          13677,
          17323,
          17323,
          17323,
          17323,
          17323,
          1555,
          1215,
          408,
          4799,
          7660,
          22288,
          22288,
          1365,
          1636,
          10141,
          3457,
          3457,
          3457,
          3457,
          5972,
          5476,
          5867,
          4148,
          3564,
          1930,
          15779,
          15779,
          15526,
          15526,
          3776,
          25001,
          25001,
          25001,
          25001,
          25001,
          5272,
          3490,
          3490,
          2812,
          4896,
          9737,
          4571,
          7396,
          7396,
          7062,
          19576,
          19576,
          19576,
          19576,
          19576,
          19576,
          8393,
          11391,
          8634,
          9342,
          9342,
          10927,
          5235,
          8916,
          2507,
          3673,
          3673,
          3673,
          6990,
          6990,
          6990,
          6990,
          6990,
          6132,
          3014,
          7550,
          3828,
          2752,
          1649,
          9867,
          1386,
          10199,
          2926,
          17739,
          17739,
          17739,
          3113,
          5542,
          5542,
          5542,
          5347,
          7866,
          5178,
          8093,
          3192,
          3163,
          3163,
          1831,
          10426,
          10426,
          10820,
          10820,
          13616,
          13616,
          8580,
          8580,
          8580,
          8580,
          8580,
          8580,
          8580,
          8580,
          8580,
          8580,
          10009,
          10009,
          1985,
          1985,
          7802,
          7802,
          23047,
          23047,
          9366,
          1265,
          3923,
          2272,
          220,
          7827,
          7827,
          5069,
          5069,
          5069,
          5069,
          5069,
          5069,
          5069,
          5069,
          5069,
          1583,
          1907,
          637,
          637,
          2314,
          4587,
          3477,
          3477,
          3477,
          3477,
          3477,
          25554,
          25554,
          25554,
          25554,
          25554,
          1680,
          9325,
          9325,
          9325,
          9325,
          4725,
          4725,
          4725,
          2580,
          3536,
          1789,
          12361,
          858,
          23358,
          23358,
          4633,
          13061,
          13061,
          2774,
          440,
          2023,
          3207,
          3207,
          3207,
          3207,
          3207,
          803,
          23308,
          23308,
          23308,
          23308,
          23308,
          23308,
          9289,
          9289,
          9289,
          7368,
          7368,
          4028,
          4247,
          4247,
          22641,
          22641,
          22641,
          22641,
          1655,
          7861,
          2744,
          1201,
          1201,
          1201,
          1201,
          1201,
          807,
          2663,
          3428,
          2876,
          3601,
          7058,
          10795,
          1204,
          26490,
          26490,
          26490,
          5487,
          3503,
          11550,
          9030,
          7508,
          7508,
          7508,
          6169,
          7034,
          11034,
          11034,
          1904,
          3319,
          3319,
          11128,
          11128,
          11128,
          11128,
          5977,
          4360,
          438,
          29673,
          29673,
          29673,
          29673,
          29673,
          5956,
          6108,
          4585,
          5492,
          9292,
          3341,
          7497,
          7497,
          13779,
          6669,
          17044,
          1302,
          14331,
          14331,
          14331,
          14331
         ],
         "yaxis": "y"
        },
        {
         "hovertemplate": "Genre=Fiction<br>User Rating=%{x}<br>Reviews=%{y}<extra></extra>",
         "legendgroup": "Fiction",
         "marker": {
          "color": "#EF553B",
          "symbol": "circle"
         },
         "mode": "markers",
         "name": "Fiction",
         "orientation": "v",
         "showlegend": true,
         "type": "scatter",
         "x": [
          4.6,
          4.7,
          4.4,
          4.7,
          4.7,
          4.6,
          4.6,
          4.5,
          4.6,
          4.6,
          3.9,
          4.3,
          4.6,
          4.9,
          4.9,
          4.8,
          4.7,
          4.7,
          4.7,
          4.3,
          4.6,
          4.6,
          4.6,
          4.3,
          4.2,
          4.8,
          4.8,
          4.8,
          4.8,
          4.8,
          4.8,
          4.8,
          4.6,
          4.6,
          4.5,
          4.7,
          4.8,
          4.9,
          4.9,
          4.9,
          4.9,
          4.9,
          4.9,
          4.9,
          4.8,
          4.7,
          4.7,
          4.6,
          4.6,
          4.7,
          4.4,
          4.5,
          3.8,
          3.8,
          4.5,
          4.7,
          4.6,
          4.6,
          4.6,
          4.8,
          4.8,
          4.8,
          4.8,
          4.8,
          3.6,
          4.8,
          4,
          4,
          4,
          4.8,
          4.8,
          4.8,
          4.9,
          4.9,
          4.4,
          4.9,
          4,
          4.9,
          4.9,
          4.9,
          4.8,
          4.6,
          4.8,
          4.8,
          4.3,
          4.1,
          4.6,
          4.6,
          4.5,
          4.9,
          4.1,
          4.9,
          4.5,
          4.5,
          4.8,
          4.8,
          4.5,
          4.5,
          4.5,
          4.6,
          4.9,
          4.9,
          4.9,
          4.9,
          4.9,
          4.9,
          4.9,
          4.9,
          4.8,
          4.2,
          4.3,
          4.6,
          4.8,
          4.8,
          4.8,
          4.8,
          4.7,
          4.8,
          4.6,
          4.6,
          4.9,
          4.9,
          4.6,
          4.7,
          4.9,
          4.5,
          4.7,
          4.7,
          4.7,
          4.8,
          4.6,
          4.6,
          4.8,
          4.8,
          3.3,
          4.3,
          4.8,
          4.8,
          4.8,
          4,
          4.7,
          4.7,
          4.7,
          4.7,
          4.8,
          4.1,
          4.1,
          4.7,
          4.7,
          4.7,
          4.7,
          4.4,
          4.4,
          4.8,
          4.8,
          3.9,
          3.9,
          4.4,
          4.4,
          4.4,
          4.5,
          4.7,
          4.3,
          4.6,
          4.8,
          4.8,
          4.8,
          4.8,
          4.8,
          4.8,
          4.7,
          4.7,
          4.7,
          4.8,
          4.8,
          4.8,
          4.8,
          4.9,
          4.4,
          4.8,
          4.2,
          4.8,
          4.7,
          4.5,
          4.8,
          4.8,
          4.8,
          4.3,
          4.8,
          4.8,
          4.3,
          4.3,
          4.6,
          4.8,
          4.6,
          4.6,
          4.6,
          4.5,
          4.8,
          4.7,
          4.7,
          4.4,
          4.7,
          4.8,
          4.9,
          4.9,
          4.9,
          4.9,
          4.9,
          4.9,
          4.9,
          4.9,
          4.9,
          4.9,
          4.9,
          4.8,
          4.8,
          4.5,
          4.8,
          4.8,
          4.8,
          4.8,
          4.8,
          4.8,
          4.7,
          4.5,
          4.3,
          4.8,
          4.5,
          4.7,
          4.8,
          4.8,
          4.8,
          4.5,
          4.8,
          4.8,
          4.8,
          4.8,
          4.8,
          4.9
         ],
         "xaxis": "x",
         "y": [
          2052,
          21424,
          12643,
          19735,
          19699,
          23848,
          23848,
          5153,
          36348,
          36348,
          6310,
          12159,
          9769,
          14344,
          14344,
          4505,
          22614,
          22614,
          22614,
          6143,
          4866,
          4866,
          1541,
          1924,
          2094,
          10922,
          10922,
          10922,
          10922,
          6812,
          3837,
          6540,
          27098,
          27098,
          17684,
          15845,
          3181,
          5062,
          4786,
          7235,
          7235,
          12619,
          9089,
          5470,
          5118,
          5505,
          5505,
          10721,
          10721,
          4370,
          23631,
          20262,
          47265,
          47265,
          13964,
          3642,
          5594,
          5594,
          5594,
          14038,
          14038,
          14038,
          14038,
          14038,
          14982,
          9568,
          57271,
          57271,
          57271,
          8837,
          8837,
          8837,
          7038,
          7038,
          25624,
          19622,
          23973,
          7758,
          3146,
          10052,
          13471,
          1320,
          16643,
          16643,
          7153,
          29651,
          5299,
          978,
          4748,
          11881,
          1467,
          1884,
          25706,
          8491,
          18613,
          18613,
          26741,
          26741,
          26741,
          5680,
          21834,
          21834,
          21834,
          21834,
          21834,
          21834,
          21834,
          21834,
          6169,
          4519,
          18904,
          21930,
          548,
          16990,
          16990,
          16990,
          3503,
          4757,
          22536,
          22536,
          7150,
          3836,
          3619,
          973,
          9382,
          23114,
          35799,
          11813,
          11813,
          6600,
          23148,
          23148,
          8081,
          8081,
          9372,
          3523,
          8922,
          8922,
          8922,
          1859,
          50482,
          50482,
          50482,
          50482,
          5836,
          79446,
          79446,
          7747,
          7747,
          7251,
          7251,
          10559,
          10559,
          5249,
          5249,
          33844,
          33844,
          11616,
          11616,
          11616,
          13609,
          8587,
          29442,
          11098,
          9947,
          13871,
          13871,
          13871,
          13871,
          6982,
          32122,
          32122,
          32122,
          16949,
          16949,
          4628,
          4628,
          5396,
          6222,
          4506,
          8747,
          6247,
          39459,
          10101,
          5898,
          49288,
          49288,
          3759,
          9784,
          9784,
          10191,
          14493,
          2186,
          2091,
          19720,
          19720,
          2122,
          27536,
          4290,
          6377,
          1463,
          3759,
          3801,
          3796,
          19546,
          19546,
          19546,
          19546,
          19546,
          19546,
          19546,
          8842,
          8842,
          8842,
          8842,
          30183,
          30183,
          7932,
          26234,
          26234,
          26234,
          26234,
          26234,
          2282,
          11676,
          2586,
          6740,
          3829,
          8958,
          1873,
          8170,
          87841,
          9967,
          10760,
          21625,
          21625,
          21625,
          21625,
          21625,
          9413
         ],
         "yaxis": "y"
        }
       ],
       "layout": {
        "legend": {
         "title": {
          "text": "Genre"
         },
         "tracegroupgap": 0
        },
        "template": {
         "data": {
          "bar": [
           {
            "error_x": {
             "color": "#2a3f5f"
            },
            "error_y": {
             "color": "#2a3f5f"
            },
            "marker": {
             "line": {
              "color": "#E5ECF6",
              "width": 0.5
             }
            },
            "type": "bar"
           }
          ],
          "barpolar": [
           {
            "marker": {
             "line": {
              "color": "#E5ECF6",
              "width": 0.5
             }
            },
            "type": "barpolar"
           }
          ],
          "carpet": [
           {
            "aaxis": {
             "endlinecolor": "#2a3f5f",
             "gridcolor": "white",
             "linecolor": "white",
             "minorgridcolor": "white",
             "startlinecolor": "#2a3f5f"
            },
            "baxis": {
             "endlinecolor": "#2a3f5f",
             "gridcolor": "white",
             "linecolor": "white",
             "minorgridcolor": "white",
             "startlinecolor": "#2a3f5f"
            },
            "type": "carpet"
           }
          ],
          "choropleth": [
           {
            "colorbar": {
             "outlinewidth": 0,
             "ticks": ""
            },
            "type": "choropleth"
           }
          ],
          "contour": [
           {
            "colorbar": {
             "outlinewidth": 0,
             "ticks": ""
            },
            "colorscale": [
             [
              0,
              "#0d0887"
             ],
             [
              0.1111111111111111,
              "#46039f"
             ],
             [
              0.2222222222222222,
              "#7201a8"
             ],
             [
              0.3333333333333333,
              "#9c179e"
             ],
             [
              0.4444444444444444,
              "#bd3786"
             ],
             [
              0.5555555555555556,
              "#d8576b"
             ],
             [
              0.6666666666666666,
              "#ed7953"
             ],
             [
              0.7777777777777778,
              "#fb9f3a"
             ],
             [
              0.8888888888888888,
              "#fdca26"
             ],
             [
              1,
              "#f0f921"
             ]
            ],
            "type": "contour"
           }
          ],
          "contourcarpet": [
           {
            "colorbar": {
             "outlinewidth": 0,
             "ticks": ""
            },
            "type": "contourcarpet"
           }
          ],
          "heatmap": [
           {
            "colorbar": {
             "outlinewidth": 0,
             "ticks": ""
            },
            "colorscale": [
             [
              0,
              "#0d0887"
             ],
             [
              0.1111111111111111,
              "#46039f"
             ],
             [
              0.2222222222222222,
              "#7201a8"
             ],
             [
              0.3333333333333333,
              "#9c179e"
             ],
             [
              0.4444444444444444,
              "#bd3786"
             ],
             [
              0.5555555555555556,
              "#d8576b"
             ],
             [
              0.6666666666666666,
              "#ed7953"
             ],
             [
              0.7777777777777778,
              "#fb9f3a"
             ],
             [
              0.8888888888888888,
              "#fdca26"
             ],
             [
              1,
              "#f0f921"
             ]
            ],
            "type": "heatmap"
           }
          ],
          "heatmapgl": [
           {
            "colorbar": {
             "outlinewidth": 0,
             "ticks": ""
            },
            "colorscale": [
             [
              0,
              "#0d0887"
             ],
             [
              0.1111111111111111,
              "#46039f"
             ],
             [
              0.2222222222222222,
              "#7201a8"
             ],
             [
              0.3333333333333333,
              "#9c179e"
             ],
             [
              0.4444444444444444,
              "#bd3786"
             ],
             [
              0.5555555555555556,
              "#d8576b"
             ],
             [
              0.6666666666666666,
              "#ed7953"
             ],
             [
              0.7777777777777778,
              "#fb9f3a"
             ],
             [
              0.8888888888888888,
              "#fdca26"
             ],
             [
              1,
              "#f0f921"
             ]
            ],
            "type": "heatmapgl"
           }
          ],
          "histogram": [
           {
            "marker": {
             "colorbar": {
              "outlinewidth": 0,
              "ticks": ""
             }
            },
            "type": "histogram"
           }
          ],
          "histogram2d": [
           {
            "colorbar": {
             "outlinewidth": 0,
             "ticks": ""
            },
            "colorscale": [
             [
              0,
              "#0d0887"
             ],
             [
              0.1111111111111111,
              "#46039f"
             ],
             [
              0.2222222222222222,
              "#7201a8"
             ],
             [
              0.3333333333333333,
              "#9c179e"
             ],
             [
              0.4444444444444444,
              "#bd3786"
             ],
             [
              0.5555555555555556,
              "#d8576b"
             ],
             [
              0.6666666666666666,
              "#ed7953"
             ],
             [
              0.7777777777777778,
              "#fb9f3a"
             ],
             [
              0.8888888888888888,
              "#fdca26"
             ],
             [
              1,
              "#f0f921"
             ]
            ],
            "type": "histogram2d"
           }
          ],
          "histogram2dcontour": [
           {
            "colorbar": {
             "outlinewidth": 0,
             "ticks": ""
            },
            "colorscale": [
             [
              0,
              "#0d0887"
             ],
             [
              0.1111111111111111,
              "#46039f"
             ],
             [
              0.2222222222222222,
              "#7201a8"
             ],
             [
              0.3333333333333333,
              "#9c179e"
             ],
             [
              0.4444444444444444,
              "#bd3786"
             ],
             [
              0.5555555555555556,
              "#d8576b"
             ],
             [
              0.6666666666666666,
              "#ed7953"
             ],
             [
              0.7777777777777778,
              "#fb9f3a"
             ],
             [
              0.8888888888888888,
              "#fdca26"
             ],
             [
              1,
              "#f0f921"
             ]
            ],
            "type": "histogram2dcontour"
           }
          ],
          "mesh3d": [
           {
            "colorbar": {
             "outlinewidth": 0,
             "ticks": ""
            },
            "type": "mesh3d"
           }
          ],
          "parcoords": [
           {
            "line": {
             "colorbar": {
              "outlinewidth": 0,
              "ticks": ""
             }
            },
            "type": "parcoords"
           }
          ],
          "pie": [
           {
            "automargin": true,
            "type": "pie"
           }
          ],
          "scatter": [
           {
            "marker": {
             "colorbar": {
              "outlinewidth": 0,
              "ticks": ""
             }
            },
            "type": "scatter"
           }
          ],
          "scatter3d": [
           {
            "line": {
             "colorbar": {
              "outlinewidth": 0,
              "ticks": ""
             }
            },
            "marker": {
             "colorbar": {
              "outlinewidth": 0,
              "ticks": ""
             }
            },
            "type": "scatter3d"
           }
          ],
          "scattercarpet": [
           {
            "marker": {
             "colorbar": {
              "outlinewidth": 0,
              "ticks": ""
             }
            },
            "type": "scattercarpet"
           }
          ],
          "scattergeo": [
           {
            "marker": {
             "colorbar": {
              "outlinewidth": 0,
              "ticks": ""
             }
            },
            "type": "scattergeo"
           }
          ],
          "scattergl": [
           {
            "marker": {
             "colorbar": {
              "outlinewidth": 0,
              "ticks": ""
             }
            },
            "type": "scattergl"
           }
          ],
          "scattermapbox": [
           {
            "marker": {
             "colorbar": {
              "outlinewidth": 0,
              "ticks": ""
             }
            },
            "type": "scattermapbox"
           }
          ],
          "scatterpolar": [
           {
            "marker": {
             "colorbar": {
              "outlinewidth": 0,
              "ticks": ""
             }
            },
            "type": "scatterpolar"
           }
          ],
          "scatterpolargl": [
           {
            "marker": {
             "colorbar": {
              "outlinewidth": 0,
              "ticks": ""
             }
            },
            "type": "scatterpolargl"
           }
          ],
          "scatterternary": [
           {
            "marker": {
             "colorbar": {
              "outlinewidth": 0,
              "ticks": ""
             }
            },
            "type": "scatterternary"
           }
          ],
          "surface": [
           {
            "colorbar": {
             "outlinewidth": 0,
             "ticks": ""
            },
            "colorscale": [
             [
              0,
              "#0d0887"
             ],
             [
              0.1111111111111111,
              "#46039f"
             ],
             [
              0.2222222222222222,
              "#7201a8"
             ],
             [
              0.3333333333333333,
              "#9c179e"
             ],
             [
              0.4444444444444444,
              "#bd3786"
             ],
             [
              0.5555555555555556,
              "#d8576b"
             ],
             [
              0.6666666666666666,
              "#ed7953"
             ],
             [
              0.7777777777777778,
              "#fb9f3a"
             ],
             [
              0.8888888888888888,
              "#fdca26"
             ],
             [
              1,
              "#f0f921"
             ]
            ],
            "type": "surface"
           }
          ],
          "table": [
           {
            "cells": {
             "fill": {
              "color": "#EBF0F8"
             },
             "line": {
              "color": "white"
             }
            },
            "header": {
             "fill": {
              "color": "#C8D4E3"
             },
             "line": {
              "color": "white"
             }
            },
            "type": "table"
           }
          ]
         },
         "layout": {
          "annotationdefaults": {
           "arrowcolor": "#2a3f5f",
           "arrowhead": 0,
           "arrowwidth": 1
          },
          "autotypenumbers": "strict",
          "coloraxis": {
           "colorbar": {
            "outlinewidth": 0,
            "ticks": ""
           }
          },
          "colorscale": {
           "diverging": [
            [
             0,
             "#8e0152"
            ],
            [
             0.1,
             "#c51b7d"
            ],
            [
             0.2,
             "#de77ae"
            ],
            [
             0.3,
             "#f1b6da"
            ],
            [
             0.4,
             "#fde0ef"
            ],
            [
             0.5,
             "#f7f7f7"
            ],
            [
             0.6,
             "#e6f5d0"
            ],
            [
             0.7,
             "#b8e186"
            ],
            [
             0.8,
             "#7fbc41"
            ],
            [
             0.9,
             "#4d9221"
            ],
            [
             1,
             "#276419"
            ]
           ],
           "sequential": [
            [
             0,
             "#0d0887"
            ],
            [
             0.1111111111111111,
             "#46039f"
            ],
            [
             0.2222222222222222,
             "#7201a8"
            ],
            [
             0.3333333333333333,
             "#9c179e"
            ],
            [
             0.4444444444444444,
             "#bd3786"
            ],
            [
             0.5555555555555556,
             "#d8576b"
            ],
            [
             0.6666666666666666,
             "#ed7953"
            ],
            [
             0.7777777777777778,
             "#fb9f3a"
            ],
            [
             0.8888888888888888,
             "#fdca26"
            ],
            [
             1,
             "#f0f921"
            ]
           ],
           "sequentialminus": [
            [
             0,
             "#0d0887"
            ],
            [
             0.1111111111111111,
             "#46039f"
            ],
            [
             0.2222222222222222,
             "#7201a8"
            ],
            [
             0.3333333333333333,
             "#9c179e"
            ],
            [
             0.4444444444444444,
             "#bd3786"
            ],
            [
             0.5555555555555556,
             "#d8576b"
            ],
            [
             0.6666666666666666,
             "#ed7953"
            ],
            [
             0.7777777777777778,
             "#fb9f3a"
            ],
            [
             0.8888888888888888,
             "#fdca26"
            ],
            [
             1,
             "#f0f921"
            ]
           ]
          },
          "colorway": [
           "#636efa",
           "#EF553B",
           "#00cc96",
           "#ab63fa",
           "#FFA15A",
           "#19d3f3",
           "#FF6692",
           "#B6E880",
           "#FF97FF",
           "#FECB52"
          ],
          "font": {
           "color": "#2a3f5f"
          },
          "geo": {
           "bgcolor": "white",
           "lakecolor": "white",
           "landcolor": "#E5ECF6",
           "showlakes": true,
           "showland": true,
           "subunitcolor": "white"
          },
          "hoverlabel": {
           "align": "left"
          },
          "hovermode": "closest",
          "mapbox": {
           "style": "light"
          },
          "paper_bgcolor": "white",
          "plot_bgcolor": "#E5ECF6",
          "polar": {
           "angularaxis": {
            "gridcolor": "white",
            "linecolor": "white",
            "ticks": ""
           },
           "bgcolor": "#E5ECF6",
           "radialaxis": {
            "gridcolor": "white",
            "linecolor": "white",
            "ticks": ""
           }
          },
          "scene": {
           "xaxis": {
            "backgroundcolor": "#E5ECF6",
            "gridcolor": "white",
            "gridwidth": 2,
            "linecolor": "white",
            "showbackground": true,
            "ticks": "",
            "zerolinecolor": "white"
           },
           "yaxis": {
            "backgroundcolor": "#E5ECF6",
            "gridcolor": "white",
            "gridwidth": 2,
            "linecolor": "white",
            "showbackground": true,
            "ticks": "",
            "zerolinecolor": "white"
           },
           "zaxis": {
            "backgroundcolor": "#E5ECF6",
            "gridcolor": "white",
            "gridwidth": 2,
            "linecolor": "white",
            "showbackground": true,
            "ticks": "",
            "zerolinecolor": "white"
           }
          },
          "shapedefaults": {
           "line": {
            "color": "#2a3f5f"
           }
          },
          "ternary": {
           "aaxis": {
            "gridcolor": "white",
            "linecolor": "white",
            "ticks": ""
           },
           "baxis": {
            "gridcolor": "white",
            "linecolor": "white",
            "ticks": ""
           },
           "bgcolor": "#E5ECF6",
           "caxis": {
            "gridcolor": "white",
            "linecolor": "white",
            "ticks": ""
           }
          },
          "title": {
           "x": 0.05
          },
          "xaxis": {
           "automargin": true,
           "gridcolor": "white",
           "linecolor": "white",
           "ticks": "",
           "title": {
            "standoff": 15
           },
           "zerolinecolor": "white",
           "zerolinewidth": 2
          },
          "yaxis": {
           "automargin": true,
           "gridcolor": "white",
           "linecolor": "white",
           "ticks": "",
           "title": {
            "standoff": 15
           },
           "zerolinecolor": "white",
           "zerolinewidth": 2
          }
         }
        },
        "title": {
         "text": "Popularity of Books"
        },
        "xaxis": {
         "anchor": "y",
         "domain": [
          0,
          1
         ],
         "title": {
          "text": "User Rating"
         }
        },
        "yaxis": {
         "anchor": "x",
         "domain": [
          0,
          1
         ],
         "title": {
          "text": "Reviews"
         }
        }
       }
      },
      "text/html": [
       "<div>                            <div id=\"1a16ad14-3d20-4cf9-aa26-29b37a59727e\" class=\"plotly-graph-div\" style=\"height:525px; width:100%;\"></div>            <script type=\"text/javascript\">                require([\"plotly\"], function(Plotly) {                    window.PLOTLYENV=window.PLOTLYENV || {};                                    if (document.getElementById(\"1a16ad14-3d20-4cf9-aa26-29b37a59727e\")) {                    Plotly.newPlot(                        \"1a16ad14-3d20-4cf9-aa26-29b37a59727e\",                        [{\"hovertemplate\": \"Genre=Non Fiction<br>User Rating=%{x}<br>Reviews=%{y}<extra></extra>\", \"legendgroup\": \"Non Fiction\", \"marker\": {\"color\": \"#636efa\", \"symbol\": \"circle\"}, \"mode\": \"markers\", \"name\": \"Non Fiction\", \"orientation\": \"v\", \"showlegend\": true, \"type\": \"scatter\", \"x\": [4.7, 4.7, 4.8, 4.7, 4.6, 4.6, 4.6, 4.5, 4.6, 4.4, 4.5, 4.8, 4.6, 4.6, 4.7, 4.2, 4.6, 4.6, 4.8, 4.7, 4.8, 4.8, 4.8, 4.7, 4.7, 4.7, 4.5, 4.6, 4.8, 4.5, 4.7, 4.7, 4.7, 4.7, 4.8, 4.8, 4.8, 4.4, 4.6, 4.6, 4.5, 4.5, 4.6, 4.6, 4.6, 4.5, 4.5, 4.3, 4.5, 4.5, 4.7, 4.7, 4.7, 4.4, 4.2, 4.7, 4.7, 4.7, 4.7, 4.7, 4.4, 4.4, 4.5, 4.6, 4.6, 4.6, 4.6, 4.6, 4.6, 4.6, 4.5, 4.5, 4.5, 4.5, 4.6, 4.8, 4.9, 4.8, 4.7, 4.8, 4.7, 4.7, 4.4, 4.4, 4.8, 4.7, 4.7, 4.7, 4.7, 4.7, 4.3, 4.8, 4.8, 4.9, 4.7, 4.8, 4.4, 4.4, 4.4, 4.8, 4.9, 4.9, 4.9, 4.9, 4.9, 4.9, 4.6, 4.5, 4.6, 4.7, 4.7, 4.6, 4.6, 4.8, 4.8, 4.5, 4.5, 4.5, 4.6, 4.6, 4.6, 4.6, 4.6, 4.5, 4.5, 4.4, 4.8, 4.5, 4.2, 4.8, 4.5, 4.7, 4.8, 4.7, 4.7, 4.7, 4.4, 4.6, 4.6, 4.6, 4.8, 4.8, 4.7, 4.6, 4.9, 4.6, 4.6, 4.5, 4.6, 4.6, 4.7, 4.7, 4.3, 4.3, 4.5, 4.5, 4.5, 4.5, 4.5, 4.5, 4.5, 4.5, 4.5, 4.5, 4.6, 4.6, 4.7, 4.7, 4.8, 4.8, 4.8, 4.8, 4.7, 4.7, 4.8, 4.1, 4.6, 4.6, 4.6, 4.0, 4.0, 4.0, 4.0, 4.0, 4.0, 4.0, 4.0, 4.0, 4.5, 4.6, 4.4, 4.4, 4.3, 4.3, 4.7, 4.7, 4.7, 4.7, 4.7, 4.8, 4.8, 4.8, 4.8, 4.8, 4.8, 4.6, 4.6, 4.6, 4.6, 4.7, 4.7, 4.7, 4.6, 4.7, 4.2, 4.8, 4.7, 4.8, 4.8, 4.7, 4.3, 4.3, 4.8, 4.4, 4.1, 4.6, 4.6, 4.6, 4.6, 4.6, 4.6, 4.7, 4.7, 4.7, 4.7, 4.7, 4.7, 4.7, 4.7, 4.7, 4.3, 4.3, 4.7, 4.4, 4.4, 4.5, 4.5, 4.5, 4.5, 4.8, 4.9, 4.6, 4.4, 4.4, 4.4, 4.4, 4.4, 4.3, 4.8, 4.8, 4.8, 4.5, 4.4, 4.6, 4.6, 4.6, 4.6, 4.6, 4.7, 4.4, 4.7, 4.7, 4.6, 4.6, 4.6, 4.7, 4.7, 4.6, 4.6, 4.5, 4.3, 4.3, 4.6, 4.6, 4.6, 4.6, 4.3, 4.6, 4.5, 4.8, 4.8, 4.8, 4.8, 4.8, 4.9, 4.8, 4.7, 4.6, 4.7, 4.4, 4.4, 4.4, 4.8, 4.6, 4.4, 4.2, 4.7, 4.7, 4.7, 4.7], \"xaxis\": \"x\", \"y\": [17350, 18979, 7665, 5983, 460, 4149, 5013, 2313, 2925, 2951, 2426, 9198, 15921, 798, 9374, 491, 5360, 1909, 1296, 615, 61133, 61133, 11113, 10070, 10070, 3729, 471, 10369, 16244, 2884, 4761, 1542, 1542, 1542, 4022, 3871, 1329, 4642, 2137, 1651, 6679, 6679, 7955, 37, 2134, 2525, 720, 956, 6346, 6346, 28729, 28729, 5413, 6042, 13677, 17323, 17323, 17323, 17323, 17323, 1555, 1215, 408, 4799, 7660, 22288, 22288, 1365, 1636, 10141, 3457, 3457, 3457, 3457, 5972, 5476, 5867, 4148, 3564, 1930, 15779, 15779, 15526, 15526, 3776, 25001, 25001, 25001, 25001, 25001, 5272, 3490, 3490, 2812, 4896, 9737, 4571, 7396, 7396, 7062, 19576, 19576, 19576, 19576, 19576, 19576, 8393, 11391, 8634, 9342, 9342, 10927, 5235, 8916, 2507, 3673, 3673, 3673, 6990, 6990, 6990, 6990, 6990, 6132, 3014, 7550, 3828, 2752, 1649, 9867, 1386, 10199, 2926, 17739, 17739, 17739, 3113, 5542, 5542, 5542, 5347, 7866, 5178, 8093, 3192, 3163, 3163, 1831, 10426, 10426, 10820, 10820, 13616, 13616, 8580, 8580, 8580, 8580, 8580, 8580, 8580, 8580, 8580, 8580, 10009, 10009, 1985, 1985, 7802, 7802, 23047, 23047, 9366, 1265, 3923, 2272, 220, 7827, 7827, 5069, 5069, 5069, 5069, 5069, 5069, 5069, 5069, 5069, 1583, 1907, 637, 637, 2314, 4587, 3477, 3477, 3477, 3477, 3477, 25554, 25554, 25554, 25554, 25554, 1680, 9325, 9325, 9325, 9325, 4725, 4725, 4725, 2580, 3536, 1789, 12361, 858, 23358, 23358, 4633, 13061, 13061, 2774, 440, 2023, 3207, 3207, 3207, 3207, 3207, 803, 23308, 23308, 23308, 23308, 23308, 23308, 9289, 9289, 9289, 7368, 7368, 4028, 4247, 4247, 22641, 22641, 22641, 22641, 1655, 7861, 2744, 1201, 1201, 1201, 1201, 1201, 807, 2663, 3428, 2876, 3601, 7058, 10795, 1204, 26490, 26490, 26490, 5487, 3503, 11550, 9030, 7508, 7508, 7508, 6169, 7034, 11034, 11034, 1904, 3319, 3319, 11128, 11128, 11128, 11128, 5977, 4360, 438, 29673, 29673, 29673, 29673, 29673, 5956, 6108, 4585, 5492, 9292, 3341, 7497, 7497, 13779, 6669, 17044, 1302, 14331, 14331, 14331, 14331], \"yaxis\": \"y\"}, {\"hovertemplate\": \"Genre=Fiction<br>User Rating=%{x}<br>Reviews=%{y}<extra></extra>\", \"legendgroup\": \"Fiction\", \"marker\": {\"color\": \"#EF553B\", \"symbol\": \"circle\"}, \"mode\": \"markers\", \"name\": \"Fiction\", \"orientation\": \"v\", \"showlegend\": true, \"type\": \"scatter\", \"x\": [4.6, 4.7, 4.4, 4.7, 4.7, 4.6, 4.6, 4.5, 4.6, 4.6, 3.9, 4.3, 4.6, 4.9, 4.9, 4.8, 4.7, 4.7, 4.7, 4.3, 4.6, 4.6, 4.6, 4.3, 4.2, 4.8, 4.8, 4.8, 4.8, 4.8, 4.8, 4.8, 4.6, 4.6, 4.5, 4.7, 4.8, 4.9, 4.9, 4.9, 4.9, 4.9, 4.9, 4.9, 4.8, 4.7, 4.7, 4.6, 4.6, 4.7, 4.4, 4.5, 3.8, 3.8, 4.5, 4.7, 4.6, 4.6, 4.6, 4.8, 4.8, 4.8, 4.8, 4.8, 3.6, 4.8, 4.0, 4.0, 4.0, 4.8, 4.8, 4.8, 4.9, 4.9, 4.4, 4.9, 4.0, 4.9, 4.9, 4.9, 4.8, 4.6, 4.8, 4.8, 4.3, 4.1, 4.6, 4.6, 4.5, 4.9, 4.1, 4.9, 4.5, 4.5, 4.8, 4.8, 4.5, 4.5, 4.5, 4.6, 4.9, 4.9, 4.9, 4.9, 4.9, 4.9, 4.9, 4.9, 4.8, 4.2, 4.3, 4.6, 4.8, 4.8, 4.8, 4.8, 4.7, 4.8, 4.6, 4.6, 4.9, 4.9, 4.6, 4.7, 4.9, 4.5, 4.7, 4.7, 4.7, 4.8, 4.6, 4.6, 4.8, 4.8, 3.3, 4.3, 4.8, 4.8, 4.8, 4.0, 4.7, 4.7, 4.7, 4.7, 4.8, 4.1, 4.1, 4.7, 4.7, 4.7, 4.7, 4.4, 4.4, 4.8, 4.8, 3.9, 3.9, 4.4, 4.4, 4.4, 4.5, 4.7, 4.3, 4.6, 4.8, 4.8, 4.8, 4.8, 4.8, 4.8, 4.7, 4.7, 4.7, 4.8, 4.8, 4.8, 4.8, 4.9, 4.4, 4.8, 4.2, 4.8, 4.7, 4.5, 4.8, 4.8, 4.8, 4.3, 4.8, 4.8, 4.3, 4.3, 4.6, 4.8, 4.6, 4.6, 4.6, 4.5, 4.8, 4.7, 4.7, 4.4, 4.7, 4.8, 4.9, 4.9, 4.9, 4.9, 4.9, 4.9, 4.9, 4.9, 4.9, 4.9, 4.9, 4.8, 4.8, 4.5, 4.8, 4.8, 4.8, 4.8, 4.8, 4.8, 4.7, 4.5, 4.3, 4.8, 4.5, 4.7, 4.8, 4.8, 4.8, 4.5, 4.8, 4.8, 4.8, 4.8, 4.8, 4.9], \"xaxis\": \"x\", \"y\": [2052, 21424, 12643, 19735, 19699, 23848, 23848, 5153, 36348, 36348, 6310, 12159, 9769, 14344, 14344, 4505, 22614, 22614, 22614, 6143, 4866, 4866, 1541, 1924, 2094, 10922, 10922, 10922, 10922, 6812, 3837, 6540, 27098, 27098, 17684, 15845, 3181, 5062, 4786, 7235, 7235, 12619, 9089, 5470, 5118, 5505, 5505, 10721, 10721, 4370, 23631, 20262, 47265, 47265, 13964, 3642, 5594, 5594, 5594, 14038, 14038, 14038, 14038, 14038, 14982, 9568, 57271, 57271, 57271, 8837, 8837, 8837, 7038, 7038, 25624, 19622, 23973, 7758, 3146, 10052, 13471, 1320, 16643, 16643, 7153, 29651, 5299, 978, 4748, 11881, 1467, 1884, 25706, 8491, 18613, 18613, 26741, 26741, 26741, 5680, 21834, 21834, 21834, 21834, 21834, 21834, 21834, 21834, 6169, 4519, 18904, 21930, 548, 16990, 16990, 16990, 3503, 4757, 22536, 22536, 7150, 3836, 3619, 973, 9382, 23114, 35799, 11813, 11813, 6600, 23148, 23148, 8081, 8081, 9372, 3523, 8922, 8922, 8922, 1859, 50482, 50482, 50482, 50482, 5836, 79446, 79446, 7747, 7747, 7251, 7251, 10559, 10559, 5249, 5249, 33844, 33844, 11616, 11616, 11616, 13609, 8587, 29442, 11098, 9947, 13871, 13871, 13871, 13871, 6982, 32122, 32122, 32122, 16949, 16949, 4628, 4628, 5396, 6222, 4506, 8747, 6247, 39459, 10101, 5898, 49288, 49288, 3759, 9784, 9784, 10191, 14493, 2186, 2091, 19720, 19720, 2122, 27536, 4290, 6377, 1463, 3759, 3801, 3796, 19546, 19546, 19546, 19546, 19546, 19546, 19546, 8842, 8842, 8842, 8842, 30183, 30183, 7932, 26234, 26234, 26234, 26234, 26234, 2282, 11676, 2586, 6740, 3829, 8958, 1873, 8170, 87841, 9967, 10760, 21625, 21625, 21625, 21625, 21625, 9413], \"yaxis\": \"y\"}],                        {\"legend\": {\"title\": {\"text\": \"Genre\"}, \"tracegroupgap\": 0}, \"template\": {\"data\": {\"bar\": [{\"error_x\": {\"color\": \"#2a3f5f\"}, \"error_y\": {\"color\": \"#2a3f5f\"}, \"marker\": {\"line\": {\"color\": \"#E5ECF6\", \"width\": 0.5}}, \"type\": \"bar\"}], \"barpolar\": [{\"marker\": {\"line\": {\"color\": \"#E5ECF6\", \"width\": 0.5}}, \"type\": \"barpolar\"}], \"carpet\": [{\"aaxis\": {\"endlinecolor\": \"#2a3f5f\", \"gridcolor\": \"white\", \"linecolor\": \"white\", \"minorgridcolor\": \"white\", \"startlinecolor\": \"#2a3f5f\"}, \"baxis\": {\"endlinecolor\": \"#2a3f5f\", \"gridcolor\": \"white\", \"linecolor\": \"white\", \"minorgridcolor\": \"white\", \"startlinecolor\": \"#2a3f5f\"}, \"type\": \"carpet\"}], \"choropleth\": [{\"colorbar\": {\"outlinewidth\": 0, \"ticks\": \"\"}, \"type\": \"choropleth\"}], \"contour\": [{\"colorbar\": {\"outlinewidth\": 0, \"ticks\": \"\"}, \"colorscale\": [[0.0, \"#0d0887\"], [0.1111111111111111, \"#46039f\"], [0.2222222222222222, \"#7201a8\"], [0.3333333333333333, \"#9c179e\"], [0.4444444444444444, \"#bd3786\"], [0.5555555555555556, \"#d8576b\"], [0.6666666666666666, \"#ed7953\"], [0.7777777777777778, \"#fb9f3a\"], [0.8888888888888888, \"#fdca26\"], [1.0, \"#f0f921\"]], \"type\": \"contour\"}], \"contourcarpet\": [{\"colorbar\": {\"outlinewidth\": 0, \"ticks\": \"\"}, \"type\": \"contourcarpet\"}], \"heatmap\": [{\"colorbar\": {\"outlinewidth\": 0, \"ticks\": \"\"}, \"colorscale\": [[0.0, \"#0d0887\"], [0.1111111111111111, \"#46039f\"], [0.2222222222222222, \"#7201a8\"], [0.3333333333333333, \"#9c179e\"], [0.4444444444444444, \"#bd3786\"], [0.5555555555555556, \"#d8576b\"], [0.6666666666666666, \"#ed7953\"], [0.7777777777777778, \"#fb9f3a\"], [0.8888888888888888, \"#fdca26\"], [1.0, \"#f0f921\"]], \"type\": \"heatmap\"}], \"heatmapgl\": [{\"colorbar\": {\"outlinewidth\": 0, \"ticks\": \"\"}, \"colorscale\": [[0.0, \"#0d0887\"], [0.1111111111111111, \"#46039f\"], [0.2222222222222222, \"#7201a8\"], [0.3333333333333333, \"#9c179e\"], [0.4444444444444444, \"#bd3786\"], [0.5555555555555556, \"#d8576b\"], [0.6666666666666666, \"#ed7953\"], [0.7777777777777778, \"#fb9f3a\"], [0.8888888888888888, \"#fdca26\"], [1.0, \"#f0f921\"]], \"type\": \"heatmapgl\"}], \"histogram\": [{\"marker\": {\"colorbar\": {\"outlinewidth\": 0, \"ticks\": \"\"}}, \"type\": \"histogram\"}], \"histogram2d\": [{\"colorbar\": {\"outlinewidth\": 0, \"ticks\": \"\"}, \"colorscale\": [[0.0, \"#0d0887\"], [0.1111111111111111, \"#46039f\"], [0.2222222222222222, \"#7201a8\"], [0.3333333333333333, \"#9c179e\"], [0.4444444444444444, \"#bd3786\"], [0.5555555555555556, \"#d8576b\"], [0.6666666666666666, \"#ed7953\"], [0.7777777777777778, \"#fb9f3a\"], [0.8888888888888888, \"#fdca26\"], [1.0, \"#f0f921\"]], \"type\": \"histogram2d\"}], \"histogram2dcontour\": [{\"colorbar\": {\"outlinewidth\": 0, \"ticks\": \"\"}, \"colorscale\": [[0.0, \"#0d0887\"], [0.1111111111111111, \"#46039f\"], [0.2222222222222222, \"#7201a8\"], [0.3333333333333333, \"#9c179e\"], [0.4444444444444444, \"#bd3786\"], [0.5555555555555556, \"#d8576b\"], [0.6666666666666666, \"#ed7953\"], [0.7777777777777778, \"#fb9f3a\"], [0.8888888888888888, \"#fdca26\"], [1.0, \"#f0f921\"]], \"type\": \"histogram2dcontour\"}], \"mesh3d\": [{\"colorbar\": {\"outlinewidth\": 0, \"ticks\": \"\"}, \"type\": \"mesh3d\"}], \"parcoords\": [{\"line\": {\"colorbar\": {\"outlinewidth\": 0, \"ticks\": \"\"}}, \"type\": \"parcoords\"}], \"pie\": [{\"automargin\": true, \"type\": \"pie\"}], \"scatter\": [{\"marker\": {\"colorbar\": {\"outlinewidth\": 0, \"ticks\": \"\"}}, \"type\": \"scatter\"}], \"scatter3d\": [{\"line\": {\"colorbar\": {\"outlinewidth\": 0, \"ticks\": \"\"}}, \"marker\": {\"colorbar\": {\"outlinewidth\": 0, \"ticks\": \"\"}}, \"type\": \"scatter3d\"}], \"scattercarpet\": [{\"marker\": {\"colorbar\": {\"outlinewidth\": 0, \"ticks\": \"\"}}, \"type\": \"scattercarpet\"}], \"scattergeo\": [{\"marker\": {\"colorbar\": {\"outlinewidth\": 0, \"ticks\": \"\"}}, \"type\": \"scattergeo\"}], \"scattergl\": [{\"marker\": {\"colorbar\": {\"outlinewidth\": 0, \"ticks\": \"\"}}, \"type\": \"scattergl\"}], \"scattermapbox\": [{\"marker\": {\"colorbar\": {\"outlinewidth\": 0, \"ticks\": \"\"}}, \"type\": \"scattermapbox\"}], \"scatterpolar\": [{\"marker\": {\"colorbar\": {\"outlinewidth\": 0, \"ticks\": \"\"}}, \"type\": \"scatterpolar\"}], \"scatterpolargl\": [{\"marker\": {\"colorbar\": {\"outlinewidth\": 0, \"ticks\": \"\"}}, \"type\": \"scatterpolargl\"}], \"scatterternary\": [{\"marker\": {\"colorbar\": {\"outlinewidth\": 0, \"ticks\": \"\"}}, \"type\": \"scatterternary\"}], \"surface\": [{\"colorbar\": {\"outlinewidth\": 0, \"ticks\": \"\"}, \"colorscale\": [[0.0, \"#0d0887\"], [0.1111111111111111, \"#46039f\"], [0.2222222222222222, \"#7201a8\"], [0.3333333333333333, \"#9c179e\"], [0.4444444444444444, \"#bd3786\"], [0.5555555555555556, \"#d8576b\"], [0.6666666666666666, \"#ed7953\"], [0.7777777777777778, \"#fb9f3a\"], [0.8888888888888888, \"#fdca26\"], [1.0, \"#f0f921\"]], \"type\": \"surface\"}], \"table\": [{\"cells\": {\"fill\": {\"color\": \"#EBF0F8\"}, \"line\": {\"color\": \"white\"}}, \"header\": {\"fill\": {\"color\": \"#C8D4E3\"}, \"line\": {\"color\": \"white\"}}, \"type\": \"table\"}]}, \"layout\": {\"annotationdefaults\": {\"arrowcolor\": \"#2a3f5f\", \"arrowhead\": 0, \"arrowwidth\": 1}, \"autotypenumbers\": \"strict\", \"coloraxis\": {\"colorbar\": {\"outlinewidth\": 0, \"ticks\": \"\"}}, \"colorscale\": {\"diverging\": [[0, \"#8e0152\"], [0.1, \"#c51b7d\"], [0.2, \"#de77ae\"], [0.3, \"#f1b6da\"], [0.4, \"#fde0ef\"], [0.5, \"#f7f7f7\"], [0.6, \"#e6f5d0\"], [0.7, \"#b8e186\"], [0.8, \"#7fbc41\"], [0.9, \"#4d9221\"], [1, \"#276419\"]], \"sequential\": [[0.0, \"#0d0887\"], [0.1111111111111111, \"#46039f\"], [0.2222222222222222, \"#7201a8\"], [0.3333333333333333, \"#9c179e\"], [0.4444444444444444, \"#bd3786\"], [0.5555555555555556, \"#d8576b\"], [0.6666666666666666, \"#ed7953\"], [0.7777777777777778, \"#fb9f3a\"], [0.8888888888888888, \"#fdca26\"], [1.0, \"#f0f921\"]], \"sequentialminus\": [[0.0, \"#0d0887\"], [0.1111111111111111, \"#46039f\"], [0.2222222222222222, \"#7201a8\"], [0.3333333333333333, \"#9c179e\"], [0.4444444444444444, \"#bd3786\"], [0.5555555555555556, \"#d8576b\"], [0.6666666666666666, \"#ed7953\"], [0.7777777777777778, \"#fb9f3a\"], [0.8888888888888888, \"#fdca26\"], [1.0, \"#f0f921\"]]}, \"colorway\": [\"#636efa\", \"#EF553B\", \"#00cc96\", \"#ab63fa\", \"#FFA15A\", \"#19d3f3\", \"#FF6692\", \"#B6E880\", \"#FF97FF\", \"#FECB52\"], \"font\": {\"color\": \"#2a3f5f\"}, \"geo\": {\"bgcolor\": \"white\", \"lakecolor\": \"white\", \"landcolor\": \"#E5ECF6\", \"showlakes\": true, \"showland\": true, \"subunitcolor\": \"white\"}, \"hoverlabel\": {\"align\": \"left\"}, \"hovermode\": \"closest\", \"mapbox\": {\"style\": \"light\"}, \"paper_bgcolor\": \"white\", \"plot_bgcolor\": \"#E5ECF6\", \"polar\": {\"angularaxis\": {\"gridcolor\": \"white\", \"linecolor\": \"white\", \"ticks\": \"\"}, \"bgcolor\": \"#E5ECF6\", \"radialaxis\": {\"gridcolor\": \"white\", \"linecolor\": \"white\", \"ticks\": \"\"}}, \"scene\": {\"xaxis\": {\"backgroundcolor\": \"#E5ECF6\", \"gridcolor\": \"white\", \"gridwidth\": 2, \"linecolor\": \"white\", \"showbackground\": true, \"ticks\": \"\", \"zerolinecolor\": \"white\"}, \"yaxis\": {\"backgroundcolor\": \"#E5ECF6\", \"gridcolor\": \"white\", \"gridwidth\": 2, \"linecolor\": \"white\", \"showbackground\": true, \"ticks\": \"\", \"zerolinecolor\": \"white\"}, \"zaxis\": {\"backgroundcolor\": \"#E5ECF6\", \"gridcolor\": \"white\", \"gridwidth\": 2, \"linecolor\": \"white\", \"showbackground\": true, \"ticks\": \"\", \"zerolinecolor\": \"white\"}}, \"shapedefaults\": {\"line\": {\"color\": \"#2a3f5f\"}}, \"ternary\": {\"aaxis\": {\"gridcolor\": \"white\", \"linecolor\": \"white\", \"ticks\": \"\"}, \"baxis\": {\"gridcolor\": \"white\", \"linecolor\": \"white\", \"ticks\": \"\"}, \"bgcolor\": \"#E5ECF6\", \"caxis\": {\"gridcolor\": \"white\", \"linecolor\": \"white\", \"ticks\": \"\"}}, \"title\": {\"x\": 0.05}, \"xaxis\": {\"automargin\": true, \"gridcolor\": \"white\", \"linecolor\": \"white\", \"ticks\": \"\", \"title\": {\"standoff\": 15}, \"zerolinecolor\": \"white\", \"zerolinewidth\": 2}, \"yaxis\": {\"automargin\": true, \"gridcolor\": \"white\", \"linecolor\": \"white\", \"ticks\": \"\", \"title\": {\"standoff\": 15}, \"zerolinecolor\": \"white\", \"zerolinewidth\": 2}}}, \"title\": {\"text\": \"Popularity of Books\"}, \"xaxis\": {\"anchor\": \"y\", \"domain\": [0.0, 1.0], \"title\": {\"text\": \"User Rating\"}}, \"yaxis\": {\"anchor\": \"x\", \"domain\": [0.0, 1.0], \"title\": {\"text\": \"Reviews\"}}},                        {\"responsive\": true}                    ).then(function(){\n",
       "                            \n",
       "var gd = document.getElementById('1a16ad14-3d20-4cf9-aa26-29b37a59727e');\n",
       "var x = new MutationObserver(function (mutations, observer) {{\n",
       "        var display = window.getComputedStyle(gd).display;\n",
       "        if (!display || display === 'none') {{\n",
       "            console.log([gd, 'removed!']);\n",
       "            Plotly.purge(gd);\n",
       "            observer.disconnect();\n",
       "        }}\n",
       "}});\n",
       "\n",
       "// Listen for the removal of the full notebook cells\n",
       "var notebookContainer = gd.closest('#notebook-container');\n",
       "if (notebookContainer) {{\n",
       "    x.observe(notebookContainer, {childList: true});\n",
       "}}\n",
       "\n",
       "// Listen for the clearing of the current output cell\n",
       "var outputEl = gd.closest('.output');\n",
       "if (outputEl) {{\n",
       "    x.observe(outputEl, {childList: true});\n",
       "}}\n",
       "\n",
       "                        })                };                });            </script>        </div>"
      ]
     },
     "metadata": {},
     "output_type": "display_data"
    }
   ],
   "source": [
    "fig = px.scatter(dataset, x=\"User Rating\", y=\"Reviews\", title=\"Popularity of Books\", color=\"Genre\")\n",
    "fig.show()"
   ]
  },
  {
   "cell_type": "markdown",
   "metadata": {},
   "source": [
    "According to the graph above:\n",
    "- User Rating and Number of reviews affect the popularity of the book.\n",
    "- Majority of the popular books have a Rating above *4.6*.\n",
    "- Rating of 7 books are less than 4"
   ]
  },
  {
   "cell_type": "code",
   "execution_count": null,
   "metadata": {},
   "outputs": [],
   "source": []
  }
 ],
 "metadata": {
  "kernelspec": {
   "display_name": "Python 3",
   "language": "python",
   "name": "python3"
  },
  "language_info": {
   "codemirror_mode": {
    "name": "ipython",
    "version": 3
   },
   "file_extension": ".py",
   "mimetype": "text/x-python",
   "name": "python",
   "nbconvert_exporter": "python",
   "pygments_lexer": "ipython3",
   "version": "3.8.5"
  }
 },
 "nbformat": 4,
 "nbformat_minor": 4
}
