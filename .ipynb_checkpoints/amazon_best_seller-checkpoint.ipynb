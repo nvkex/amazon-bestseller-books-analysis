{
 "cells": [
  {
   "cell_type": "markdown",
   "metadata": {},
   "source": [
    "# Amazon Top 50 Bestselling Books 2009 - 2019"
   ]
  },
  {
   "cell_type": "markdown",
   "metadata": {},
   "source": [
    "Dataset on Amazon's Top 50 bestselling books from 2009 to 2019. Contains 550 books, data has been categorized into fiction and non-fiction using Goodreads"
   ]
  },
  {
   "cell_type": "code",
   "execution_count": 32,
   "metadata": {},
   "outputs": [],
   "source": [
    "import pandas as pd\n",
    "import numpy as np\n",
    "import matplotlib.pyplot as plt\n",
    "import plotly.express as px\n",
    "import plotly.graph_objects as go"
   ]
  },
  {
   "cell_type": "markdown",
   "metadata": {},
   "source": [
    "## Reading the Data"
   ]
  },
  {
   "cell_type": "code",
   "execution_count": 4,
   "metadata": {},
   "outputs": [],
   "source": [
    "dataset = pd.read_csv('Datasets/bestsellers with categories.csv')"
   ]
  },
  {
   "cell_type": "code",
   "execution_count": 5,
   "metadata": {},
   "outputs": [
    {
     "data": {
      "text/html": [
       "<div>\n",
       "<style scoped>\n",
       "    .dataframe tbody tr th:only-of-type {\n",
       "        vertical-align: middle;\n",
       "    }\n",
       "\n",
       "    .dataframe tbody tr th {\n",
       "        vertical-align: top;\n",
       "    }\n",
       "\n",
       "    .dataframe thead th {\n",
       "        text-align: right;\n",
       "    }\n",
       "</style>\n",
       "<table border=\"1\" class=\"dataframe\">\n",
       "  <thead>\n",
       "    <tr style=\"text-align: right;\">\n",
       "      <th></th>\n",
       "      <th>Name</th>\n",
       "      <th>Author</th>\n",
       "      <th>User Rating</th>\n",
       "      <th>Reviews</th>\n",
       "      <th>Price</th>\n",
       "      <th>Year</th>\n",
       "      <th>Genre</th>\n",
       "    </tr>\n",
       "  </thead>\n",
       "  <tbody>\n",
       "    <tr>\n",
       "      <th>0</th>\n",
       "      <td>10-Day Green Smoothie Cleanse</td>\n",
       "      <td>JJ Smith</td>\n",
       "      <td>4.7</td>\n",
       "      <td>17350</td>\n",
       "      <td>8</td>\n",
       "      <td>2016</td>\n",
       "      <td>Non Fiction</td>\n",
       "    </tr>\n",
       "    <tr>\n",
       "      <th>1</th>\n",
       "      <td>11/22/63: A Novel</td>\n",
       "      <td>Stephen King</td>\n",
       "      <td>4.6</td>\n",
       "      <td>2052</td>\n",
       "      <td>22</td>\n",
       "      <td>2011</td>\n",
       "      <td>Fiction</td>\n",
       "    </tr>\n",
       "    <tr>\n",
       "      <th>2</th>\n",
       "      <td>12 Rules for Life: An Antidote to Chaos</td>\n",
       "      <td>Jordan B. Peterson</td>\n",
       "      <td>4.7</td>\n",
       "      <td>18979</td>\n",
       "      <td>15</td>\n",
       "      <td>2018</td>\n",
       "      <td>Non Fiction</td>\n",
       "    </tr>\n",
       "    <tr>\n",
       "      <th>3</th>\n",
       "      <td>1984 (Signet Classics)</td>\n",
       "      <td>George Orwell</td>\n",
       "      <td>4.7</td>\n",
       "      <td>21424</td>\n",
       "      <td>6</td>\n",
       "      <td>2017</td>\n",
       "      <td>Fiction</td>\n",
       "    </tr>\n",
       "    <tr>\n",
       "      <th>4</th>\n",
       "      <td>5,000 Awesome Facts (About Everything!) (Natio...</td>\n",
       "      <td>National Geographic Kids</td>\n",
       "      <td>4.8</td>\n",
       "      <td>7665</td>\n",
       "      <td>12</td>\n",
       "      <td>2019</td>\n",
       "      <td>Non Fiction</td>\n",
       "    </tr>\n",
       "  </tbody>\n",
       "</table>\n",
       "</div>"
      ],
      "text/plain": [
       "                                                Name  \\\n",
       "0                      10-Day Green Smoothie Cleanse   \n",
       "1                                  11/22/63: A Novel   \n",
       "2            12 Rules for Life: An Antidote to Chaos   \n",
       "3                             1984 (Signet Classics)   \n",
       "4  5,000 Awesome Facts (About Everything!) (Natio...   \n",
       "\n",
       "                     Author  User Rating  Reviews  Price  Year        Genre  \n",
       "0                  JJ Smith          4.7    17350      8  2016  Non Fiction  \n",
       "1              Stephen King          4.6     2052     22  2011      Fiction  \n",
       "2        Jordan B. Peterson          4.7    18979     15  2018  Non Fiction  \n",
       "3             George Orwell          4.7    21424      6  2017      Fiction  \n",
       "4  National Geographic Kids          4.8     7665     12  2019  Non Fiction  "
      ]
     },
     "execution_count": 5,
     "metadata": {},
     "output_type": "execute_result"
    }
   ],
   "source": [
    "dataset.head()"
   ]
  },
  {
   "cell_type": "code",
   "execution_count": 11,
   "metadata": {},
   "outputs": [
    {
     "data": {
      "text/plain": [
       "False"
      ]
     },
     "execution_count": 11,
     "metadata": {},
     "output_type": "execute_result"
    }
   ],
   "source": [
    "dataset.isnull().values.any()"
   ]
  },
  {
   "cell_type": "markdown",
   "metadata": {},
   "source": [
    "## Data Visualization"
   ]
  },
  {
   "cell_type": "markdown",
   "metadata": {},
   "source": [
    "### Popularity of the books"
   ]
  },
  {
   "cell_type": "markdown",
   "metadata": {},
   "source": [
    "- The columns *User Rating* and *Reviews* can decide the popularity of the books."
   ]
  },
  {
   "cell_type": "code",
   "execution_count": 18,
   "metadata": {},
   "outputs": [
    {
     "data": {
      "application/vnd.plotly.v1+json": {
       "config": {
        "plotlyServerURL": "https://plot.ly"
       },
       "data": [
        {
         "hovertemplate": "Genre=Non Fiction<br>User Rating=%{x}<br>Reviews=%{y}<extra></extra>",
         "legendgroup": "Non Fiction",
         "marker": {
          "color": "#636efa",
          "symbol": "circle"
         },
         "mode": "markers",
         "name": "Non Fiction",
         "orientation": "v",
         "showlegend": true,
         "type": "scatter",
         "x": [
          4.7,
          4.7,
          4.8,
          4.7,
          4.6,
          4.6,
          4.6,
          4.5,
          4.6,
          4.4,
          4.5,
          4.8,
          4.6,
          4.6,
          4.7,
          4.2,
          4.6,
          4.6,
          4.8,
          4.7,
          4.8,
          4.8,
          4.8,
          4.7,
          4.7,
          4.7,
          4.5,
          4.6,
          4.8,
          4.5,
          4.7,
          4.7,
          4.7,
          4.7,
          4.8,
          4.8,
          4.8,
          4.4,
          4.6,
          4.6,
          4.5,
          4.5,
          4.6,
          4.6,
          4.6,
          4.5,
          4.5,
          4.3,
          4.5,
          4.5,
          4.7,
          4.7,
          4.7,
          4.4,
          4.2,
          4.7,
          4.7,
          4.7,
          4.7,
          4.7,
          4.4,
          4.4,
          4.5,
          4.6,
          4.6,
          4.6,
          4.6,
          4.6,
          4.6,
          4.6,
          4.5,
          4.5,
          4.5,
          4.5,
          4.6,
          4.8,
          4.9,
          4.8,
          4.7,
          4.8,
          4.7,
          4.7,
          4.4,
          4.4,
          4.8,
          4.7,
          4.7,
          4.7,
          4.7,
          4.7,
          4.3,
          4.8,
          4.8,
          4.9,
          4.7,
          4.8,
          4.4,
          4.4,
          4.4,
          4.8,
          4.9,
          4.9,
          4.9,
          4.9,
          4.9,
          4.9,
          4.6,
          4.5,
          4.6,
          4.7,
          4.7,
          4.6,
          4.6,
          4.8,
          4.8,
          4.5,
          4.5,
          4.5,
          4.6,
          4.6,
          4.6,
          4.6,
          4.6,
          4.5,
          4.5,
          4.4,
          4.8,
          4.5,
          4.2,
          4.8,
          4.5,
          4.7,
          4.8,
          4.7,
          4.7,
          4.7,
          4.4,
          4.6,
          4.6,
          4.6,
          4.8,
          4.8,
          4.7,
          4.6,
          4.9,
          4.6,
          4.6,
          4.5,
          4.6,
          4.6,
          4.7,
          4.7,
          4.3,
          4.3,
          4.5,
          4.5,
          4.5,
          4.5,
          4.5,
          4.5,
          4.5,
          4.5,
          4.5,
          4.5,
          4.6,
          4.6,
          4.7,
          4.7,
          4.8,
          4.8,
          4.8,
          4.8,
          4.7,
          4.7,
          4.8,
          4.1,
          4.6,
          4.6,
          4.6,
          4,
          4,
          4,
          4,
          4,
          4,
          4,
          4,
          4,
          4.5,
          4.6,
          4.4,
          4.4,
          4.3,
          4.3,
          4.7,
          4.7,
          4.7,
          4.7,
          4.7,
          4.8,
          4.8,
          4.8,
          4.8,
          4.8,
          4.8,
          4.6,
          4.6,
          4.6,
          4.6,
          4.7,
          4.7,
          4.7,
          4.6,
          4.7,
          4.2,
          4.8,
          4.7,
          4.8,
          4.8,
          4.7,
          4.3,
          4.3,
          4.8,
          4.4,
          4.1,
          4.6,
          4.6,
          4.6,
          4.6,
          4.6,
          4.6,
          4.7,
          4.7,
          4.7,
          4.7,
          4.7,
          4.7,
          4.7,
          4.7,
          4.7,
          4.3,
          4.3,
          4.7,
          4.4,
          4.4,
          4.5,
          4.5,
          4.5,
          4.5,
          4.8,
          4.9,
          4.6,
          4.4,
          4.4,
          4.4,
          4.4,
          4.4,
          4.3,
          4.8,
          4.8,
          4.8,
          4.5,
          4.4,
          4.6,
          4.6,
          4.6,
          4.6,
          4.6,
          4.7,
          4.4,
          4.7,
          4.7,
          4.6,
          4.6,
          4.6,
          4.7,
          4.7,
          4.6,
          4.6,
          4.5,
          4.3,
          4.3,
          4.6,
          4.6,
          4.6,
          4.6,
          4.3,
          4.6,
          4.5,
          4.8,
          4.8,
          4.8,
          4.8,
          4.8,
          4.9,
          4.8,
          4.7,
          4.6,
          4.7,
          4.4,
          4.4,
          4.4,
          4.8,
          4.6,
          4.4,
          4.2,
          4.7,
          4.7,
          4.7,
          4.7
         ],
         "xaxis": "x",
         "y": [
          17350,
          18979,
          7665,
          5983,
          460,
          4149,
          5013,
          2313,
          2925,
          2951,
          2426,
          9198,
          15921,
          798,
          9374,
          491,
          5360,
          1909,
          1296,
          615,
          61133,
          61133,
          11113,
          10070,
          10070,
          3729,
          471,
          10369,
          16244,
          2884,
          4761,
          1542,
          1542,
          1542,
          4022,
          3871,
          1329,
          4642,
          2137,
          1651,
          6679,
          6679,
          7955,
          37,
          2134,
          2525,
          720,
          956,
          6346,
          6346,
          28729,
          28729,
          5413,
          6042,
          13677,
          17323,
          17323,
          17323,
          17323,
          17323,
          1555,
          1215,
          408,
          4799,
          7660,
          22288,
          22288,
          1365,
          1636,
          10141,
          3457,
          3457,
          3457,
          3457,
          5972,
          5476,
          5867,
          4148,
          3564,
          1930,
          15779,
          15779,
          15526,
          15526,
          3776,
          25001,
          25001,
          25001,
          25001,
          25001,
          5272,
          3490,
          3490,
          2812,
          4896,
          9737,
          4571,
          7396,
          7396,
          7062,
          19576,
          19576,
          19576,
          19576,
          19576,
          19576,
          8393,
          11391,
          8634,
          9342,
          9342,
          10927,
          5235,
          8916,
          2507,
          3673,
          3673,
          3673,
          6990,
          6990,
          6990,
          6990,
          6990,
          6132,
          3014,
          7550,
          3828,
          2752,
          1649,
          9867,
          1386,
          10199,
          2926,
          17739,
          17739,
          17739,
          3113,
          5542,
          5542,
          5542,
          5347,
          7866,
          5178,
          8093,
          3192,
          3163,
          3163,
          1831,
          10426,
          10426,
          10820,
          10820,
          13616,
          13616,
          8580,
          8580,
          8580,
          8580,
          8580,
          8580,
          8580,
          8580,
          8580,
          8580,
          10009,
          10009,
          1985,
          1985,
          7802,
          7802,
          23047,
          23047,
          9366,
          1265,
          3923,
          2272,
          220,
          7827,
          7827,
          5069,
          5069,
          5069,
          5069,
          5069,
          5069,
          5069,
          5069,
          5069,
          1583,
          1907,
          637,
          637,
          2314,
          4587,
          3477,
          3477,
          3477,
          3477,
          3477,
          25554,
          25554,
          25554,
          25554,
          25554,
          1680,
          9325,
          9325,
          9325,
          9325,
          4725,
          4725,
          4725,
          2580,
          3536,
          1789,
          12361,
          858,
          23358,
          23358,
          4633,
          13061,
          13061,
          2774,
          440,
          2023,
          3207,
          3207,
          3207,
          3207,
          3207,
          803,
          23308,
          23308,
          23308,
          23308,
          23308,
          23308,
          9289,
          9289,
          9289,
          7368,
          7368,
          4028,
          4247,
          4247,
          22641,
          22641,
          22641,
          22641,
          1655,
          7861,
          2744,
          1201,
          1201,
          1201,
          1201,
          1201,
          807,
          2663,
          3428,
          2876,
          3601,
          7058,
          10795,
          1204,
          26490,
          26490,
          26490,
          5487,
          3503,
          11550,
          9030,
          7508,
          7508,
          7508,
          6169,
          7034,
          11034,
          11034,
          1904,
          3319,
          3319,
          11128,
          11128,
          11128,
          11128,
          5977,
          4360,
          438,
          29673,
          29673,
          29673,
          29673,
          29673,
          5956,
          6108,
          4585,
          5492,
          9292,
          3341,
          7497,
          7497,
          13779,
          6669,
          17044,
          1302,
          14331,
          14331,
          14331,
          14331
         ],
         "yaxis": "y"
        },
        {
         "hovertemplate": "Genre=Fiction<br>User Rating=%{x}<br>Reviews=%{y}<extra></extra>",
         "legendgroup": "Fiction",
         "marker": {
          "color": "#EF553B",
          "symbol": "circle"
         },
         "mode": "markers",
         "name": "Fiction",
         "orientation": "v",
         "showlegend": true,
         "type": "scatter",
         "x": [
          4.6,
          4.7,
          4.4,
          4.7,
          4.7,
          4.6,
          4.6,
          4.5,
          4.6,
          4.6,
          3.9,
          4.3,
          4.6,
          4.9,
          4.9,
          4.8,
          4.7,
          4.7,
          4.7,
          4.3,
          4.6,
          4.6,
          4.6,
          4.3,
          4.2,
          4.8,
          4.8,
          4.8,
          4.8,
          4.8,
          4.8,
          4.8,
          4.6,
          4.6,
          4.5,
          4.7,
          4.8,
          4.9,
          4.9,
          4.9,
          4.9,
          4.9,
          4.9,
          4.9,
          4.8,
          4.7,
          4.7,
          4.6,
          4.6,
          4.7,
          4.4,
          4.5,
          3.8,
          3.8,
          4.5,
          4.7,
          4.6,
          4.6,
          4.6,
          4.8,
          4.8,
          4.8,
          4.8,
          4.8,
          3.6,
          4.8,
          4,
          4,
          4,
          4.8,
          4.8,
          4.8,
          4.9,
          4.9,
          4.4,
          4.9,
          4,
          4.9,
          4.9,
          4.9,
          4.8,
          4.6,
          4.8,
          4.8,
          4.3,
          4.1,
          4.6,
          4.6,
          4.5,
          4.9,
          4.1,
          4.9,
          4.5,
          4.5,
          4.8,
          4.8,
          4.5,
          4.5,
          4.5,
          4.6,
          4.9,
          4.9,
          4.9,
          4.9,
          4.9,
          4.9,
          4.9,
          4.9,
          4.8,
          4.2,
          4.3,
          4.6,
          4.8,
          4.8,
          4.8,
          4.8,
          4.7,
          4.8,
          4.6,
          4.6,
          4.9,
          4.9,
          4.6,
          4.7,
          4.9,
          4.5,
          4.7,
          4.7,
          4.7,
          4.8,
          4.6,
          4.6,
          4.8,
          4.8,
          3.3,
          4.3,
          4.8,
          4.8,
          4.8,
          4,
          4.7,
          4.7,
          4.7,
          4.7,
          4.8,
          4.1,
          4.1,
          4.7,
          4.7,
          4.7,
          4.7,
          4.4,
          4.4,
          4.8,
          4.8,
          3.9,
          3.9,
          4.4,
          4.4,
          4.4,
          4.5,
          4.7,
          4.3,
          4.6,
          4.8,
          4.8,
          4.8,
          4.8,
          4.8,
          4.8,
          4.7,
          4.7,
          4.7,
          4.8,
          4.8,
          4.8,
          4.8,
          4.9,
          4.4,
          4.8,
          4.2,
          4.8,
          4.7,
          4.5,
          4.8,
          4.8,
          4.8,
          4.3,
          4.8,
          4.8,
          4.3,
          4.3,
          4.6,
          4.8,
          4.6,
          4.6,
          4.6,
          4.5,
          4.8,
          4.7,
          4.7,
          4.4,
          4.7,
          4.8,
          4.9,
          4.9,
          4.9,
          4.9,
          4.9,
          4.9,
          4.9,
          4.9,
          4.9,
          4.9,
          4.9,
          4.8,
          4.8,
          4.5,
          4.8,
          4.8,
          4.8,
          4.8,
          4.8,
          4.8,
          4.7,
          4.5,
          4.3,
          4.8,
          4.5,
          4.7,
          4.8,
          4.8,
          4.8,
          4.5,
          4.8,
          4.8,
          4.8,
          4.8,
          4.8,
          4.9
         ],
         "xaxis": "x",
         "y": [
          2052,
          21424,
          12643,
          19735,
          19699,
          23848,
          23848,
          5153,
          36348,
          36348,
          6310,
          12159,
          9769,
          14344,
          14344,
          4505,
          22614,
          22614,
          22614,
          6143,
          4866,
          4866,
          1541,
          1924,
          2094,
          10922,
          10922,
          10922,
          10922,
          6812,
          3837,
          6540,
          27098,
          27098,
          17684,
          15845,
          3181,
          5062,
          4786,
          7235,
          7235,
          12619,
          9089,
          5470,
          5118,
          5505,
          5505,
          10721,
          10721,
          4370,
          23631,
          20262,
          47265,
          47265,
          13964,
          3642,
          5594,
          5594,
          5594,
          14038,
          14038,
          14038,
          14038,
          14038,
          14982,
          9568,
          57271,
          57271,
          57271,
          8837,
          8837,
          8837,
          7038,
          7038,
          25624,
          19622,
          23973,
          7758,
          3146,
          10052,
          13471,
          1320,
          16643,
          16643,
          7153,
          29651,
          5299,
          978,
          4748,
          11881,
          1467,
          1884,
          25706,
          8491,
          18613,
          18613,
          26741,
          26741,
          26741,
          5680,
          21834,
          21834,
          21834,
          21834,
          21834,
          21834,
          21834,
          21834,
          6169,
          4519,
          18904,
          21930,
          548,
          16990,
          16990,
          16990,
          3503,
          4757,
          22536,
          22536,
          7150,
          3836,
          3619,
          973,
          9382,
          23114,
          35799,
          11813,
          11813,
          6600,
          23148,
          23148,
          8081,
          8081,
          9372,
          3523,
          8922,
          8922,
          8922,
          1859,
          50482,
          50482,
          50482,
          50482,
          5836,
          79446,
          79446,
          7747,
          7747,
          7251,
          7251,
          10559,
          10559,
          5249,
          5249,
          33844,
          33844,
          11616,
          11616,
          11616,
          13609,
          8587,
          29442,
          11098,
          9947,
          13871,
          13871,
          13871,
          13871,
          6982,
          32122,
          32122,
          32122,
          16949,
          16949,
          4628,
          4628,
          5396,
          6222,
          4506,
          8747,
          6247,
          39459,
          10101,
          5898,
          49288,
          49288,
          3759,
          9784,
          9784,
          10191,
          14493,
          2186,
          2091,
          19720,
          19720,
          2122,
          27536,
          4290,
          6377,
          1463,
          3759,
          3801,
          3796,
          19546,
          19546,
          19546,
          19546,
          19546,
          19546,
          19546,
          8842,
          8842,
          8842,
          8842,
          30183,
          30183,
          7932,
          26234,
          26234,
          26234,
          26234,
          26234,
          2282,
          11676,
          2586,
          6740,
          3829,
          8958,
          1873,
          8170,
          87841,
          9967,
          10760,
          21625,
          21625,
          21625,
          21625,
          21625,
          9413
         ],
         "yaxis": "y"
        }
       ],
       "layout": {
        "legend": {
         "title": {
          "text": "Genre"
         },
         "tracegroupgap": 0
        },
        "template": {
         "data": {
          "bar": [
           {
            "error_x": {
             "color": "#2a3f5f"
            },
            "error_y": {
             "color": "#2a3f5f"
            },
            "marker": {
             "line": {
              "color": "#E5ECF6",
              "width": 0.5
             }
            },
            "type": "bar"
           }
          ],
          "barpolar": [
           {
            "marker": {
             "line": {
              "color": "#E5ECF6",
              "width": 0.5
             }
            },
            "type": "barpolar"
           }
          ],
          "carpet": [
           {
            "aaxis": {
             "endlinecolor": "#2a3f5f",
             "gridcolor": "white",
             "linecolor": "white",
             "minorgridcolor": "white",
             "startlinecolor": "#2a3f5f"
            },
            "baxis": {
             "endlinecolor": "#2a3f5f",
             "gridcolor": "white",
             "linecolor": "white",
             "minorgridcolor": "white",
             "startlinecolor": "#2a3f5f"
            },
            "type": "carpet"
           }
          ],
          "choropleth": [
           {
            "colorbar": {
             "outlinewidth": 0,
             "ticks": ""
            },
            "type": "choropleth"
           }
          ],
          "contour": [
           {
            "colorbar": {
             "outlinewidth": 0,
             "ticks": ""
            },
            "colorscale": [
             [
              0,
              "#0d0887"
             ],
             [
              0.1111111111111111,
              "#46039f"
             ],
             [
              0.2222222222222222,
              "#7201a8"
             ],
             [
              0.3333333333333333,
              "#9c179e"
             ],
             [
              0.4444444444444444,
              "#bd3786"
             ],
             [
              0.5555555555555556,
              "#d8576b"
             ],
             [
              0.6666666666666666,
              "#ed7953"
             ],
             [
              0.7777777777777778,
              "#fb9f3a"
             ],
             [
              0.8888888888888888,
              "#fdca26"
             ],
             [
              1,
              "#f0f921"
             ]
            ],
            "type": "contour"
           }
          ],
          "contourcarpet": [
           {
            "colorbar": {
             "outlinewidth": 0,
             "ticks": ""
            },
            "type": "contourcarpet"
           }
          ],
          "heatmap": [
           {
            "colorbar": {
             "outlinewidth": 0,
             "ticks": ""
            },
            "colorscale": [
             [
              0,
              "#0d0887"
             ],
             [
              0.1111111111111111,
              "#46039f"
             ],
             [
              0.2222222222222222,
              "#7201a8"
             ],
             [
              0.3333333333333333,
              "#9c179e"
             ],
             [
              0.4444444444444444,
              "#bd3786"
             ],
             [
              0.5555555555555556,
              "#d8576b"
             ],
             [
              0.6666666666666666,
              "#ed7953"
             ],
             [
              0.7777777777777778,
              "#fb9f3a"
             ],
             [
              0.8888888888888888,
              "#fdca26"
             ],
             [
              1,
              "#f0f921"
             ]
            ],
            "type": "heatmap"
           }
          ],
          "heatmapgl": [
           {
            "colorbar": {
             "outlinewidth": 0,
             "ticks": ""
            },
            "colorscale": [
             [
              0,
              "#0d0887"
             ],
             [
              0.1111111111111111,
              "#46039f"
             ],
             [
              0.2222222222222222,
              "#7201a8"
             ],
             [
              0.3333333333333333,
              "#9c179e"
             ],
             [
              0.4444444444444444,
              "#bd3786"
             ],
             [
              0.5555555555555556,
              "#d8576b"
             ],
             [
              0.6666666666666666,
              "#ed7953"
             ],
             [
              0.7777777777777778,
              "#fb9f3a"
             ],
             [
              0.8888888888888888,
              "#fdca26"
             ],
             [
              1,
              "#f0f921"
             ]
            ],
            "type": "heatmapgl"
           }
          ],
          "histogram": [
           {
            "marker": {
             "colorbar": {
              "outlinewidth": 0,
              "ticks": ""
             }
            },
            "type": "histogram"
           }
          ],
          "histogram2d": [
           {
            "colorbar": {
             "outlinewidth": 0,
             "ticks": ""
            },
            "colorscale": [
             [
              0,
              "#0d0887"
             ],
             [
              0.1111111111111111,
              "#46039f"
             ],
             [
              0.2222222222222222,
              "#7201a8"
             ],
             [
              0.3333333333333333,
              "#9c179e"
             ],
             [
              0.4444444444444444,
              "#bd3786"
             ],
             [
              0.5555555555555556,
              "#d8576b"
             ],
             [
              0.6666666666666666,
              "#ed7953"
             ],
             [
              0.7777777777777778,
              "#fb9f3a"
             ],
             [
              0.8888888888888888,
              "#fdca26"
             ],
             [
              1,
              "#f0f921"
             ]
            ],
            "type": "histogram2d"
           }
          ],
          "histogram2dcontour": [
           {
            "colorbar": {
             "outlinewidth": 0,
             "ticks": ""
            },
            "colorscale": [
             [
              0,
              "#0d0887"
             ],
             [
              0.1111111111111111,
              "#46039f"
             ],
             [
              0.2222222222222222,
              "#7201a8"
             ],
             [
              0.3333333333333333,
              "#9c179e"
             ],
             [
              0.4444444444444444,
              "#bd3786"
             ],
             [
              0.5555555555555556,
              "#d8576b"
             ],
             [
              0.6666666666666666,
              "#ed7953"
             ],
             [
              0.7777777777777778,
              "#fb9f3a"
             ],
             [
              0.8888888888888888,
              "#fdca26"
             ],
             [
              1,
              "#f0f921"
             ]
            ],
            "type": "histogram2dcontour"
           }
          ],
          "mesh3d": [
           {
            "colorbar": {
             "outlinewidth": 0,
             "ticks": ""
            },
            "type": "mesh3d"
           }
          ],
          "parcoords": [
           {
            "line": {
             "colorbar": {
              "outlinewidth": 0,
              "ticks": ""
             }
            },
            "type": "parcoords"
           }
          ],
          "pie": [
           {
            "automargin": true,
            "type": "pie"
           }
          ],
          "scatter": [
           {
            "marker": {
             "colorbar": {
              "outlinewidth": 0,
              "ticks": ""
             }
            },
            "type": "scatter"
           }
          ],
          "scatter3d": [
           {
            "line": {
             "colorbar": {
              "outlinewidth": 0,
              "ticks": ""
             }
            },
            "marker": {
             "colorbar": {
              "outlinewidth": 0,
              "ticks": ""
             }
            },
            "type": "scatter3d"
           }
          ],
          "scattercarpet": [
           {
            "marker": {
             "colorbar": {
              "outlinewidth": 0,
              "ticks": ""
             }
            },
            "type": "scattercarpet"
           }
          ],
          "scattergeo": [
           {
            "marker": {
             "colorbar": {
              "outlinewidth": 0,
              "ticks": ""
             }
            },
            "type": "scattergeo"
           }
          ],
          "scattergl": [
           {
            "marker": {
             "colorbar": {
              "outlinewidth": 0,
              "ticks": ""
             }
            },
            "type": "scattergl"
           }
          ],
          "scattermapbox": [
           {
            "marker": {
             "colorbar": {
              "outlinewidth": 0,
              "ticks": ""
             }
            },
            "type": "scattermapbox"
           }
          ],
          "scatterpolar": [
           {
            "marker": {
             "colorbar": {
              "outlinewidth": 0,
              "ticks": ""
             }
            },
            "type": "scatterpolar"
           }
          ],
          "scatterpolargl": [
           {
            "marker": {
             "colorbar": {
              "outlinewidth": 0,
              "ticks": ""
             }
            },
            "type": "scatterpolargl"
           }
          ],
          "scatterternary": [
           {
            "marker": {
             "colorbar": {
              "outlinewidth": 0,
              "ticks": ""
             }
            },
            "type": "scatterternary"
           }
          ],
          "surface": [
           {
            "colorbar": {
             "outlinewidth": 0,
             "ticks": ""
            },
            "colorscale": [
             [
              0,
              "#0d0887"
             ],
             [
              0.1111111111111111,
              "#46039f"
             ],
             [
              0.2222222222222222,
              "#7201a8"
             ],
             [
              0.3333333333333333,
              "#9c179e"
             ],
             [
              0.4444444444444444,
              "#bd3786"
             ],
             [
              0.5555555555555556,
              "#d8576b"
             ],
             [
              0.6666666666666666,
              "#ed7953"
             ],
             [
              0.7777777777777778,
              "#fb9f3a"
             ],
             [
              0.8888888888888888,
              "#fdca26"
             ],
             [
              1,
              "#f0f921"
             ]
            ],
            "type": "surface"
           }
          ],
          "table": [
           {
            "cells": {
             "fill": {
              "color": "#EBF0F8"
             },
             "line": {
              "color": "white"
             }
            },
            "header": {
             "fill": {
              "color": "#C8D4E3"
             },
             "line": {
              "color": "white"
             }
            },
            "type": "table"
           }
          ]
         },
         "layout": {
          "annotationdefaults": {
           "arrowcolor": "#2a3f5f",
           "arrowhead": 0,
           "arrowwidth": 1
          },
          "autotypenumbers": "strict",
          "coloraxis": {
           "colorbar": {
            "outlinewidth": 0,
            "ticks": ""
           }
          },
          "colorscale": {
           "diverging": [
            [
             0,
             "#8e0152"
            ],
            [
             0.1,
             "#c51b7d"
            ],
            [
             0.2,
             "#de77ae"
            ],
            [
             0.3,
             "#f1b6da"
            ],
            [
             0.4,
             "#fde0ef"
            ],
            [
             0.5,
             "#f7f7f7"
            ],
            [
             0.6,
             "#e6f5d0"
            ],
            [
             0.7,
             "#b8e186"
            ],
            [
             0.8,
             "#7fbc41"
            ],
            [
             0.9,
             "#4d9221"
            ],
            [
             1,
             "#276419"
            ]
           ],
           "sequential": [
            [
             0,
             "#0d0887"
            ],
            [
             0.1111111111111111,
             "#46039f"
            ],
            [
             0.2222222222222222,
             "#7201a8"
            ],
            [
             0.3333333333333333,
             "#9c179e"
            ],
            [
             0.4444444444444444,
             "#bd3786"
            ],
            [
             0.5555555555555556,
             "#d8576b"
            ],
            [
             0.6666666666666666,
             "#ed7953"
            ],
            [
             0.7777777777777778,
             "#fb9f3a"
            ],
            [
             0.8888888888888888,
             "#fdca26"
            ],
            [
             1,
             "#f0f921"
            ]
           ],
           "sequentialminus": [
            [
             0,
             "#0d0887"
            ],
            [
             0.1111111111111111,
             "#46039f"
            ],
            [
             0.2222222222222222,
             "#7201a8"
            ],
            [
             0.3333333333333333,
             "#9c179e"
            ],
            [
             0.4444444444444444,
             "#bd3786"
            ],
            [
             0.5555555555555556,
             "#d8576b"
            ],
            [
             0.6666666666666666,
             "#ed7953"
            ],
            [
             0.7777777777777778,
             "#fb9f3a"
            ],
            [
             0.8888888888888888,
             "#fdca26"
            ],
            [
             1,
             "#f0f921"
            ]
           ]
          },
          "colorway": [
           "#636efa",
           "#EF553B",
           "#00cc96",
           "#ab63fa",
           "#FFA15A",
           "#19d3f3",
           "#FF6692",
           "#B6E880",
           "#FF97FF",
           "#FECB52"
          ],
          "font": {
           "color": "#2a3f5f"
          },
          "geo": {
           "bgcolor": "white",
           "lakecolor": "white",
           "landcolor": "#E5ECF6",
           "showlakes": true,
           "showland": true,
           "subunitcolor": "white"
          },
          "hoverlabel": {
           "align": "left"
          },
          "hovermode": "closest",
          "mapbox": {
           "style": "light"
          },
          "paper_bgcolor": "white",
          "plot_bgcolor": "#E5ECF6",
          "polar": {
           "angularaxis": {
            "gridcolor": "white",
            "linecolor": "white",
            "ticks": ""
           },
           "bgcolor": "#E5ECF6",
           "radialaxis": {
            "gridcolor": "white",
            "linecolor": "white",
            "ticks": ""
           }
          },
          "scene": {
           "xaxis": {
            "backgroundcolor": "#E5ECF6",
            "gridcolor": "white",
            "gridwidth": 2,
            "linecolor": "white",
            "showbackground": true,
            "ticks": "",
            "zerolinecolor": "white"
           },
           "yaxis": {
            "backgroundcolor": "#E5ECF6",
            "gridcolor": "white",
            "gridwidth": 2,
            "linecolor": "white",
            "showbackground": true,
            "ticks": "",
            "zerolinecolor": "white"
           },
           "zaxis": {
            "backgroundcolor": "#E5ECF6",
            "gridcolor": "white",
            "gridwidth": 2,
            "linecolor": "white",
            "showbackground": true,
            "ticks": "",
            "zerolinecolor": "white"
           }
          },
          "shapedefaults": {
           "line": {
            "color": "#2a3f5f"
           }
          },
          "ternary": {
           "aaxis": {
            "gridcolor": "white",
            "linecolor": "white",
            "ticks": ""
           },
           "baxis": {
            "gridcolor": "white",
            "linecolor": "white",
            "ticks": ""
           },
           "bgcolor": "#E5ECF6",
           "caxis": {
            "gridcolor": "white",
            "linecolor": "white",
            "ticks": ""
           }
          },
          "title": {
           "x": 0.05
          },
          "xaxis": {
           "automargin": true,
           "gridcolor": "white",
           "linecolor": "white",
           "ticks": "",
           "title": {
            "standoff": 15
           },
           "zerolinecolor": "white",
           "zerolinewidth": 2
          },
          "yaxis": {
           "automargin": true,
           "gridcolor": "white",
           "linecolor": "white",
           "ticks": "",
           "title": {
            "standoff": 15
           },
           "zerolinecolor": "white",
           "zerolinewidth": 2
          }
         }
        },
        "title": {
         "text": "Popularity of Books"
        },
        "xaxis": {
         "anchor": "y",
         "domain": [
          0,
          1
         ],
         "title": {
          "text": "User Rating"
         }
        },
        "yaxis": {
         "anchor": "x",
         "domain": [
          0,
          1
         ],
         "title": {
          "text": "Reviews"
         }
        }
       }
      },
      "text/html": [
       "<div>                            <div id=\"1a16ad14-3d20-4cf9-aa26-29b37a59727e\" class=\"plotly-graph-div\" style=\"height:525px; width:100%;\"></div>            <script type=\"text/javascript\">                require([\"plotly\"], function(Plotly) {                    window.PLOTLYENV=window.PLOTLYENV || {};                                    if (document.getElementById(\"1a16ad14-3d20-4cf9-aa26-29b37a59727e\")) {                    Plotly.newPlot(                        \"1a16ad14-3d20-4cf9-aa26-29b37a59727e\",                        [{\"hovertemplate\": \"Genre=Non Fiction<br>User Rating=%{x}<br>Reviews=%{y}<extra></extra>\", \"legendgroup\": \"Non Fiction\", \"marker\": {\"color\": \"#636efa\", \"symbol\": \"circle\"}, \"mode\": \"markers\", \"name\": \"Non Fiction\", \"orientation\": \"v\", \"showlegend\": true, \"type\": \"scatter\", \"x\": [4.7, 4.7, 4.8, 4.7, 4.6, 4.6, 4.6, 4.5, 4.6, 4.4, 4.5, 4.8, 4.6, 4.6, 4.7, 4.2, 4.6, 4.6, 4.8, 4.7, 4.8, 4.8, 4.8, 4.7, 4.7, 4.7, 4.5, 4.6, 4.8, 4.5, 4.7, 4.7, 4.7, 4.7, 4.8, 4.8, 4.8, 4.4, 4.6, 4.6, 4.5, 4.5, 4.6, 4.6, 4.6, 4.5, 4.5, 4.3, 4.5, 4.5, 4.7, 4.7, 4.7, 4.4, 4.2, 4.7, 4.7, 4.7, 4.7, 4.7, 4.4, 4.4, 4.5, 4.6, 4.6, 4.6, 4.6, 4.6, 4.6, 4.6, 4.5, 4.5, 4.5, 4.5, 4.6, 4.8, 4.9, 4.8, 4.7, 4.8, 4.7, 4.7, 4.4, 4.4, 4.8, 4.7, 4.7, 4.7, 4.7, 4.7, 4.3, 4.8, 4.8, 4.9, 4.7, 4.8, 4.4, 4.4, 4.4, 4.8, 4.9, 4.9, 4.9, 4.9, 4.9, 4.9, 4.6, 4.5, 4.6, 4.7, 4.7, 4.6, 4.6, 4.8, 4.8, 4.5, 4.5, 4.5, 4.6, 4.6, 4.6, 4.6, 4.6, 4.5, 4.5, 4.4, 4.8, 4.5, 4.2, 4.8, 4.5, 4.7, 4.8, 4.7, 4.7, 4.7, 4.4, 4.6, 4.6, 4.6, 4.8, 4.8, 4.7, 4.6, 4.9, 4.6, 4.6, 4.5, 4.6, 4.6, 4.7, 4.7, 4.3, 4.3, 4.5, 4.5, 4.5, 4.5, 4.5, 4.5, 4.5, 4.5, 4.5, 4.5, 4.6, 4.6, 4.7, 4.7, 4.8, 4.8, 4.8, 4.8, 4.7, 4.7, 4.8, 4.1, 4.6, 4.6, 4.6, 4.0, 4.0, 4.0, 4.0, 4.0, 4.0, 4.0, 4.0, 4.0, 4.5, 4.6, 4.4, 4.4, 4.3, 4.3, 4.7, 4.7, 4.7, 4.7, 4.7, 4.8, 4.8, 4.8, 4.8, 4.8, 4.8, 4.6, 4.6, 4.6, 4.6, 4.7, 4.7, 4.7, 4.6, 4.7, 4.2, 4.8, 4.7, 4.8, 4.8, 4.7, 4.3, 4.3, 4.8, 4.4, 4.1, 4.6, 4.6, 4.6, 4.6, 4.6, 4.6, 4.7, 4.7, 4.7, 4.7, 4.7, 4.7, 4.7, 4.7, 4.7, 4.3, 4.3, 4.7, 4.4, 4.4, 4.5, 4.5, 4.5, 4.5, 4.8, 4.9, 4.6, 4.4, 4.4, 4.4, 4.4, 4.4, 4.3, 4.8, 4.8, 4.8, 4.5, 4.4, 4.6, 4.6, 4.6, 4.6, 4.6, 4.7, 4.4, 4.7, 4.7, 4.6, 4.6, 4.6, 4.7, 4.7, 4.6, 4.6, 4.5, 4.3, 4.3, 4.6, 4.6, 4.6, 4.6, 4.3, 4.6, 4.5, 4.8, 4.8, 4.8, 4.8, 4.8, 4.9, 4.8, 4.7, 4.6, 4.7, 4.4, 4.4, 4.4, 4.8, 4.6, 4.4, 4.2, 4.7, 4.7, 4.7, 4.7], \"xaxis\": \"x\", \"y\": [17350, 18979, 7665, 5983, 460, 4149, 5013, 2313, 2925, 2951, 2426, 9198, 15921, 798, 9374, 491, 5360, 1909, 1296, 615, 61133, 61133, 11113, 10070, 10070, 3729, 471, 10369, 16244, 2884, 4761, 1542, 1542, 1542, 4022, 3871, 1329, 4642, 2137, 1651, 6679, 6679, 7955, 37, 2134, 2525, 720, 956, 6346, 6346, 28729, 28729, 5413, 6042, 13677, 17323, 17323, 17323, 17323, 17323, 1555, 1215, 408, 4799, 7660, 22288, 22288, 1365, 1636, 10141, 3457, 3457, 3457, 3457, 5972, 5476, 5867, 4148, 3564, 1930, 15779, 15779, 15526, 15526, 3776, 25001, 25001, 25001, 25001, 25001, 5272, 3490, 3490, 2812, 4896, 9737, 4571, 7396, 7396, 7062, 19576, 19576, 19576, 19576, 19576, 19576, 8393, 11391, 8634, 9342, 9342, 10927, 5235, 8916, 2507, 3673, 3673, 3673, 6990, 6990, 6990, 6990, 6990, 6132, 3014, 7550, 3828, 2752, 1649, 9867, 1386, 10199, 2926, 17739, 17739, 17739, 3113, 5542, 5542, 5542, 5347, 7866, 5178, 8093, 3192, 3163, 3163, 1831, 10426, 10426, 10820, 10820, 13616, 13616, 8580, 8580, 8580, 8580, 8580, 8580, 8580, 8580, 8580, 8580, 10009, 10009, 1985, 1985, 7802, 7802, 23047, 23047, 9366, 1265, 3923, 2272, 220, 7827, 7827, 5069, 5069, 5069, 5069, 5069, 5069, 5069, 5069, 5069, 1583, 1907, 637, 637, 2314, 4587, 3477, 3477, 3477, 3477, 3477, 25554, 25554, 25554, 25554, 25554, 1680, 9325, 9325, 9325, 9325, 4725, 4725, 4725, 2580, 3536, 1789, 12361, 858, 23358, 23358, 4633, 13061, 13061, 2774, 440, 2023, 3207, 3207, 3207, 3207, 3207, 803, 23308, 23308, 23308, 23308, 23308, 23308, 9289, 9289, 9289, 7368, 7368, 4028, 4247, 4247, 22641, 22641, 22641, 22641, 1655, 7861, 2744, 1201, 1201, 1201, 1201, 1201, 807, 2663, 3428, 2876, 3601, 7058, 10795, 1204, 26490, 26490, 26490, 5487, 3503, 11550, 9030, 7508, 7508, 7508, 6169, 7034, 11034, 11034, 1904, 3319, 3319, 11128, 11128, 11128, 11128, 5977, 4360, 438, 29673, 29673, 29673, 29673, 29673, 5956, 6108, 4585, 5492, 9292, 3341, 7497, 7497, 13779, 6669, 17044, 1302, 14331, 14331, 14331, 14331], \"yaxis\": \"y\"}, {\"hovertemplate\": \"Genre=Fiction<br>User Rating=%{x}<br>Reviews=%{y}<extra></extra>\", \"legendgroup\": \"Fiction\", \"marker\": {\"color\": \"#EF553B\", \"symbol\": \"circle\"}, \"mode\": \"markers\", \"name\": \"Fiction\", \"orientation\": \"v\", \"showlegend\": true, \"type\": \"scatter\", \"x\": [4.6, 4.7, 4.4, 4.7, 4.7, 4.6, 4.6, 4.5, 4.6, 4.6, 3.9, 4.3, 4.6, 4.9, 4.9, 4.8, 4.7, 4.7, 4.7, 4.3, 4.6, 4.6, 4.6, 4.3, 4.2, 4.8, 4.8, 4.8, 4.8, 4.8, 4.8, 4.8, 4.6, 4.6, 4.5, 4.7, 4.8, 4.9, 4.9, 4.9, 4.9, 4.9, 4.9, 4.9, 4.8, 4.7, 4.7, 4.6, 4.6, 4.7, 4.4, 4.5, 3.8, 3.8, 4.5, 4.7, 4.6, 4.6, 4.6, 4.8, 4.8, 4.8, 4.8, 4.8, 3.6, 4.8, 4.0, 4.0, 4.0, 4.8, 4.8, 4.8, 4.9, 4.9, 4.4, 4.9, 4.0, 4.9, 4.9, 4.9, 4.8, 4.6, 4.8, 4.8, 4.3, 4.1, 4.6, 4.6, 4.5, 4.9, 4.1, 4.9, 4.5, 4.5, 4.8, 4.8, 4.5, 4.5, 4.5, 4.6, 4.9, 4.9, 4.9, 4.9, 4.9, 4.9, 4.9, 4.9, 4.8, 4.2, 4.3, 4.6, 4.8, 4.8, 4.8, 4.8, 4.7, 4.8, 4.6, 4.6, 4.9, 4.9, 4.6, 4.7, 4.9, 4.5, 4.7, 4.7, 4.7, 4.8, 4.6, 4.6, 4.8, 4.8, 3.3, 4.3, 4.8, 4.8, 4.8, 4.0, 4.7, 4.7, 4.7, 4.7, 4.8, 4.1, 4.1, 4.7, 4.7, 4.7, 4.7, 4.4, 4.4, 4.8, 4.8, 3.9, 3.9, 4.4, 4.4, 4.4, 4.5, 4.7, 4.3, 4.6, 4.8, 4.8, 4.8, 4.8, 4.8, 4.8, 4.7, 4.7, 4.7, 4.8, 4.8, 4.8, 4.8, 4.9, 4.4, 4.8, 4.2, 4.8, 4.7, 4.5, 4.8, 4.8, 4.8, 4.3, 4.8, 4.8, 4.3, 4.3, 4.6, 4.8, 4.6, 4.6, 4.6, 4.5, 4.8, 4.7, 4.7, 4.4, 4.7, 4.8, 4.9, 4.9, 4.9, 4.9, 4.9, 4.9, 4.9, 4.9, 4.9, 4.9, 4.9, 4.8, 4.8, 4.5, 4.8, 4.8, 4.8, 4.8, 4.8, 4.8, 4.7, 4.5, 4.3, 4.8, 4.5, 4.7, 4.8, 4.8, 4.8, 4.5, 4.8, 4.8, 4.8, 4.8, 4.8, 4.9], \"xaxis\": \"x\", \"y\": [2052, 21424, 12643, 19735, 19699, 23848, 23848, 5153, 36348, 36348, 6310, 12159, 9769, 14344, 14344, 4505, 22614, 22614, 22614, 6143, 4866, 4866, 1541, 1924, 2094, 10922, 10922, 10922, 10922, 6812, 3837, 6540, 27098, 27098, 17684, 15845, 3181, 5062, 4786, 7235, 7235, 12619, 9089, 5470, 5118, 5505, 5505, 10721, 10721, 4370, 23631, 20262, 47265, 47265, 13964, 3642, 5594, 5594, 5594, 14038, 14038, 14038, 14038, 14038, 14982, 9568, 57271, 57271, 57271, 8837, 8837, 8837, 7038, 7038, 25624, 19622, 23973, 7758, 3146, 10052, 13471, 1320, 16643, 16643, 7153, 29651, 5299, 978, 4748, 11881, 1467, 1884, 25706, 8491, 18613, 18613, 26741, 26741, 26741, 5680, 21834, 21834, 21834, 21834, 21834, 21834, 21834, 21834, 6169, 4519, 18904, 21930, 548, 16990, 16990, 16990, 3503, 4757, 22536, 22536, 7150, 3836, 3619, 973, 9382, 23114, 35799, 11813, 11813, 6600, 23148, 23148, 8081, 8081, 9372, 3523, 8922, 8922, 8922, 1859, 50482, 50482, 50482, 50482, 5836, 79446, 79446, 7747, 7747, 7251, 7251, 10559, 10559, 5249, 5249, 33844, 33844, 11616, 11616, 11616, 13609, 8587, 29442, 11098, 9947, 13871, 13871, 13871, 13871, 6982, 32122, 32122, 32122, 16949, 16949, 4628, 4628, 5396, 6222, 4506, 8747, 6247, 39459, 10101, 5898, 49288, 49288, 3759, 9784, 9784, 10191, 14493, 2186, 2091, 19720, 19720, 2122, 27536, 4290, 6377, 1463, 3759, 3801, 3796, 19546, 19546, 19546, 19546, 19546, 19546, 19546, 8842, 8842, 8842, 8842, 30183, 30183, 7932, 26234, 26234, 26234, 26234, 26234, 2282, 11676, 2586, 6740, 3829, 8958, 1873, 8170, 87841, 9967, 10760, 21625, 21625, 21625, 21625, 21625, 9413], \"yaxis\": \"y\"}],                        {\"legend\": {\"title\": {\"text\": \"Genre\"}, \"tracegroupgap\": 0}, \"template\": {\"data\": {\"bar\": [{\"error_x\": {\"color\": \"#2a3f5f\"}, \"error_y\": {\"color\": \"#2a3f5f\"}, \"marker\": {\"line\": {\"color\": \"#E5ECF6\", \"width\": 0.5}}, \"type\": \"bar\"}], \"barpolar\": [{\"marker\": {\"line\": {\"color\": \"#E5ECF6\", \"width\": 0.5}}, \"type\": \"barpolar\"}], \"carpet\": [{\"aaxis\": {\"endlinecolor\": \"#2a3f5f\", \"gridcolor\": \"white\", \"linecolor\": \"white\", \"minorgridcolor\": \"white\", \"startlinecolor\": \"#2a3f5f\"}, \"baxis\": {\"endlinecolor\": \"#2a3f5f\", \"gridcolor\": \"white\", \"linecolor\": \"white\", \"minorgridcolor\": \"white\", \"startlinecolor\": \"#2a3f5f\"}, \"type\": \"carpet\"}], \"choropleth\": [{\"colorbar\": {\"outlinewidth\": 0, \"ticks\": \"\"}, \"type\": \"choropleth\"}], \"contour\": [{\"colorbar\": {\"outlinewidth\": 0, \"ticks\": \"\"}, \"colorscale\": [[0.0, \"#0d0887\"], [0.1111111111111111, \"#46039f\"], [0.2222222222222222, \"#7201a8\"], [0.3333333333333333, \"#9c179e\"], [0.4444444444444444, \"#bd3786\"], [0.5555555555555556, \"#d8576b\"], [0.6666666666666666, \"#ed7953\"], [0.7777777777777778, \"#fb9f3a\"], [0.8888888888888888, \"#fdca26\"], [1.0, \"#f0f921\"]], \"type\": \"contour\"}], \"contourcarpet\": [{\"colorbar\": {\"outlinewidth\": 0, \"ticks\": \"\"}, \"type\": \"contourcarpet\"}], \"heatmap\": [{\"colorbar\": {\"outlinewidth\": 0, \"ticks\": \"\"}, \"colorscale\": [[0.0, \"#0d0887\"], [0.1111111111111111, \"#46039f\"], [0.2222222222222222, \"#7201a8\"], [0.3333333333333333, \"#9c179e\"], [0.4444444444444444, \"#bd3786\"], [0.5555555555555556, \"#d8576b\"], [0.6666666666666666, \"#ed7953\"], [0.7777777777777778, \"#fb9f3a\"], [0.8888888888888888, \"#fdca26\"], [1.0, \"#f0f921\"]], \"type\": \"heatmap\"}], \"heatmapgl\": [{\"colorbar\": {\"outlinewidth\": 0, \"ticks\": \"\"}, \"colorscale\": [[0.0, \"#0d0887\"], [0.1111111111111111, \"#46039f\"], [0.2222222222222222, \"#7201a8\"], [0.3333333333333333, \"#9c179e\"], [0.4444444444444444, \"#bd3786\"], [0.5555555555555556, \"#d8576b\"], [0.6666666666666666, \"#ed7953\"], [0.7777777777777778, \"#fb9f3a\"], [0.8888888888888888, \"#fdca26\"], [1.0, \"#f0f921\"]], \"type\": \"heatmapgl\"}], \"histogram\": [{\"marker\": {\"colorbar\": {\"outlinewidth\": 0, \"ticks\": \"\"}}, \"type\": \"histogram\"}], \"histogram2d\": [{\"colorbar\": {\"outlinewidth\": 0, \"ticks\": \"\"}, \"colorscale\": [[0.0, \"#0d0887\"], [0.1111111111111111, \"#46039f\"], [0.2222222222222222, \"#7201a8\"], [0.3333333333333333, \"#9c179e\"], [0.4444444444444444, \"#bd3786\"], [0.5555555555555556, \"#d8576b\"], [0.6666666666666666, \"#ed7953\"], [0.7777777777777778, \"#fb9f3a\"], [0.8888888888888888, \"#fdca26\"], [1.0, \"#f0f921\"]], \"type\": \"histogram2d\"}], \"histogram2dcontour\": [{\"colorbar\": {\"outlinewidth\": 0, \"ticks\": \"\"}, \"colorscale\": [[0.0, \"#0d0887\"], [0.1111111111111111, \"#46039f\"], [0.2222222222222222, \"#7201a8\"], [0.3333333333333333, \"#9c179e\"], [0.4444444444444444, \"#bd3786\"], [0.5555555555555556, \"#d8576b\"], [0.6666666666666666, \"#ed7953\"], [0.7777777777777778, \"#fb9f3a\"], [0.8888888888888888, \"#fdca26\"], [1.0, \"#f0f921\"]], \"type\": \"histogram2dcontour\"}], \"mesh3d\": [{\"colorbar\": {\"outlinewidth\": 0, \"ticks\": \"\"}, \"type\": \"mesh3d\"}], \"parcoords\": [{\"line\": {\"colorbar\": {\"outlinewidth\": 0, \"ticks\": \"\"}}, \"type\": \"parcoords\"}], \"pie\": [{\"automargin\": true, \"type\": \"pie\"}], \"scatter\": [{\"marker\": {\"colorbar\": {\"outlinewidth\": 0, \"ticks\": \"\"}}, \"type\": \"scatter\"}], \"scatter3d\": [{\"line\": {\"colorbar\": {\"outlinewidth\": 0, \"ticks\": \"\"}}, \"marker\": {\"colorbar\": {\"outlinewidth\": 0, \"ticks\": \"\"}}, \"type\": \"scatter3d\"}], \"scattercarpet\": [{\"marker\": {\"colorbar\": {\"outlinewidth\": 0, \"ticks\": \"\"}}, \"type\": \"scattercarpet\"}], \"scattergeo\": [{\"marker\": {\"colorbar\": {\"outlinewidth\": 0, \"ticks\": \"\"}}, \"type\": \"scattergeo\"}], \"scattergl\": [{\"marker\": {\"colorbar\": {\"outlinewidth\": 0, \"ticks\": \"\"}}, \"type\": \"scattergl\"}], \"scattermapbox\": [{\"marker\": {\"colorbar\": {\"outlinewidth\": 0, \"ticks\": \"\"}}, \"type\": \"scattermapbox\"}], \"scatterpolar\": [{\"marker\": {\"colorbar\": {\"outlinewidth\": 0, \"ticks\": \"\"}}, \"type\": \"scatterpolar\"}], \"scatterpolargl\": [{\"marker\": {\"colorbar\": {\"outlinewidth\": 0, \"ticks\": \"\"}}, \"type\": \"scatterpolargl\"}], \"scatterternary\": [{\"marker\": {\"colorbar\": {\"outlinewidth\": 0, \"ticks\": \"\"}}, \"type\": \"scatterternary\"}], \"surface\": [{\"colorbar\": {\"outlinewidth\": 0, \"ticks\": \"\"}, \"colorscale\": [[0.0, \"#0d0887\"], [0.1111111111111111, \"#46039f\"], [0.2222222222222222, \"#7201a8\"], [0.3333333333333333, \"#9c179e\"], [0.4444444444444444, \"#bd3786\"], [0.5555555555555556, \"#d8576b\"], [0.6666666666666666, \"#ed7953\"], [0.7777777777777778, \"#fb9f3a\"], [0.8888888888888888, \"#fdca26\"], [1.0, \"#f0f921\"]], \"type\": \"surface\"}], \"table\": [{\"cells\": {\"fill\": {\"color\": \"#EBF0F8\"}, \"line\": {\"color\": \"white\"}}, \"header\": {\"fill\": {\"color\": \"#C8D4E3\"}, \"line\": {\"color\": \"white\"}}, \"type\": \"table\"}]}, \"layout\": {\"annotationdefaults\": {\"arrowcolor\": \"#2a3f5f\", \"arrowhead\": 0, \"arrowwidth\": 1}, \"autotypenumbers\": \"strict\", \"coloraxis\": {\"colorbar\": {\"outlinewidth\": 0, \"ticks\": \"\"}}, \"colorscale\": {\"diverging\": [[0, \"#8e0152\"], [0.1, \"#c51b7d\"], [0.2, \"#de77ae\"], [0.3, \"#f1b6da\"], [0.4, \"#fde0ef\"], [0.5, \"#f7f7f7\"], [0.6, \"#e6f5d0\"], [0.7, \"#b8e186\"], [0.8, \"#7fbc41\"], [0.9, \"#4d9221\"], [1, \"#276419\"]], \"sequential\": [[0.0, \"#0d0887\"], [0.1111111111111111, \"#46039f\"], [0.2222222222222222, \"#7201a8\"], [0.3333333333333333, \"#9c179e\"], [0.4444444444444444, \"#bd3786\"], [0.5555555555555556, \"#d8576b\"], [0.6666666666666666, \"#ed7953\"], [0.7777777777777778, \"#fb9f3a\"], [0.8888888888888888, \"#fdca26\"], [1.0, \"#f0f921\"]], \"sequentialminus\": [[0.0, \"#0d0887\"], [0.1111111111111111, \"#46039f\"], [0.2222222222222222, \"#7201a8\"], [0.3333333333333333, \"#9c179e\"], [0.4444444444444444, \"#bd3786\"], [0.5555555555555556, \"#d8576b\"], [0.6666666666666666, \"#ed7953\"], [0.7777777777777778, \"#fb9f3a\"], [0.8888888888888888, \"#fdca26\"], [1.0, \"#f0f921\"]]}, \"colorway\": [\"#636efa\", \"#EF553B\", \"#00cc96\", \"#ab63fa\", \"#FFA15A\", \"#19d3f3\", \"#FF6692\", \"#B6E880\", \"#FF97FF\", \"#FECB52\"], \"font\": {\"color\": \"#2a3f5f\"}, \"geo\": {\"bgcolor\": \"white\", \"lakecolor\": \"white\", \"landcolor\": \"#E5ECF6\", \"showlakes\": true, \"showland\": true, \"subunitcolor\": \"white\"}, \"hoverlabel\": {\"align\": \"left\"}, \"hovermode\": \"closest\", \"mapbox\": {\"style\": \"light\"}, \"paper_bgcolor\": \"white\", \"plot_bgcolor\": \"#E5ECF6\", \"polar\": {\"angularaxis\": {\"gridcolor\": \"white\", \"linecolor\": \"white\", \"ticks\": \"\"}, \"bgcolor\": \"#E5ECF6\", \"radialaxis\": {\"gridcolor\": \"white\", \"linecolor\": \"white\", \"ticks\": \"\"}}, \"scene\": {\"xaxis\": {\"backgroundcolor\": \"#E5ECF6\", \"gridcolor\": \"white\", \"gridwidth\": 2, \"linecolor\": \"white\", \"showbackground\": true, \"ticks\": \"\", \"zerolinecolor\": \"white\"}, \"yaxis\": {\"backgroundcolor\": \"#E5ECF6\", \"gridcolor\": \"white\", \"gridwidth\": 2, \"linecolor\": \"white\", \"showbackground\": true, \"ticks\": \"\", \"zerolinecolor\": \"white\"}, \"zaxis\": {\"backgroundcolor\": \"#E5ECF6\", \"gridcolor\": \"white\", \"gridwidth\": 2, \"linecolor\": \"white\", \"showbackground\": true, \"ticks\": \"\", \"zerolinecolor\": \"white\"}}, \"shapedefaults\": {\"line\": {\"color\": \"#2a3f5f\"}}, \"ternary\": {\"aaxis\": {\"gridcolor\": \"white\", \"linecolor\": \"white\", \"ticks\": \"\"}, \"baxis\": {\"gridcolor\": \"white\", \"linecolor\": \"white\", \"ticks\": \"\"}, \"bgcolor\": \"#E5ECF6\", \"caxis\": {\"gridcolor\": \"white\", \"linecolor\": \"white\", \"ticks\": \"\"}}, \"title\": {\"x\": 0.05}, \"xaxis\": {\"automargin\": true, \"gridcolor\": \"white\", \"linecolor\": \"white\", \"ticks\": \"\", \"title\": {\"standoff\": 15}, \"zerolinecolor\": \"white\", \"zerolinewidth\": 2}, \"yaxis\": {\"automargin\": true, \"gridcolor\": \"white\", \"linecolor\": \"white\", \"ticks\": \"\", \"title\": {\"standoff\": 15}, \"zerolinecolor\": \"white\", \"zerolinewidth\": 2}}}, \"title\": {\"text\": \"Popularity of Books\"}, \"xaxis\": {\"anchor\": \"y\", \"domain\": [0.0, 1.0], \"title\": {\"text\": \"User Rating\"}}, \"yaxis\": {\"anchor\": \"x\", \"domain\": [0.0, 1.0], \"title\": {\"text\": \"Reviews\"}}},                        {\"responsive\": true}                    ).then(function(){\n",
       "                            \n",
       "var gd = document.getElementById('1a16ad14-3d20-4cf9-aa26-29b37a59727e');\n",
       "var x = new MutationObserver(function (mutations, observer) {{\n",
       "        var display = window.getComputedStyle(gd).display;\n",
       "        if (!display || display === 'none') {{\n",
       "            console.log([gd, 'removed!']);\n",
       "            Plotly.purge(gd);\n",
       "            observer.disconnect();\n",
       "        }}\n",
       "}});\n",
       "\n",
       "// Listen for the removal of the full notebook cells\n",
       "var notebookContainer = gd.closest('#notebook-container');\n",
       "if (notebookContainer) {{\n",
       "    x.observe(notebookContainer, {childList: true});\n",
       "}}\n",
       "\n",
       "// Listen for the clearing of the current output cell\n",
       "var outputEl = gd.closest('.output');\n",
       "if (outputEl) {{\n",
       "    x.observe(outputEl, {childList: true});\n",
       "}}\n",
       "\n",
       "                        })                };                });            </script>        </div>"
      ]
     },
     "metadata": {},
     "output_type": "display_data"
    }
   ],
   "source": [
    "fig = px.scatter(dataset, x=\"User Rating\", y=\"Reviews\", title=\"Popularity of Books\", color=\"Genre\")\n",
    "fig.show()"
   ]
  },
  {
   "cell_type": "markdown",
   "metadata": {},
   "source": [
    "According to the graph above:\n",
    "- User Rating and Number of reviews affect the popularity of the book.\n",
    "- Majority of the popular books have a Rating above *4.6*.\n",
    "- Rating of 7 books are less than 4"
   ]
  },
  {
   "cell_type": "markdown",
   "metadata": {},
   "source": [
    "#### The most popular book on Amazon"
   ]
  },
  {
   "cell_type": "code",
   "execution_count": 25,
   "metadata": {},
   "outputs": [
    {
     "data": {
      "text/html": [
       "<div>\n",
       "<style scoped>\n",
       "    .dataframe tbody tr th:only-of-type {\n",
       "        vertical-align: middle;\n",
       "    }\n",
       "\n",
       "    .dataframe tbody tr th {\n",
       "        vertical-align: top;\n",
       "    }\n",
       "\n",
       "    .dataframe thead th {\n",
       "        text-align: right;\n",
       "    }\n",
       "</style>\n",
       "<table border=\"1\" class=\"dataframe\">\n",
       "  <thead>\n",
       "    <tr style=\"text-align: right;\">\n",
       "      <th></th>\n",
       "      <th>Name</th>\n",
       "      <th>Author</th>\n",
       "      <th>User Rating</th>\n",
       "      <th>Reviews</th>\n",
       "      <th>Price</th>\n",
       "      <th>Year</th>\n",
       "      <th>Genre</th>\n",
       "    </tr>\n",
       "  </thead>\n",
       "  <tbody>\n",
       "    <tr>\n",
       "      <th>534</th>\n",
       "      <td>Where the Crawdads Sing</td>\n",
       "      <td>Delia Owens</td>\n",
       "      <td>4.8</td>\n",
       "      <td>87841</td>\n",
       "      <td>15</td>\n",
       "      <td>2019</td>\n",
       "      <td>Fiction</td>\n",
       "    </tr>\n",
       "  </tbody>\n",
       "</table>\n",
       "</div>"
      ],
      "text/plain": [
       "                        Name       Author  User Rating  Reviews  Price  Year  \\\n",
       "534  Where the Crawdads Sing  Delia Owens          4.8    87841     15  2019   \n",
       "\n",
       "       Genre  \n",
       "534  Fiction  "
      ]
     },
     "execution_count": 25,
     "metadata": {},
     "output_type": "execute_result"
    }
   ],
   "source": [
    "dataset[dataset['Reviews'] == dataset['Reviews'].max()]"
   ]
  },
  {
   "cell_type": "markdown",
   "metadata": {},
   "source": [
    "#### Highest Rated Books"
   ]
  },
  {
   "cell_type": "code",
   "execution_count": 57,
   "metadata": {
    "scrolled": true
   },
   "outputs": [
    {
     "data": {
      "text/html": [
       "<div>\n",
       "<style scoped>\n",
       "    .dataframe tbody tr th:only-of-type {\n",
       "        vertical-align: middle;\n",
       "    }\n",
       "\n",
       "    .dataframe tbody tr th {\n",
       "        vertical-align: top;\n",
       "    }\n",
       "\n",
       "    .dataframe thead th {\n",
       "        text-align: right;\n",
       "    }\n",
       "</style>\n",
       "<table border=\"1\" class=\"dataframe\">\n",
       "  <thead>\n",
       "    <tr style=\"text-align: right;\">\n",
       "      <th></th>\n",
       "      <th>Name</th>\n",
       "      <th>Author</th>\n",
       "      <th>Year</th>\n",
       "    </tr>\n",
       "  </thead>\n",
       "  <tbody>\n",
       "    <tr>\n",
       "      <th>0</th>\n",
       "      <td>Brown Bear, Brown Bear, What Do You See?</td>\n",
       "      <td>Bill Martin Jr.</td>\n",
       "      <td>2017</td>\n",
       "    </tr>\n",
       "    <tr>\n",
       "      <th>1</th>\n",
       "      <td>Brown Bear, Brown Bear, What Do You See?</td>\n",
       "      <td>Bill Martin Jr.</td>\n",
       "      <td>2019</td>\n",
       "    </tr>\n",
       "    <tr>\n",
       "      <th>2</th>\n",
       "      <td>Dog Man and Cat Kid: From the Creator of Capta...</td>\n",
       "      <td>Dav Pilkey</td>\n",
       "      <td>2018</td>\n",
       "    </tr>\n",
       "    <tr>\n",
       "      <th>3</th>\n",
       "      <td>Dog Man: A Tale of Two Kitties: From the Creat...</td>\n",
       "      <td>Dav Pilkey</td>\n",
       "      <td>2017</td>\n",
       "    </tr>\n",
       "    <tr>\n",
       "      <th>4</th>\n",
       "      <td>Dog Man: Brawl of the Wild: From the Creator o...</td>\n",
       "      <td>Dav Pilkey</td>\n",
       "      <td>2018</td>\n",
       "    </tr>\n",
       "    <tr>\n",
       "      <th>5</th>\n",
       "      <td>Dog Man: Brawl of the Wild: From the Creator o...</td>\n",
       "      <td>Dav Pilkey</td>\n",
       "      <td>2019</td>\n",
       "    </tr>\n",
       "    <tr>\n",
       "      <th>6</th>\n",
       "      <td>Dog Man: Fetch-22: From the Creator of Captain...</td>\n",
       "      <td>Dav Pilkey</td>\n",
       "      <td>2019</td>\n",
       "    </tr>\n",
       "    <tr>\n",
       "      <th>7</th>\n",
       "      <td>Dog Man: For Whom the Ball Rolls: From the Cre...</td>\n",
       "      <td>Dav Pilkey</td>\n",
       "      <td>2019</td>\n",
       "    </tr>\n",
       "    <tr>\n",
       "      <th>8</th>\n",
       "      <td>Dog Man: Lord of the Fleas: From the Creator o...</td>\n",
       "      <td>Dav Pilkey</td>\n",
       "      <td>2018</td>\n",
       "    </tr>\n",
       "    <tr>\n",
       "      <th>9</th>\n",
       "      <td>Goodnight, Goodnight Construction Site (Hardco...</td>\n",
       "      <td>Sherri Duskey Rinker</td>\n",
       "      <td>2012</td>\n",
       "    </tr>\n",
       "    <tr>\n",
       "      <th>10</th>\n",
       "      <td>Goodnight, Goodnight Construction Site (Hardco...</td>\n",
       "      <td>Sherri Duskey Rinker</td>\n",
       "      <td>2013</td>\n",
       "    </tr>\n",
       "    <tr>\n",
       "      <th>11</th>\n",
       "      <td>Hamilton: The Revolution</td>\n",
       "      <td>Lin-Manuel Miranda</td>\n",
       "      <td>2016</td>\n",
       "    </tr>\n",
       "    <tr>\n",
       "      <th>12</th>\n",
       "      <td>Harry Potter and the Chamber of Secrets: The I...</td>\n",
       "      <td>J.K. Rowling</td>\n",
       "      <td>2016</td>\n",
       "    </tr>\n",
       "    <tr>\n",
       "      <th>13</th>\n",
       "      <td>Harry Potter and the Goblet of Fire: The Illus...</td>\n",
       "      <td>J. K. Rowling</td>\n",
       "      <td>2019</td>\n",
       "    </tr>\n",
       "    <tr>\n",
       "      <th>14</th>\n",
       "      <td>Harry Potter and the Prisoner of Azkaban: The ...</td>\n",
       "      <td>J.K. Rowling</td>\n",
       "      <td>2017</td>\n",
       "    </tr>\n",
       "    <tr>\n",
       "      <th>15</th>\n",
       "      <td>Harry Potter and the Sorcerer's Stone: The Ill...</td>\n",
       "      <td>J.K. Rowling</td>\n",
       "      <td>2016</td>\n",
       "    </tr>\n",
       "    <tr>\n",
       "      <th>16</th>\n",
       "      <td>Humans of New York : Stories</td>\n",
       "      <td>Brandon Stanton</td>\n",
       "      <td>2015</td>\n",
       "    </tr>\n",
       "    <tr>\n",
       "      <th>17</th>\n",
       "      <td>Jesus Calling: Enjoying Peace in His Presence ...</td>\n",
       "      <td>Sarah Young</td>\n",
       "      <td>2011</td>\n",
       "    </tr>\n",
       "    <tr>\n",
       "      <th>18</th>\n",
       "      <td>Jesus Calling: Enjoying Peace in His Presence ...</td>\n",
       "      <td>Sarah Young</td>\n",
       "      <td>2012</td>\n",
       "    </tr>\n",
       "    <tr>\n",
       "      <th>19</th>\n",
       "      <td>Jesus Calling: Enjoying Peace in His Presence ...</td>\n",
       "      <td>Sarah Young</td>\n",
       "      <td>2013</td>\n",
       "    </tr>\n",
       "    <tr>\n",
       "      <th>20</th>\n",
       "      <td>Jesus Calling: Enjoying Peace in His Presence ...</td>\n",
       "      <td>Sarah Young</td>\n",
       "      <td>2014</td>\n",
       "    </tr>\n",
       "    <tr>\n",
       "      <th>21</th>\n",
       "      <td>Jesus Calling: Enjoying Peace in His Presence ...</td>\n",
       "      <td>Sarah Young</td>\n",
       "      <td>2015</td>\n",
       "    </tr>\n",
       "    <tr>\n",
       "      <th>22</th>\n",
       "      <td>Jesus Calling: Enjoying Peace in His Presence ...</td>\n",
       "      <td>Sarah Young</td>\n",
       "      <td>2016</td>\n",
       "    </tr>\n",
       "    <tr>\n",
       "      <th>23</th>\n",
       "      <td>Last Week Tonight with John Oliver Presents A ...</td>\n",
       "      <td>Jill Twiss</td>\n",
       "      <td>2018</td>\n",
       "    </tr>\n",
       "    <tr>\n",
       "      <th>24</th>\n",
       "      <td>Little Blue Truck</td>\n",
       "      <td>Alice Schertle</td>\n",
       "      <td>2014</td>\n",
       "    </tr>\n",
       "    <tr>\n",
       "      <th>25</th>\n",
       "      <td>Obama: An Intimate Portrait</td>\n",
       "      <td>Pete Souza</td>\n",
       "      <td>2017</td>\n",
       "    </tr>\n",
       "    <tr>\n",
       "      <th>26</th>\n",
       "      <td>Oh, the Places You'll Go!</td>\n",
       "      <td>Dr. Seuss</td>\n",
       "      <td>2012</td>\n",
       "    </tr>\n",
       "    <tr>\n",
       "      <th>27</th>\n",
       "      <td>Oh, the Places You'll Go!</td>\n",
       "      <td>Dr. Seuss</td>\n",
       "      <td>2013</td>\n",
       "    </tr>\n",
       "    <tr>\n",
       "      <th>28</th>\n",
       "      <td>Oh, the Places You'll Go!</td>\n",
       "      <td>Dr. Seuss</td>\n",
       "      <td>2014</td>\n",
       "    </tr>\n",
       "    <tr>\n",
       "      <th>29</th>\n",
       "      <td>Oh, the Places You'll Go!</td>\n",
       "      <td>Dr. Seuss</td>\n",
       "      <td>2015</td>\n",
       "    </tr>\n",
       "    <tr>\n",
       "      <th>30</th>\n",
       "      <td>Oh, the Places You'll Go!</td>\n",
       "      <td>Dr. Seuss</td>\n",
       "      <td>2016</td>\n",
       "    </tr>\n",
       "    <tr>\n",
       "      <th>31</th>\n",
       "      <td>Oh, the Places You'll Go!</td>\n",
       "      <td>Dr. Seuss</td>\n",
       "      <td>2017</td>\n",
       "    </tr>\n",
       "    <tr>\n",
       "      <th>32</th>\n",
       "      <td>Oh, the Places You'll Go!</td>\n",
       "      <td>Dr. Seuss</td>\n",
       "      <td>2018</td>\n",
       "    </tr>\n",
       "    <tr>\n",
       "      <th>33</th>\n",
       "      <td>Oh, the Places You'll Go!</td>\n",
       "      <td>Dr. Seuss</td>\n",
       "      <td>2019</td>\n",
       "    </tr>\n",
       "    <tr>\n",
       "      <th>34</th>\n",
       "      <td>Rush Revere and the Brave Pilgrims: Time-Trave...</td>\n",
       "      <td>Rush Limbaugh</td>\n",
       "      <td>2013</td>\n",
       "    </tr>\n",
       "    <tr>\n",
       "      <th>35</th>\n",
       "      <td>Rush Revere and the First Patriots: Time-Trave...</td>\n",
       "      <td>Rush Limbaugh</td>\n",
       "      <td>2014</td>\n",
       "    </tr>\n",
       "    <tr>\n",
       "      <th>36</th>\n",
       "      <td>Strange Planet (Strange Planet Series)</td>\n",
       "      <td>Nathan W. Pyle</td>\n",
       "      <td>2019</td>\n",
       "    </tr>\n",
       "    <tr>\n",
       "      <th>37</th>\n",
       "      <td>The Legend of Zelda: Hyrule Historia</td>\n",
       "      <td>Patrick Thorpe</td>\n",
       "      <td>2013</td>\n",
       "    </tr>\n",
       "    <tr>\n",
       "      <th>38</th>\n",
       "      <td>The Magnolia Story</td>\n",
       "      <td>Chip Gaines</td>\n",
       "      <td>2016</td>\n",
       "    </tr>\n",
       "    <tr>\n",
       "      <th>39</th>\n",
       "      <td>The Very Hungry Caterpillar</td>\n",
       "      <td>Eric Carle</td>\n",
       "      <td>2013</td>\n",
       "    </tr>\n",
       "    <tr>\n",
       "      <th>40</th>\n",
       "      <td>The Very Hungry Caterpillar</td>\n",
       "      <td>Eric Carle</td>\n",
       "      <td>2014</td>\n",
       "    </tr>\n",
       "    <tr>\n",
       "      <th>41</th>\n",
       "      <td>The Very Hungry Caterpillar</td>\n",
       "      <td>Eric Carle</td>\n",
       "      <td>2015</td>\n",
       "    </tr>\n",
       "    <tr>\n",
       "      <th>42</th>\n",
       "      <td>The Very Hungry Caterpillar</td>\n",
       "      <td>Eric Carle</td>\n",
       "      <td>2016</td>\n",
       "    </tr>\n",
       "    <tr>\n",
       "      <th>43</th>\n",
       "      <td>The Very Hungry Caterpillar</td>\n",
       "      <td>Eric Carle</td>\n",
       "      <td>2017</td>\n",
       "    </tr>\n",
       "    <tr>\n",
       "      <th>44</th>\n",
       "      <td>The Very Hungry Caterpillar</td>\n",
       "      <td>Eric Carle</td>\n",
       "      <td>2018</td>\n",
       "    </tr>\n",
       "    <tr>\n",
       "      <th>45</th>\n",
       "      <td>The Very Hungry Caterpillar</td>\n",
       "      <td>Eric Carle</td>\n",
       "      <td>2019</td>\n",
       "    </tr>\n",
       "    <tr>\n",
       "      <th>46</th>\n",
       "      <td>The Wonderful Things You Will Be</td>\n",
       "      <td>Emily Winfield Martin</td>\n",
       "      <td>2016</td>\n",
       "    </tr>\n",
       "    <tr>\n",
       "      <th>47</th>\n",
       "      <td>The Wonderful Things You Will Be</td>\n",
       "      <td>Emily Winfield Martin</td>\n",
       "      <td>2017</td>\n",
       "    </tr>\n",
       "    <tr>\n",
       "      <th>48</th>\n",
       "      <td>The Wonderful Things You Will Be</td>\n",
       "      <td>Emily Winfield Martin</td>\n",
       "      <td>2018</td>\n",
       "    </tr>\n",
       "    <tr>\n",
       "      <th>49</th>\n",
       "      <td>The Wonderful Things You Will Be</td>\n",
       "      <td>Emily Winfield Martin</td>\n",
       "      <td>2019</td>\n",
       "    </tr>\n",
       "    <tr>\n",
       "      <th>50</th>\n",
       "      <td>Unfreedom of the Press</td>\n",
       "      <td>Mark R. Levin</td>\n",
       "      <td>2019</td>\n",
       "    </tr>\n",
       "    <tr>\n",
       "      <th>51</th>\n",
       "      <td>Wrecking Ball (Diary of a Wimpy Kid Book 14)</td>\n",
       "      <td>Jeff Kinney</td>\n",
       "      <td>2019</td>\n",
       "    </tr>\n",
       "  </tbody>\n",
       "</table>\n",
       "</div>"
      ],
      "text/plain": [
       "                                                 Name                 Author  \\\n",
       "0            Brown Bear, Brown Bear, What Do You See?        Bill Martin Jr.   \n",
       "1            Brown Bear, Brown Bear, What Do You See?        Bill Martin Jr.   \n",
       "2   Dog Man and Cat Kid: From the Creator of Capta...             Dav Pilkey   \n",
       "3   Dog Man: A Tale of Two Kitties: From the Creat...             Dav Pilkey   \n",
       "4   Dog Man: Brawl of the Wild: From the Creator o...             Dav Pilkey   \n",
       "5   Dog Man: Brawl of the Wild: From the Creator o...             Dav Pilkey   \n",
       "6   Dog Man: Fetch-22: From the Creator of Captain...             Dav Pilkey   \n",
       "7   Dog Man: For Whom the Ball Rolls: From the Cre...             Dav Pilkey   \n",
       "8   Dog Man: Lord of the Fleas: From the Creator o...             Dav Pilkey   \n",
       "9   Goodnight, Goodnight Construction Site (Hardco...   Sherri Duskey Rinker   \n",
       "10  Goodnight, Goodnight Construction Site (Hardco...   Sherri Duskey Rinker   \n",
       "11                           Hamilton: The Revolution     Lin-Manuel Miranda   \n",
       "12  Harry Potter and the Chamber of Secrets: The I...           J.K. Rowling   \n",
       "13  Harry Potter and the Goblet of Fire: The Illus...          J. K. Rowling   \n",
       "14  Harry Potter and the Prisoner of Azkaban: The ...           J.K. Rowling   \n",
       "15  Harry Potter and the Sorcerer's Stone: The Ill...           J.K. Rowling   \n",
       "16                       Humans of New York : Stories        Brandon Stanton   \n",
       "17  Jesus Calling: Enjoying Peace in His Presence ...            Sarah Young   \n",
       "18  Jesus Calling: Enjoying Peace in His Presence ...            Sarah Young   \n",
       "19  Jesus Calling: Enjoying Peace in His Presence ...            Sarah Young   \n",
       "20  Jesus Calling: Enjoying Peace in His Presence ...            Sarah Young   \n",
       "21  Jesus Calling: Enjoying Peace in His Presence ...            Sarah Young   \n",
       "22  Jesus Calling: Enjoying Peace in His Presence ...            Sarah Young   \n",
       "23  Last Week Tonight with John Oliver Presents A ...             Jill Twiss   \n",
       "24                                  Little Blue Truck         Alice Schertle   \n",
       "25                        Obama: An Intimate Portrait             Pete Souza   \n",
       "26                          Oh, the Places You'll Go!              Dr. Seuss   \n",
       "27                          Oh, the Places You'll Go!              Dr. Seuss   \n",
       "28                          Oh, the Places You'll Go!              Dr. Seuss   \n",
       "29                          Oh, the Places You'll Go!              Dr. Seuss   \n",
       "30                          Oh, the Places You'll Go!              Dr. Seuss   \n",
       "31                          Oh, the Places You'll Go!              Dr. Seuss   \n",
       "32                          Oh, the Places You'll Go!              Dr. Seuss   \n",
       "33                          Oh, the Places You'll Go!              Dr. Seuss   \n",
       "34  Rush Revere and the Brave Pilgrims: Time-Trave...          Rush Limbaugh   \n",
       "35  Rush Revere and the First Patriots: Time-Trave...          Rush Limbaugh   \n",
       "36             Strange Planet (Strange Planet Series)         Nathan W. Pyle   \n",
       "37               The Legend of Zelda: Hyrule Historia         Patrick Thorpe   \n",
       "38                                 The Magnolia Story            Chip Gaines   \n",
       "39                        The Very Hungry Caterpillar             Eric Carle   \n",
       "40                        The Very Hungry Caterpillar             Eric Carle   \n",
       "41                        The Very Hungry Caterpillar             Eric Carle   \n",
       "42                        The Very Hungry Caterpillar             Eric Carle   \n",
       "43                        The Very Hungry Caterpillar             Eric Carle   \n",
       "44                        The Very Hungry Caterpillar             Eric Carle   \n",
       "45                        The Very Hungry Caterpillar             Eric Carle   \n",
       "46                   The Wonderful Things You Will Be  Emily Winfield Martin   \n",
       "47                   The Wonderful Things You Will Be  Emily Winfield Martin   \n",
       "48                   The Wonderful Things You Will Be  Emily Winfield Martin   \n",
       "49                   The Wonderful Things You Will Be  Emily Winfield Martin   \n",
       "50                             Unfreedom of the Press          Mark R. Levin   \n",
       "51       Wrecking Ball (Diary of a Wimpy Kid Book 14)            Jeff Kinney   \n",
       "\n",
       "    Year  \n",
       "0   2017  \n",
       "1   2019  \n",
       "2   2018  \n",
       "3   2017  \n",
       "4   2018  \n",
       "5   2019  \n",
       "6   2019  \n",
       "7   2019  \n",
       "8   2018  \n",
       "9   2012  \n",
       "10  2013  \n",
       "11  2016  \n",
       "12  2016  \n",
       "13  2019  \n",
       "14  2017  \n",
       "15  2016  \n",
       "16  2015  \n",
       "17  2011  \n",
       "18  2012  \n",
       "19  2013  \n",
       "20  2014  \n",
       "21  2015  \n",
       "22  2016  \n",
       "23  2018  \n",
       "24  2014  \n",
       "25  2017  \n",
       "26  2012  \n",
       "27  2013  \n",
       "28  2014  \n",
       "29  2015  \n",
       "30  2016  \n",
       "31  2017  \n",
       "32  2018  \n",
       "33  2019  \n",
       "34  2013  \n",
       "35  2014  \n",
       "36  2019  \n",
       "37  2013  \n",
       "38  2016  \n",
       "39  2013  \n",
       "40  2014  \n",
       "41  2015  \n",
       "42  2016  \n",
       "43  2017  \n",
       "44  2018  \n",
       "45  2019  \n",
       "46  2016  \n",
       "47  2017  \n",
       "48  2018  \n",
       "49  2019  \n",
       "50  2019  \n",
       "51  2019  "
      ]
     },
     "execution_count": 57,
     "metadata": {},
     "output_type": "execute_result"
    }
   ],
   "source": [
    "dataset[dataset['User Rating'] == 4.9][['Name', 'Author', 'Year']].reset_index(drop=True)"
   ]
  },
  {
   "cell_type": "markdown",
   "metadata": {},
   "source": [
    "### Does the name of books affect User Rating?\n",
    "- Finding out relationship between The length of book title and rating."
   ]
  },
  {
   "cell_type": "code",
   "execution_count": 59,
   "metadata": {},
   "outputs": [],
   "source": [
    "length_of_title = [len(name) for name in dataset['Name']]\n",
    "dataset['Title Length'] = length_of_title"
   ]
  },
  {
   "cell_type": "code",
   "execution_count": 60,
   "metadata": {},
   "outputs": [
    {
     "data": {
      "application/vnd.plotly.v1+json": {
       "config": {
        "plotlyServerURL": "https://plot.ly"
       },
       "data": [
        {
         "type": "histogram",
         "x": [
          29,
          17,
          39,
          22,
          66,
          45,
          98,
          30,
          45,
          25,
          25,
          94,
          23,
          32,
          108,
          113,
          52,
          46,
          117,
          18,
          27,
          27,
          9,
          85,
          24,
          63,
          34,
          35,
          28,
          40,
          62,
          66,
          8,
          8,
          50,
          24,
          24,
          11,
          41,
          56,
          40,
          40,
          42,
          78,
          49,
          35,
          32,
          32,
          32,
          62,
          43,
          43,
          43,
          45,
          59,
          50,
          17,
          17,
          99,
          69,
          71,
          58,
          54,
          30,
          30,
          30,
          30,
          15,
          61,
          73,
          73,
          39,
          45,
          35,
          115,
          9,
          9,
          21,
          115,
          21,
          50,
          72,
          83,
          79,
          79,
          70,
          85,
          79,
          38,
          93,
          51,
          79,
          96,
          98,
          98,
          24,
          18,
          18,
          18,
          121,
          14,
          14,
          79,
          30,
          19,
          106,
          88,
          88,
          86,
          43,
          15,
          15,
          15,
          15,
          15,
          29,
          27,
          81,
          97,
          97,
          97,
          31,
          79,
          20,
          20,
          20,
          20,
          20,
          80,
          106,
          106,
          98,
          26,
          20,
          29,
          9,
          9,
          9,
          104,
          64,
          64,
          64,
          64,
          14,
          14,
          14,
          95,
          95,
          92,
          77,
          4,
          24,
          61,
          87,
          80,
          87,
          88,
          85,
          26,
          42,
          33,
          82,
          82,
          59,
          59,
          60,
          37,
          37,
          37,
          37,
          37,
          24,
          18,
          18,
          28,
          110,
          60,
          13,
          28,
          28,
          9,
          80,
          7,
          40,
          114,
          114,
          102,
          73,
          73,
          73,
          73,
          73,
          73,
          20,
          25,
          70,
          46,
          35,
          105,
          105,
          107,
          94,
          98,
          82,
          26,
          26,
          26,
          119,
          29,
          29,
          29,
          29,
          29,
          42,
          17,
          94,
          45,
          4,
          19,
          17,
          23,
          18,
          81,
          16,
          16,
          53,
          43,
          76,
          43,
          14,
          14,
          14,
          54,
          38,
          38,
          38,
          29,
          29,
          29,
          63,
          103,
          28,
          13,
          111,
          27,
          25,
          25,
          25,
          25,
          25,
          25,
          25,
          25,
          37,
          16,
          60,
          60,
          64,
          32,
          12,
          30,
          30,
          47,
          47,
          63,
          38,
          38,
          38,
          87,
          60,
          60,
          73,
          73,
          73,
          73,
          73,
          73,
          73,
          73,
          73,
          73,
          56,
          65,
          65,
          55,
          55,
          25,
          25,
          89,
          89,
          61,
          61,
          11,
          119,
          119,
          89,
          16,
          88,
          55,
          17,
          116,
          10,
          10,
          38,
          19,
          19,
          19,
          19,
          19,
          19,
          19,
          19,
          19,
          108,
          48,
          28,
          77,
          77,
          59,
          92,
          51,
          51,
          51,
          51,
          51,
          51,
          51,
          51,
          51,
          51,
          18,
          76,
          76,
          76,
          76,
          76,
          76,
          76,
          13,
          11,
          38,
          38,
          42,
          48,
          112,
          72,
          59,
          14,
          14,
          25,
          25,
          94,
          94,
          18,
          114,
          92,
          92,
          23,
          37,
          94,
          24,
          24,
          24,
          74,
          28,
          22,
          22,
          22,
          22,
          51,
          51,
          51,
          51,
          51,
          73,
          81,
          81,
          81,
          81,
          81,
          81,
          11,
          21,
          21,
          58,
          58,
          49,
          42,
          51,
          51,
          21,
          21,
          51,
          51,
          16,
          16,
          16,
          22,
          49,
          19,
          76,
          15,
          8,
          8,
          8,
          8,
          46,
          16,
          25,
          25,
          38,
          38,
          36,
          36,
          36,
          88,
          88,
          16,
          59,
          59,
          36,
          44,
          44,
          86,
          86,
          86,
          86,
          14,
          41,
          15,
          13,
          18,
          46,
          11,
          24,
          43,
          18,
          24,
          24,
          28,
          28,
          28,
          28,
          28,
          81,
          23,
          106,
          121,
          46,
          110,
          91,
          18,
          18,
          61,
          33,
          13,
          45,
          110,
          50,
          43,
          43,
          76,
          18,
          46,
          86,
          86,
          86,
          23,
          46,
          48,
          24,
          62,
          78,
          28,
          45,
          116,
          27,
          27,
          27,
          27,
          27,
          27,
          27,
          62,
          62,
          62,
          32,
          32,
          32,
          32,
          16,
          16,
          19,
          83,
          23,
          23,
          20,
          34,
          76,
          76,
          86,
          86,
          86,
          86,
          20,
          21,
          21,
          21,
          21,
          21,
          101,
          49,
          22,
          36,
          72,
          70,
          70,
          70,
          70,
          70,
          23,
          22,
          81,
          69,
          8,
          28,
          13,
          69,
          38,
          50,
          36,
          79,
          79,
          23,
          23,
          25,
          82,
          51,
          52,
          59,
          6,
          6,
          6,
          6,
          6,
          44,
          86,
          86,
          86,
          86
         ]
        }
       ],
       "layout": {
        "template": {
         "data": {
          "bar": [
           {
            "error_x": {
             "color": "#2a3f5f"
            },
            "error_y": {
             "color": "#2a3f5f"
            },
            "marker": {
             "line": {
              "color": "#E5ECF6",
              "width": 0.5
             }
            },
            "type": "bar"
           }
          ],
          "barpolar": [
           {
            "marker": {
             "line": {
              "color": "#E5ECF6",
              "width": 0.5
             }
            },
            "type": "barpolar"
           }
          ],
          "carpet": [
           {
            "aaxis": {
             "endlinecolor": "#2a3f5f",
             "gridcolor": "white",
             "linecolor": "white",
             "minorgridcolor": "white",
             "startlinecolor": "#2a3f5f"
            },
            "baxis": {
             "endlinecolor": "#2a3f5f",
             "gridcolor": "white",
             "linecolor": "white",
             "minorgridcolor": "white",
             "startlinecolor": "#2a3f5f"
            },
            "type": "carpet"
           }
          ],
          "choropleth": [
           {
            "colorbar": {
             "outlinewidth": 0,
             "ticks": ""
            },
            "type": "choropleth"
           }
          ],
          "contour": [
           {
            "colorbar": {
             "outlinewidth": 0,
             "ticks": ""
            },
            "colorscale": [
             [
              0,
              "#0d0887"
             ],
             [
              0.1111111111111111,
              "#46039f"
             ],
             [
              0.2222222222222222,
              "#7201a8"
             ],
             [
              0.3333333333333333,
              "#9c179e"
             ],
             [
              0.4444444444444444,
              "#bd3786"
             ],
             [
              0.5555555555555556,
              "#d8576b"
             ],
             [
              0.6666666666666666,
              "#ed7953"
             ],
             [
              0.7777777777777778,
              "#fb9f3a"
             ],
             [
              0.8888888888888888,
              "#fdca26"
             ],
             [
              1,
              "#f0f921"
             ]
            ],
            "type": "contour"
           }
          ],
          "contourcarpet": [
           {
            "colorbar": {
             "outlinewidth": 0,
             "ticks": ""
            },
            "type": "contourcarpet"
           }
          ],
          "heatmap": [
           {
            "colorbar": {
             "outlinewidth": 0,
             "ticks": ""
            },
            "colorscale": [
             [
              0,
              "#0d0887"
             ],
             [
              0.1111111111111111,
              "#46039f"
             ],
             [
              0.2222222222222222,
              "#7201a8"
             ],
             [
              0.3333333333333333,
              "#9c179e"
             ],
             [
              0.4444444444444444,
              "#bd3786"
             ],
             [
              0.5555555555555556,
              "#d8576b"
             ],
             [
              0.6666666666666666,
              "#ed7953"
             ],
             [
              0.7777777777777778,
              "#fb9f3a"
             ],
             [
              0.8888888888888888,
              "#fdca26"
             ],
             [
              1,
              "#f0f921"
             ]
            ],
            "type": "heatmap"
           }
          ],
          "heatmapgl": [
           {
            "colorbar": {
             "outlinewidth": 0,
             "ticks": ""
            },
            "colorscale": [
             [
              0,
              "#0d0887"
             ],
             [
              0.1111111111111111,
              "#46039f"
             ],
             [
              0.2222222222222222,
              "#7201a8"
             ],
             [
              0.3333333333333333,
              "#9c179e"
             ],
             [
              0.4444444444444444,
              "#bd3786"
             ],
             [
              0.5555555555555556,
              "#d8576b"
             ],
             [
              0.6666666666666666,
              "#ed7953"
             ],
             [
              0.7777777777777778,
              "#fb9f3a"
             ],
             [
              0.8888888888888888,
              "#fdca26"
             ],
             [
              1,
              "#f0f921"
             ]
            ],
            "type": "heatmapgl"
           }
          ],
          "histogram": [
           {
            "marker": {
             "colorbar": {
              "outlinewidth": 0,
              "ticks": ""
             }
            },
            "type": "histogram"
           }
          ],
          "histogram2d": [
           {
            "colorbar": {
             "outlinewidth": 0,
             "ticks": ""
            },
            "colorscale": [
             [
              0,
              "#0d0887"
             ],
             [
              0.1111111111111111,
              "#46039f"
             ],
             [
              0.2222222222222222,
              "#7201a8"
             ],
             [
              0.3333333333333333,
              "#9c179e"
             ],
             [
              0.4444444444444444,
              "#bd3786"
             ],
             [
              0.5555555555555556,
              "#d8576b"
             ],
             [
              0.6666666666666666,
              "#ed7953"
             ],
             [
              0.7777777777777778,
              "#fb9f3a"
             ],
             [
              0.8888888888888888,
              "#fdca26"
             ],
             [
              1,
              "#f0f921"
             ]
            ],
            "type": "histogram2d"
           }
          ],
          "histogram2dcontour": [
           {
            "colorbar": {
             "outlinewidth": 0,
             "ticks": ""
            },
            "colorscale": [
             [
              0,
              "#0d0887"
             ],
             [
              0.1111111111111111,
              "#46039f"
             ],
             [
              0.2222222222222222,
              "#7201a8"
             ],
             [
              0.3333333333333333,
              "#9c179e"
             ],
             [
              0.4444444444444444,
              "#bd3786"
             ],
             [
              0.5555555555555556,
              "#d8576b"
             ],
             [
              0.6666666666666666,
              "#ed7953"
             ],
             [
              0.7777777777777778,
              "#fb9f3a"
             ],
             [
              0.8888888888888888,
              "#fdca26"
             ],
             [
              1,
              "#f0f921"
             ]
            ],
            "type": "histogram2dcontour"
           }
          ],
          "mesh3d": [
           {
            "colorbar": {
             "outlinewidth": 0,
             "ticks": ""
            },
            "type": "mesh3d"
           }
          ],
          "parcoords": [
           {
            "line": {
             "colorbar": {
              "outlinewidth": 0,
              "ticks": ""
             }
            },
            "type": "parcoords"
           }
          ],
          "pie": [
           {
            "automargin": true,
            "type": "pie"
           }
          ],
          "scatter": [
           {
            "marker": {
             "colorbar": {
              "outlinewidth": 0,
              "ticks": ""
             }
            },
            "type": "scatter"
           }
          ],
          "scatter3d": [
           {
            "line": {
             "colorbar": {
              "outlinewidth": 0,
              "ticks": ""
             }
            },
            "marker": {
             "colorbar": {
              "outlinewidth": 0,
              "ticks": ""
             }
            },
            "type": "scatter3d"
           }
          ],
          "scattercarpet": [
           {
            "marker": {
             "colorbar": {
              "outlinewidth": 0,
              "ticks": ""
             }
            },
            "type": "scattercarpet"
           }
          ],
          "scattergeo": [
           {
            "marker": {
             "colorbar": {
              "outlinewidth": 0,
              "ticks": ""
             }
            },
            "type": "scattergeo"
           }
          ],
          "scattergl": [
           {
            "marker": {
             "colorbar": {
              "outlinewidth": 0,
              "ticks": ""
             }
            },
            "type": "scattergl"
           }
          ],
          "scattermapbox": [
           {
            "marker": {
             "colorbar": {
              "outlinewidth": 0,
              "ticks": ""
             }
            },
            "type": "scattermapbox"
           }
          ],
          "scatterpolar": [
           {
            "marker": {
             "colorbar": {
              "outlinewidth": 0,
              "ticks": ""
             }
            },
            "type": "scatterpolar"
           }
          ],
          "scatterpolargl": [
           {
            "marker": {
             "colorbar": {
              "outlinewidth": 0,
              "ticks": ""
             }
            },
            "type": "scatterpolargl"
           }
          ],
          "scatterternary": [
           {
            "marker": {
             "colorbar": {
              "outlinewidth": 0,
              "ticks": ""
             }
            },
            "type": "scatterternary"
           }
          ],
          "surface": [
           {
            "colorbar": {
             "outlinewidth": 0,
             "ticks": ""
            },
            "colorscale": [
             [
              0,
              "#0d0887"
             ],
             [
              0.1111111111111111,
              "#46039f"
             ],
             [
              0.2222222222222222,
              "#7201a8"
             ],
             [
              0.3333333333333333,
              "#9c179e"
             ],
             [
              0.4444444444444444,
              "#bd3786"
             ],
             [
              0.5555555555555556,
              "#d8576b"
             ],
             [
              0.6666666666666666,
              "#ed7953"
             ],
             [
              0.7777777777777778,
              "#fb9f3a"
             ],
             [
              0.8888888888888888,
              "#fdca26"
             ],
             [
              1,
              "#f0f921"
             ]
            ],
            "type": "surface"
           }
          ],
          "table": [
           {
            "cells": {
             "fill": {
              "color": "#EBF0F8"
             },
             "line": {
              "color": "white"
             }
            },
            "header": {
             "fill": {
              "color": "#C8D4E3"
             },
             "line": {
              "color": "white"
             }
            },
            "type": "table"
           }
          ]
         },
         "layout": {
          "annotationdefaults": {
           "arrowcolor": "#2a3f5f",
           "arrowhead": 0,
           "arrowwidth": 1
          },
          "autotypenumbers": "strict",
          "coloraxis": {
           "colorbar": {
            "outlinewidth": 0,
            "ticks": ""
           }
          },
          "colorscale": {
           "diverging": [
            [
             0,
             "#8e0152"
            ],
            [
             0.1,
             "#c51b7d"
            ],
            [
             0.2,
             "#de77ae"
            ],
            [
             0.3,
             "#f1b6da"
            ],
            [
             0.4,
             "#fde0ef"
            ],
            [
             0.5,
             "#f7f7f7"
            ],
            [
             0.6,
             "#e6f5d0"
            ],
            [
             0.7,
             "#b8e186"
            ],
            [
             0.8,
             "#7fbc41"
            ],
            [
             0.9,
             "#4d9221"
            ],
            [
             1,
             "#276419"
            ]
           ],
           "sequential": [
            [
             0,
             "#0d0887"
            ],
            [
             0.1111111111111111,
             "#46039f"
            ],
            [
             0.2222222222222222,
             "#7201a8"
            ],
            [
             0.3333333333333333,
             "#9c179e"
            ],
            [
             0.4444444444444444,
             "#bd3786"
            ],
            [
             0.5555555555555556,
             "#d8576b"
            ],
            [
             0.6666666666666666,
             "#ed7953"
            ],
            [
             0.7777777777777778,
             "#fb9f3a"
            ],
            [
             0.8888888888888888,
             "#fdca26"
            ],
            [
             1,
             "#f0f921"
            ]
           ],
           "sequentialminus": [
            [
             0,
             "#0d0887"
            ],
            [
             0.1111111111111111,
             "#46039f"
            ],
            [
             0.2222222222222222,
             "#7201a8"
            ],
            [
             0.3333333333333333,
             "#9c179e"
            ],
            [
             0.4444444444444444,
             "#bd3786"
            ],
            [
             0.5555555555555556,
             "#d8576b"
            ],
            [
             0.6666666666666666,
             "#ed7953"
            ],
            [
             0.7777777777777778,
             "#fb9f3a"
            ],
            [
             0.8888888888888888,
             "#fdca26"
            ],
            [
             1,
             "#f0f921"
            ]
           ]
          },
          "colorway": [
           "#636efa",
           "#EF553B",
           "#00cc96",
           "#ab63fa",
           "#FFA15A",
           "#19d3f3",
           "#FF6692",
           "#B6E880",
           "#FF97FF",
           "#FECB52"
          ],
          "font": {
           "color": "#2a3f5f"
          },
          "geo": {
           "bgcolor": "white",
           "lakecolor": "white",
           "landcolor": "#E5ECF6",
           "showlakes": true,
           "showland": true,
           "subunitcolor": "white"
          },
          "hoverlabel": {
           "align": "left"
          },
          "hovermode": "closest",
          "mapbox": {
           "style": "light"
          },
          "paper_bgcolor": "white",
          "plot_bgcolor": "#E5ECF6",
          "polar": {
           "angularaxis": {
            "gridcolor": "white",
            "linecolor": "white",
            "ticks": ""
           },
           "bgcolor": "#E5ECF6",
           "radialaxis": {
            "gridcolor": "white",
            "linecolor": "white",
            "ticks": ""
           }
          },
          "scene": {
           "xaxis": {
            "backgroundcolor": "#E5ECF6",
            "gridcolor": "white",
            "gridwidth": 2,
            "linecolor": "white",
            "showbackground": true,
            "ticks": "",
            "zerolinecolor": "white"
           },
           "yaxis": {
            "backgroundcolor": "#E5ECF6",
            "gridcolor": "white",
            "gridwidth": 2,
            "linecolor": "white",
            "showbackground": true,
            "ticks": "",
            "zerolinecolor": "white"
           },
           "zaxis": {
            "backgroundcolor": "#E5ECF6",
            "gridcolor": "white",
            "gridwidth": 2,
            "linecolor": "white",
            "showbackground": true,
            "ticks": "",
            "zerolinecolor": "white"
           }
          },
          "shapedefaults": {
           "line": {
            "color": "#2a3f5f"
           }
          },
          "ternary": {
           "aaxis": {
            "gridcolor": "white",
            "linecolor": "white",
            "ticks": ""
           },
           "baxis": {
            "gridcolor": "white",
            "linecolor": "white",
            "ticks": ""
           },
           "bgcolor": "#E5ECF6",
           "caxis": {
            "gridcolor": "white",
            "linecolor": "white",
            "ticks": ""
           }
          },
          "title": {
           "x": 0.05
          },
          "xaxis": {
           "automargin": true,
           "gridcolor": "white",
           "linecolor": "white",
           "ticks": "",
           "title": {
            "standoff": 15
           },
           "zerolinecolor": "white",
           "zerolinewidth": 2
          },
          "yaxis": {
           "automargin": true,
           "gridcolor": "white",
           "linecolor": "white",
           "ticks": "",
           "title": {
            "standoff": 15
           },
           "zerolinecolor": "white",
           "zerolinewidth": 2
          }
         }
        },
        "title": {
         "text": "The Length of Book Titles"
        },
        "xaxis": {
         "title": {
          "text": "Length"
         }
        },
        "yaxis": {
         "title": {
          "text": "Count"
         }
        }
       }
      },
      "text/html": [
       "<div>                            <div id=\"12f18771-7198-4054-a631-e23fc3da9072\" class=\"plotly-graph-div\" style=\"height:525px; width:100%;\"></div>            <script type=\"text/javascript\">                require([\"plotly\"], function(Plotly) {                    window.PLOTLYENV=window.PLOTLYENV || {};                                    if (document.getElementById(\"12f18771-7198-4054-a631-e23fc3da9072\")) {                    Plotly.newPlot(                        \"12f18771-7198-4054-a631-e23fc3da9072\",                        [{\"type\": \"histogram\", \"x\": [29, 17, 39, 22, 66, 45, 98, 30, 45, 25, 25, 94, 23, 32, 108, 113, 52, 46, 117, 18, 27, 27, 9, 85, 24, 63, 34, 35, 28, 40, 62, 66, 8, 8, 50, 24, 24, 11, 41, 56, 40, 40, 42, 78, 49, 35, 32, 32, 32, 62, 43, 43, 43, 45, 59, 50, 17, 17, 99, 69, 71, 58, 54, 30, 30, 30, 30, 15, 61, 73, 73, 39, 45, 35, 115, 9, 9, 21, 115, 21, 50, 72, 83, 79, 79, 70, 85, 79, 38, 93, 51, 79, 96, 98, 98, 24, 18, 18, 18, 121, 14, 14, 79, 30, 19, 106, 88, 88, 86, 43, 15, 15, 15, 15, 15, 29, 27, 81, 97, 97, 97, 31, 79, 20, 20, 20, 20, 20, 80, 106, 106, 98, 26, 20, 29, 9, 9, 9, 104, 64, 64, 64, 64, 14, 14, 14, 95, 95, 92, 77, 4, 24, 61, 87, 80, 87, 88, 85, 26, 42, 33, 82, 82, 59, 59, 60, 37, 37, 37, 37, 37, 24, 18, 18, 28, 110, 60, 13, 28, 28, 9, 80, 7, 40, 114, 114, 102, 73, 73, 73, 73, 73, 73, 20, 25, 70, 46, 35, 105, 105, 107, 94, 98, 82, 26, 26, 26, 119, 29, 29, 29, 29, 29, 42, 17, 94, 45, 4, 19, 17, 23, 18, 81, 16, 16, 53, 43, 76, 43, 14, 14, 14, 54, 38, 38, 38, 29, 29, 29, 63, 103, 28, 13, 111, 27, 25, 25, 25, 25, 25, 25, 25, 25, 37, 16, 60, 60, 64, 32, 12, 30, 30, 47, 47, 63, 38, 38, 38, 87, 60, 60, 73, 73, 73, 73, 73, 73, 73, 73, 73, 73, 56, 65, 65, 55, 55, 25, 25, 89, 89, 61, 61, 11, 119, 119, 89, 16, 88, 55, 17, 116, 10, 10, 38, 19, 19, 19, 19, 19, 19, 19, 19, 19, 108, 48, 28, 77, 77, 59, 92, 51, 51, 51, 51, 51, 51, 51, 51, 51, 51, 18, 76, 76, 76, 76, 76, 76, 76, 13, 11, 38, 38, 42, 48, 112, 72, 59, 14, 14, 25, 25, 94, 94, 18, 114, 92, 92, 23, 37, 94, 24, 24, 24, 74, 28, 22, 22, 22, 22, 51, 51, 51, 51, 51, 73, 81, 81, 81, 81, 81, 81, 11, 21, 21, 58, 58, 49, 42, 51, 51, 21, 21, 51, 51, 16, 16, 16, 22, 49, 19, 76, 15, 8, 8, 8, 8, 46, 16, 25, 25, 38, 38, 36, 36, 36, 88, 88, 16, 59, 59, 36, 44, 44, 86, 86, 86, 86, 14, 41, 15, 13, 18, 46, 11, 24, 43, 18, 24, 24, 28, 28, 28, 28, 28, 81, 23, 106, 121, 46, 110, 91, 18, 18, 61, 33, 13, 45, 110, 50, 43, 43, 76, 18, 46, 86, 86, 86, 23, 46, 48, 24, 62, 78, 28, 45, 116, 27, 27, 27, 27, 27, 27, 27, 62, 62, 62, 32, 32, 32, 32, 16, 16, 19, 83, 23, 23, 20, 34, 76, 76, 86, 86, 86, 86, 20, 21, 21, 21, 21, 21, 101, 49, 22, 36, 72, 70, 70, 70, 70, 70, 23, 22, 81, 69, 8, 28, 13, 69, 38, 50, 36, 79, 79, 23, 23, 25, 82, 51, 52, 59, 6, 6, 6, 6, 6, 44, 86, 86, 86, 86]}],                        {\"template\": {\"data\": {\"bar\": [{\"error_x\": {\"color\": \"#2a3f5f\"}, \"error_y\": {\"color\": \"#2a3f5f\"}, \"marker\": {\"line\": {\"color\": \"#E5ECF6\", \"width\": 0.5}}, \"type\": \"bar\"}], \"barpolar\": [{\"marker\": {\"line\": {\"color\": \"#E5ECF6\", \"width\": 0.5}}, \"type\": \"barpolar\"}], \"carpet\": [{\"aaxis\": {\"endlinecolor\": \"#2a3f5f\", \"gridcolor\": \"white\", \"linecolor\": \"white\", \"minorgridcolor\": \"white\", \"startlinecolor\": \"#2a3f5f\"}, \"baxis\": {\"endlinecolor\": \"#2a3f5f\", \"gridcolor\": \"white\", \"linecolor\": \"white\", \"minorgridcolor\": \"white\", \"startlinecolor\": \"#2a3f5f\"}, \"type\": \"carpet\"}], \"choropleth\": [{\"colorbar\": {\"outlinewidth\": 0, \"ticks\": \"\"}, \"type\": \"choropleth\"}], \"contour\": [{\"colorbar\": {\"outlinewidth\": 0, \"ticks\": \"\"}, \"colorscale\": [[0.0, \"#0d0887\"], [0.1111111111111111, \"#46039f\"], [0.2222222222222222, \"#7201a8\"], [0.3333333333333333, \"#9c179e\"], [0.4444444444444444, \"#bd3786\"], [0.5555555555555556, \"#d8576b\"], [0.6666666666666666, \"#ed7953\"], [0.7777777777777778, \"#fb9f3a\"], [0.8888888888888888, \"#fdca26\"], [1.0, \"#f0f921\"]], \"type\": \"contour\"}], \"contourcarpet\": [{\"colorbar\": {\"outlinewidth\": 0, \"ticks\": \"\"}, \"type\": \"contourcarpet\"}], \"heatmap\": [{\"colorbar\": {\"outlinewidth\": 0, \"ticks\": \"\"}, \"colorscale\": [[0.0, \"#0d0887\"], [0.1111111111111111, \"#46039f\"], [0.2222222222222222, \"#7201a8\"], [0.3333333333333333, \"#9c179e\"], [0.4444444444444444, \"#bd3786\"], [0.5555555555555556, \"#d8576b\"], [0.6666666666666666, \"#ed7953\"], [0.7777777777777778, \"#fb9f3a\"], [0.8888888888888888, \"#fdca26\"], [1.0, \"#f0f921\"]], \"type\": \"heatmap\"}], \"heatmapgl\": [{\"colorbar\": {\"outlinewidth\": 0, \"ticks\": \"\"}, \"colorscale\": [[0.0, \"#0d0887\"], [0.1111111111111111, \"#46039f\"], [0.2222222222222222, \"#7201a8\"], [0.3333333333333333, \"#9c179e\"], [0.4444444444444444, \"#bd3786\"], [0.5555555555555556, \"#d8576b\"], [0.6666666666666666, \"#ed7953\"], [0.7777777777777778, \"#fb9f3a\"], [0.8888888888888888, \"#fdca26\"], [1.0, \"#f0f921\"]], \"type\": \"heatmapgl\"}], \"histogram\": [{\"marker\": {\"colorbar\": {\"outlinewidth\": 0, \"ticks\": \"\"}}, \"type\": \"histogram\"}], \"histogram2d\": [{\"colorbar\": {\"outlinewidth\": 0, \"ticks\": \"\"}, \"colorscale\": [[0.0, \"#0d0887\"], [0.1111111111111111, \"#46039f\"], [0.2222222222222222, \"#7201a8\"], [0.3333333333333333, \"#9c179e\"], [0.4444444444444444, \"#bd3786\"], [0.5555555555555556, \"#d8576b\"], [0.6666666666666666, \"#ed7953\"], [0.7777777777777778, \"#fb9f3a\"], [0.8888888888888888, \"#fdca26\"], [1.0, \"#f0f921\"]], \"type\": \"histogram2d\"}], \"histogram2dcontour\": [{\"colorbar\": {\"outlinewidth\": 0, \"ticks\": \"\"}, \"colorscale\": [[0.0, \"#0d0887\"], [0.1111111111111111, \"#46039f\"], [0.2222222222222222, \"#7201a8\"], [0.3333333333333333, \"#9c179e\"], [0.4444444444444444, \"#bd3786\"], [0.5555555555555556, \"#d8576b\"], [0.6666666666666666, \"#ed7953\"], [0.7777777777777778, \"#fb9f3a\"], [0.8888888888888888, \"#fdca26\"], [1.0, \"#f0f921\"]], \"type\": \"histogram2dcontour\"}], \"mesh3d\": [{\"colorbar\": {\"outlinewidth\": 0, \"ticks\": \"\"}, \"type\": \"mesh3d\"}], \"parcoords\": [{\"line\": {\"colorbar\": {\"outlinewidth\": 0, \"ticks\": \"\"}}, \"type\": \"parcoords\"}], \"pie\": [{\"automargin\": true, \"type\": \"pie\"}], \"scatter\": [{\"marker\": {\"colorbar\": {\"outlinewidth\": 0, \"ticks\": \"\"}}, \"type\": \"scatter\"}], \"scatter3d\": [{\"line\": {\"colorbar\": {\"outlinewidth\": 0, \"ticks\": \"\"}}, \"marker\": {\"colorbar\": {\"outlinewidth\": 0, \"ticks\": \"\"}}, \"type\": \"scatter3d\"}], \"scattercarpet\": [{\"marker\": {\"colorbar\": {\"outlinewidth\": 0, \"ticks\": \"\"}}, \"type\": \"scattercarpet\"}], \"scattergeo\": [{\"marker\": {\"colorbar\": {\"outlinewidth\": 0, \"ticks\": \"\"}}, \"type\": \"scattergeo\"}], \"scattergl\": [{\"marker\": {\"colorbar\": {\"outlinewidth\": 0, \"ticks\": \"\"}}, \"type\": \"scattergl\"}], \"scattermapbox\": [{\"marker\": {\"colorbar\": {\"outlinewidth\": 0, \"ticks\": \"\"}}, \"type\": \"scattermapbox\"}], \"scatterpolar\": [{\"marker\": {\"colorbar\": {\"outlinewidth\": 0, \"ticks\": \"\"}}, \"type\": \"scatterpolar\"}], \"scatterpolargl\": [{\"marker\": {\"colorbar\": {\"outlinewidth\": 0, \"ticks\": \"\"}}, \"type\": \"scatterpolargl\"}], \"scatterternary\": [{\"marker\": {\"colorbar\": {\"outlinewidth\": 0, \"ticks\": \"\"}}, \"type\": \"scatterternary\"}], \"surface\": [{\"colorbar\": {\"outlinewidth\": 0, \"ticks\": \"\"}, \"colorscale\": [[0.0, \"#0d0887\"], [0.1111111111111111, \"#46039f\"], [0.2222222222222222, \"#7201a8\"], [0.3333333333333333, \"#9c179e\"], [0.4444444444444444, \"#bd3786\"], [0.5555555555555556, \"#d8576b\"], [0.6666666666666666, \"#ed7953\"], [0.7777777777777778, \"#fb9f3a\"], [0.8888888888888888, \"#fdca26\"], [1.0, \"#f0f921\"]], \"type\": \"surface\"}], \"table\": [{\"cells\": {\"fill\": {\"color\": \"#EBF0F8\"}, \"line\": {\"color\": \"white\"}}, \"header\": {\"fill\": {\"color\": \"#C8D4E3\"}, \"line\": {\"color\": \"white\"}}, \"type\": \"table\"}]}, \"layout\": {\"annotationdefaults\": {\"arrowcolor\": \"#2a3f5f\", \"arrowhead\": 0, \"arrowwidth\": 1}, \"autotypenumbers\": \"strict\", \"coloraxis\": {\"colorbar\": {\"outlinewidth\": 0, \"ticks\": \"\"}}, \"colorscale\": {\"diverging\": [[0, \"#8e0152\"], [0.1, \"#c51b7d\"], [0.2, \"#de77ae\"], [0.3, \"#f1b6da\"], [0.4, \"#fde0ef\"], [0.5, \"#f7f7f7\"], [0.6, \"#e6f5d0\"], [0.7, \"#b8e186\"], [0.8, \"#7fbc41\"], [0.9, \"#4d9221\"], [1, \"#276419\"]], \"sequential\": [[0.0, \"#0d0887\"], [0.1111111111111111, \"#46039f\"], [0.2222222222222222, \"#7201a8\"], [0.3333333333333333, \"#9c179e\"], [0.4444444444444444, \"#bd3786\"], [0.5555555555555556, \"#d8576b\"], [0.6666666666666666, \"#ed7953\"], [0.7777777777777778, \"#fb9f3a\"], [0.8888888888888888, \"#fdca26\"], [1.0, \"#f0f921\"]], \"sequentialminus\": [[0.0, \"#0d0887\"], [0.1111111111111111, \"#46039f\"], [0.2222222222222222, \"#7201a8\"], [0.3333333333333333, \"#9c179e\"], [0.4444444444444444, \"#bd3786\"], [0.5555555555555556, \"#d8576b\"], [0.6666666666666666, \"#ed7953\"], [0.7777777777777778, \"#fb9f3a\"], [0.8888888888888888, \"#fdca26\"], [1.0, \"#f0f921\"]]}, \"colorway\": [\"#636efa\", \"#EF553B\", \"#00cc96\", \"#ab63fa\", \"#FFA15A\", \"#19d3f3\", \"#FF6692\", \"#B6E880\", \"#FF97FF\", \"#FECB52\"], \"font\": {\"color\": \"#2a3f5f\"}, \"geo\": {\"bgcolor\": \"white\", \"lakecolor\": \"white\", \"landcolor\": \"#E5ECF6\", \"showlakes\": true, \"showland\": true, \"subunitcolor\": \"white\"}, \"hoverlabel\": {\"align\": \"left\"}, \"hovermode\": \"closest\", \"mapbox\": {\"style\": \"light\"}, \"paper_bgcolor\": \"white\", \"plot_bgcolor\": \"#E5ECF6\", \"polar\": {\"angularaxis\": {\"gridcolor\": \"white\", \"linecolor\": \"white\", \"ticks\": \"\"}, \"bgcolor\": \"#E5ECF6\", \"radialaxis\": {\"gridcolor\": \"white\", \"linecolor\": \"white\", \"ticks\": \"\"}}, \"scene\": {\"xaxis\": {\"backgroundcolor\": \"#E5ECF6\", \"gridcolor\": \"white\", \"gridwidth\": 2, \"linecolor\": \"white\", \"showbackground\": true, \"ticks\": \"\", \"zerolinecolor\": \"white\"}, \"yaxis\": {\"backgroundcolor\": \"#E5ECF6\", \"gridcolor\": \"white\", \"gridwidth\": 2, \"linecolor\": \"white\", \"showbackground\": true, \"ticks\": \"\", \"zerolinecolor\": \"white\"}, \"zaxis\": {\"backgroundcolor\": \"#E5ECF6\", \"gridcolor\": \"white\", \"gridwidth\": 2, \"linecolor\": \"white\", \"showbackground\": true, \"ticks\": \"\", \"zerolinecolor\": \"white\"}}, \"shapedefaults\": {\"line\": {\"color\": \"#2a3f5f\"}}, \"ternary\": {\"aaxis\": {\"gridcolor\": \"white\", \"linecolor\": \"white\", \"ticks\": \"\"}, \"baxis\": {\"gridcolor\": \"white\", \"linecolor\": \"white\", \"ticks\": \"\"}, \"bgcolor\": \"#E5ECF6\", \"caxis\": {\"gridcolor\": \"white\", \"linecolor\": \"white\", \"ticks\": \"\"}}, \"title\": {\"x\": 0.05}, \"xaxis\": {\"automargin\": true, \"gridcolor\": \"white\", \"linecolor\": \"white\", \"ticks\": \"\", \"title\": {\"standoff\": 15}, \"zerolinecolor\": \"white\", \"zerolinewidth\": 2}, \"yaxis\": {\"automargin\": true, \"gridcolor\": \"white\", \"linecolor\": \"white\", \"ticks\": \"\", \"title\": {\"standoff\": 15}, \"zerolinecolor\": \"white\", \"zerolinewidth\": 2}}}, \"title\": {\"text\": \"The Length of Book Titles\"}, \"xaxis\": {\"title\": {\"text\": \"Length\"}}, \"yaxis\": {\"title\": {\"text\": \"Count\"}}},                        {\"responsive\": true}                    ).then(function(){\n",
       "                            \n",
       "var gd = document.getElementById('12f18771-7198-4054-a631-e23fc3da9072');\n",
       "var x = new MutationObserver(function (mutations, observer) {{\n",
       "        var display = window.getComputedStyle(gd).display;\n",
       "        if (!display || display === 'none') {{\n",
       "            console.log([gd, 'removed!']);\n",
       "            Plotly.purge(gd);\n",
       "            observer.disconnect();\n",
       "        }}\n",
       "}});\n",
       "\n",
       "// Listen for the removal of the full notebook cells\n",
       "var notebookContainer = gd.closest('#notebook-container');\n",
       "if (notebookContainer) {{\n",
       "    x.observe(notebookContainer, {childList: true});\n",
       "}}\n",
       "\n",
       "// Listen for the clearing of the current output cell\n",
       "var outputEl = gd.closest('.output');\n",
       "if (outputEl) {{\n",
       "    x.observe(outputEl, {childList: true});\n",
       "}}\n",
       "\n",
       "                        })                };                });            </script>        </div>"
      ]
     },
     "metadata": {},
     "output_type": "display_data"
    }
   ],
   "source": [
    "fig = go.Figure(data=[go.Histogram(x=length_of_title)])\n",
    "fig.update_layout(title=\"The Length of Book Titles\")\n",
    "fig.update_xaxes(title_text=\"Length\")\n",
    "fig.update_yaxes(title_text=\"Count\")\n",
    "fig.show()"
   ]
  },
  {
   "cell_type": "markdown",
   "metadata": {},
   "source": [
    "- Books with a small title have higher chances of being the best seller on Amazon."
   ]
  },
  {
   "cell_type": "markdown",
   "metadata": {},
   "source": [
    "### Popularity and Length of Book Title"
   ]
  },
  {
   "cell_type": "code",
   "execution_count": 61,
   "metadata": {},
   "outputs": [
    {
     "data": {
      "application/vnd.plotly.v1+json": {
       "config": {
        "plotlyServerURL": "https://plot.ly"
       },
       "data": [
        {
         "dimensions": [
          {
           "axis": {
            "matches": true
           },
           "label": "User Rating",
           "values": [
            4.7,
            4.6,
            4.7,
            4.7,
            4.8,
            4.4,
            4.7,
            4.7,
            4.7,
            4.6,
            4.6,
            4.6,
            4.6,
            4.5,
            4.6,
            4.5,
            4.6,
            4.4,
            4.5,
            4.8,
            4.6,
            4.6,
            3.9,
            4.6,
            4.3,
            4.6,
            4.7,
            4.2,
            4.6,
            4.6,
            4.8,
            4.7,
            4.8,
            4.8,
            4.8,
            4.7,
            4.7,
            4.7,
            4.6,
            4.5,
            4.9,
            4.9,
            4.8,
            4.6,
            4.8,
            4.5,
            4.7,
            4.7,
            4.7,
            4.7,
            4.7,
            4.7,
            4.7,
            4.3,
            4.8,
            4.8,
            4.6,
            4.6,
            4.8,
            4.4,
            4.6,
            4.3,
            4.2,
            4.8,
            4.8,
            4.8,
            4.8,
            4.6,
            4.6,
            4.5,
            4.5,
            4.8,
            4.8,
            4.8,
            4.6,
            4.6,
            4.6,
            4.5,
            4.6,
            4.7,
            4.8,
            4.9,
            4.9,
            4.9,
            4.9,
            4.9,
            4.9,
            4.9,
            4.8,
            4.6,
            4.5,
            4.5,
            4.3,
            4.5,
            4.5,
            4.7,
            4.7,
            4.7,
            4.7,
            4.7,
            4.6,
            4.6,
            4.7,
            4.4,
            4.4,
            4.5,
            3.8,
            3.8,
            4.5,
            4.2,
            4.7,
            4.7,
            4.7,
            4.7,
            4.7,
            4.4,
            4.7,
            4.4,
            4.6,
            4.6,
            4.6,
            4.5,
            4.6,
            4.8,
            4.8,
            4.8,
            4.8,
            4.8,
            4.6,
            4.6,
            4.6,
            4.6,
            3.6,
            4.8,
            4.6,
            4,
            4,
            4,
            4.6,
            4.5,
            4.5,
            4.5,
            4.5,
            4.8,
            4.8,
            4.8,
            4.9,
            4.9,
            4.6,
            4.4,
            4.8,
            4.9,
            4.8,
            4.9,
            4,
            4.9,
            4.9,
            4.9,
            4.7,
            4.8,
            4.8,
            4.7,
            4.7,
            4.4,
            4.4,
            4.8,
            4.7,
            4.7,
            4.7,
            4.7,
            4.7,
            4.3,
            4.8,
            4.8,
            4.9,
            4.7,
            4.8,
            4.6,
            4.8,
            4.8,
            4.3,
            4.4,
            4.1,
            4.6,
            4.4,
            4.4,
            4.8,
            4.9,
            4.9,
            4.9,
            4.9,
            4.9,
            4.9,
            4.6,
            4.5,
            4.6,
            4.5,
            4.6,
            4.7,
            4.7,
            4.6,
            4.6,
            4.8,
            4.8,
            4.5,
            4.5,
            4.5,
            4.9,
            4.6,
            4.6,
            4.6,
            4.6,
            4.6,
            4.5,
            4.5,
            4.4,
            4.8,
            4.5,
            4.1,
            4.9,
            4.5,
            4.5,
            4.2,
            4.8,
            4.8,
            4.8,
            4.5,
            4.7,
            4.8,
            4.7,
            4.7,
            4.7,
            4.4,
            4.6,
            4.6,
            4.6,
            4.5,
            4.5,
            4.5,
            4.8,
            4.8,
            4.6,
            4.7,
            4.6,
            4.9,
            4.9,
            4.9,
            4.9,
            4.9,
            4.9,
            4.9,
            4.9,
            4.9,
            4.8,
            4.2,
            4.6,
            4.6,
            4.5,
            4.3,
            4.6,
            4.6,
            4.6,
            4.7,
            4.7,
            4.8,
            4.8,
            4.8,
            4.8,
            4.7,
            4.3,
            4.3,
            4.5,
            4.5,
            4.5,
            4.5,
            4.5,
            4.5,
            4.5,
            4.5,
            4.5,
            4.5,
            4.8,
            4.6,
            4.6,
            4.7,
            4.7,
            4.6,
            4.6,
            4.9,
            4.9,
            4.8,
            4.8,
            4.6,
            4.8,
            4.8,
            4.7,
            4.7,
            4.8,
            4.1,
            4.7,
            4.6,
            4.6,
            4.6,
            4.9,
            4,
            4,
            4,
            4,
            4,
            4,
            4,
            4,
            4,
            4.5,
            4.6,
            4.5,
            4.4,
            4.4,
            4.3,
            4.3,
            4.7,
            4.7,
            4.7,
            4.7,
            4.7,
            4.8,
            4.8,
            4.8,
            4.8,
            4.8,
            4.8,
            4.6,
            4.6,
            4.6,
            4.6,
            4.7,
            4.7,
            4.7,
            4.7,
            4.6,
            4.7,
            4.7,
            4.7,
            4.8,
            4.2,
            4.8,
            4.7,
            4.6,
            4.6,
            4.8,
            4.8,
            4.8,
            4.8,
            3.3,
            4.7,
            4.3,
            4.3,
            4.3,
            4.8,
            4.4,
            4.8,
            4.8,
            4.8,
            4.1,
            4,
            4.7,
            4.7,
            4.7,
            4.7,
            4.6,
            4.6,
            4.6,
            4.6,
            4.6,
            4.6,
            4.7,
            4.7,
            4.7,
            4.7,
            4.7,
            4.7,
            4.8,
            4.1,
            4.1,
            4.7,
            4.7,
            4.7,
            4.7,
            4.4,
            4.4,
            4.8,
            4.8,
            3.9,
            3.9,
            4.4,
            4.4,
            4.4,
            4.5,
            4.7,
            4.3,
            4.6,
            4.8,
            4.8,
            4.8,
            4.8,
            4.8,
            4.8,
            4.7,
            4.7,
            4.7,
            4.8,
            4.8,
            4.7,
            4.7,
            4.7,
            4.3,
            4.3,
            4.7,
            4.8,
            4.8,
            4.9,
            4.4,
            4.4,
            4.5,
            4.5,
            4.5,
            4.5,
            4.4,
            4.8,
            4.2,
            4.8,
            4.9,
            4.8,
            4.7,
            4.5,
            4.8,
            4.6,
            4.8,
            4.8,
            4.4,
            4.4,
            4.4,
            4.4,
            4.4,
            4.3,
            4.3,
            4.8,
            4.8,
            4.8,
            4.5,
            4.4,
            4.8,
            4.8,
            4.6,
            4.3,
            4.3,
            4.6,
            4.6,
            4.8,
            4.6,
            4.6,
            4.6,
            4.5,
            4.8,
            4.6,
            4.6,
            4.6,
            4.7,
            4.7,
            4.7,
            4.4,
            4.4,
            4.7,
            4.7,
            4.8,
            4.7,
            4.9,
            4.9,
            4.9,
            4.9,
            4.9,
            4.9,
            4.9,
            4.6,
            4.6,
            4.6,
            4.9,
            4.9,
            4.9,
            4.9,
            4.8,
            4.8,
            4.7,
            4.7,
            4.6,
            4.6,
            4.5,
            4.5,
            4.3,
            4.3,
            4.6,
            4.6,
            4.6,
            4.6,
            4.3,
            4.8,
            4.8,
            4.8,
            4.8,
            4.8,
            4.6,
            4.8,
            4.5,
            4.7,
            4.5,
            4.8,
            4.8,
            4.8,
            4.8,
            4.8,
            4.3,
            4.9,
            4.8,
            4.7,
            4.8,
            4.5,
            4.6,
            4.7,
            4.7,
            4.8,
            4.4,
            4.4,
            4.4,
            4.8,
            4.8,
            4.8,
            4.6,
            4.4,
            4.5,
            4.2,
            4.8,
            4.8,
            4.8,
            4.8,
            4.8,
            4.9,
            4.7,
            4.7,
            4.7,
            4.7
           ]
          },
          {
           "axis": {
            "matches": true
           },
           "label": "Title Length",
           "values": [
            29,
            17,
            39,
            22,
            66,
            45,
            98,
            30,
            45,
            25,
            25,
            94,
            23,
            32,
            108,
            113,
            52,
            46,
            117,
            18,
            27,
            27,
            9,
            85,
            24,
            63,
            34,
            35,
            28,
            40,
            62,
            66,
            8,
            8,
            50,
            24,
            24,
            11,
            41,
            56,
            40,
            40,
            42,
            78,
            49,
            35,
            32,
            32,
            32,
            62,
            43,
            43,
            43,
            45,
            59,
            50,
            17,
            17,
            99,
            69,
            71,
            58,
            54,
            30,
            30,
            30,
            30,
            15,
            61,
            73,
            73,
            39,
            45,
            35,
            115,
            9,
            9,
            21,
            115,
            21,
            50,
            72,
            83,
            79,
            79,
            70,
            85,
            79,
            38,
            93,
            51,
            79,
            96,
            98,
            98,
            24,
            18,
            18,
            18,
            121,
            14,
            14,
            79,
            30,
            19,
            106,
            88,
            88,
            86,
            43,
            15,
            15,
            15,
            15,
            15,
            29,
            27,
            81,
            97,
            97,
            97,
            31,
            79,
            20,
            20,
            20,
            20,
            20,
            80,
            106,
            106,
            98,
            26,
            20,
            29,
            9,
            9,
            9,
            104,
            64,
            64,
            64,
            64,
            14,
            14,
            14,
            95,
            95,
            92,
            77,
            4,
            24,
            61,
            87,
            80,
            87,
            88,
            85,
            26,
            42,
            33,
            82,
            82,
            59,
            59,
            60,
            37,
            37,
            37,
            37,
            37,
            24,
            18,
            18,
            28,
            110,
            60,
            13,
            28,
            28,
            9,
            80,
            7,
            40,
            114,
            114,
            102,
            73,
            73,
            73,
            73,
            73,
            73,
            20,
            25,
            70,
            46,
            35,
            105,
            105,
            107,
            94,
            98,
            82,
            26,
            26,
            26,
            119,
            29,
            29,
            29,
            29,
            29,
            42,
            17,
            94,
            45,
            4,
            19,
            17,
            23,
            18,
            81,
            16,
            16,
            53,
            43,
            76,
            43,
            14,
            14,
            14,
            54,
            38,
            38,
            38,
            29,
            29,
            29,
            63,
            103,
            28,
            13,
            111,
            27,
            25,
            25,
            25,
            25,
            25,
            25,
            25,
            25,
            37,
            16,
            60,
            60,
            64,
            32,
            12,
            30,
            30,
            47,
            47,
            63,
            38,
            38,
            38,
            87,
            60,
            60,
            73,
            73,
            73,
            73,
            73,
            73,
            73,
            73,
            73,
            73,
            56,
            65,
            65,
            55,
            55,
            25,
            25,
            89,
            89,
            61,
            61,
            11,
            119,
            119,
            89,
            16,
            88,
            55,
            17,
            116,
            10,
            10,
            38,
            19,
            19,
            19,
            19,
            19,
            19,
            19,
            19,
            19,
            108,
            48,
            28,
            77,
            77,
            59,
            92,
            51,
            51,
            51,
            51,
            51,
            51,
            51,
            51,
            51,
            51,
            18,
            76,
            76,
            76,
            76,
            76,
            76,
            76,
            13,
            11,
            38,
            38,
            42,
            48,
            112,
            72,
            59,
            14,
            14,
            25,
            25,
            94,
            94,
            18,
            114,
            92,
            92,
            23,
            37,
            94,
            24,
            24,
            24,
            74,
            28,
            22,
            22,
            22,
            22,
            51,
            51,
            51,
            51,
            51,
            73,
            81,
            81,
            81,
            81,
            81,
            81,
            11,
            21,
            21,
            58,
            58,
            49,
            42,
            51,
            51,
            21,
            21,
            51,
            51,
            16,
            16,
            16,
            22,
            49,
            19,
            76,
            15,
            8,
            8,
            8,
            8,
            46,
            16,
            25,
            25,
            38,
            38,
            36,
            36,
            36,
            88,
            88,
            16,
            59,
            59,
            36,
            44,
            44,
            86,
            86,
            86,
            86,
            14,
            41,
            15,
            13,
            18,
            46,
            11,
            24,
            43,
            18,
            24,
            24,
            28,
            28,
            28,
            28,
            28,
            81,
            23,
            106,
            121,
            46,
            110,
            91,
            18,
            18,
            61,
            33,
            13,
            45,
            110,
            50,
            43,
            43,
            76,
            18,
            46,
            86,
            86,
            86,
            23,
            46,
            48,
            24,
            62,
            78,
            28,
            45,
            116,
            27,
            27,
            27,
            27,
            27,
            27,
            27,
            62,
            62,
            62,
            32,
            32,
            32,
            32,
            16,
            16,
            19,
            83,
            23,
            23,
            20,
            34,
            76,
            76,
            86,
            86,
            86,
            86,
            20,
            21,
            21,
            21,
            21,
            21,
            101,
            49,
            22,
            36,
            72,
            70,
            70,
            70,
            70,
            70,
            23,
            22,
            81,
            69,
            8,
            28,
            13,
            69,
            38,
            50,
            36,
            79,
            79,
            23,
            23,
            25,
            82,
            51,
            52,
            59,
            6,
            6,
            6,
            6,
            6,
            44,
            86,
            86,
            86,
            86
           ]
          }
         ],
         "hovertemplate": "%{xaxis.title.text}=%{x}<br>%{yaxis.title.text}=%{y}<br>User Rating=%{marker.color}<extra></extra>",
         "legendgroup": "",
         "marker": {
          "color": [
           4.7,
           4.6,
           4.7,
           4.7,
           4.8,
           4.4,
           4.7,
           4.7,
           4.7,
           4.6,
           4.6,
           4.6,
           4.6,
           4.5,
           4.6,
           4.5,
           4.6,
           4.4,
           4.5,
           4.8,
           4.6,
           4.6,
           3.9,
           4.6,
           4.3,
           4.6,
           4.7,
           4.2,
           4.6,
           4.6,
           4.8,
           4.7,
           4.8,
           4.8,
           4.8,
           4.7,
           4.7,
           4.7,
           4.6,
           4.5,
           4.9,
           4.9,
           4.8,
           4.6,
           4.8,
           4.5,
           4.7,
           4.7,
           4.7,
           4.7,
           4.7,
           4.7,
           4.7,
           4.3,
           4.8,
           4.8,
           4.6,
           4.6,
           4.8,
           4.4,
           4.6,
           4.3,
           4.2,
           4.8,
           4.8,
           4.8,
           4.8,
           4.6,
           4.6,
           4.5,
           4.5,
           4.8,
           4.8,
           4.8,
           4.6,
           4.6,
           4.6,
           4.5,
           4.6,
           4.7,
           4.8,
           4.9,
           4.9,
           4.9,
           4.9,
           4.9,
           4.9,
           4.9,
           4.8,
           4.6,
           4.5,
           4.5,
           4.3,
           4.5,
           4.5,
           4.7,
           4.7,
           4.7,
           4.7,
           4.7,
           4.6,
           4.6,
           4.7,
           4.4,
           4.4,
           4.5,
           3.8,
           3.8,
           4.5,
           4.2,
           4.7,
           4.7,
           4.7,
           4.7,
           4.7,
           4.4,
           4.7,
           4.4,
           4.6,
           4.6,
           4.6,
           4.5,
           4.6,
           4.8,
           4.8,
           4.8,
           4.8,
           4.8,
           4.6,
           4.6,
           4.6,
           4.6,
           3.6,
           4.8,
           4.6,
           4,
           4,
           4,
           4.6,
           4.5,
           4.5,
           4.5,
           4.5,
           4.8,
           4.8,
           4.8,
           4.9,
           4.9,
           4.6,
           4.4,
           4.8,
           4.9,
           4.8,
           4.9,
           4,
           4.9,
           4.9,
           4.9,
           4.7,
           4.8,
           4.8,
           4.7,
           4.7,
           4.4,
           4.4,
           4.8,
           4.7,
           4.7,
           4.7,
           4.7,
           4.7,
           4.3,
           4.8,
           4.8,
           4.9,
           4.7,
           4.8,
           4.6,
           4.8,
           4.8,
           4.3,
           4.4,
           4.1,
           4.6,
           4.4,
           4.4,
           4.8,
           4.9,
           4.9,
           4.9,
           4.9,
           4.9,
           4.9,
           4.6,
           4.5,
           4.6,
           4.5,
           4.6,
           4.7,
           4.7,
           4.6,
           4.6,
           4.8,
           4.8,
           4.5,
           4.5,
           4.5,
           4.9,
           4.6,
           4.6,
           4.6,
           4.6,
           4.6,
           4.5,
           4.5,
           4.4,
           4.8,
           4.5,
           4.1,
           4.9,
           4.5,
           4.5,
           4.2,
           4.8,
           4.8,
           4.8,
           4.5,
           4.7,
           4.8,
           4.7,
           4.7,
           4.7,
           4.4,
           4.6,
           4.6,
           4.6,
           4.5,
           4.5,
           4.5,
           4.8,
           4.8,
           4.6,
           4.7,
           4.6,
           4.9,
           4.9,
           4.9,
           4.9,
           4.9,
           4.9,
           4.9,
           4.9,
           4.9,
           4.8,
           4.2,
           4.6,
           4.6,
           4.5,
           4.3,
           4.6,
           4.6,
           4.6,
           4.7,
           4.7,
           4.8,
           4.8,
           4.8,
           4.8,
           4.7,
           4.3,
           4.3,
           4.5,
           4.5,
           4.5,
           4.5,
           4.5,
           4.5,
           4.5,
           4.5,
           4.5,
           4.5,
           4.8,
           4.6,
           4.6,
           4.7,
           4.7,
           4.6,
           4.6,
           4.9,
           4.9,
           4.8,
           4.8,
           4.6,
           4.8,
           4.8,
           4.7,
           4.7,
           4.8,
           4.1,
           4.7,
           4.6,
           4.6,
           4.6,
           4.9,
           4,
           4,
           4,
           4,
           4,
           4,
           4,
           4,
           4,
           4.5,
           4.6,
           4.5,
           4.4,
           4.4,
           4.3,
           4.3,
           4.7,
           4.7,
           4.7,
           4.7,
           4.7,
           4.8,
           4.8,
           4.8,
           4.8,
           4.8,
           4.8,
           4.6,
           4.6,
           4.6,
           4.6,
           4.7,
           4.7,
           4.7,
           4.7,
           4.6,
           4.7,
           4.7,
           4.7,
           4.8,
           4.2,
           4.8,
           4.7,
           4.6,
           4.6,
           4.8,
           4.8,
           4.8,
           4.8,
           3.3,
           4.7,
           4.3,
           4.3,
           4.3,
           4.8,
           4.4,
           4.8,
           4.8,
           4.8,
           4.1,
           4,
           4.7,
           4.7,
           4.7,
           4.7,
           4.6,
           4.6,
           4.6,
           4.6,
           4.6,
           4.6,
           4.7,
           4.7,
           4.7,
           4.7,
           4.7,
           4.7,
           4.8,
           4.1,
           4.1,
           4.7,
           4.7,
           4.7,
           4.7,
           4.4,
           4.4,
           4.8,
           4.8,
           3.9,
           3.9,
           4.4,
           4.4,
           4.4,
           4.5,
           4.7,
           4.3,
           4.6,
           4.8,
           4.8,
           4.8,
           4.8,
           4.8,
           4.8,
           4.7,
           4.7,
           4.7,
           4.8,
           4.8,
           4.7,
           4.7,
           4.7,
           4.3,
           4.3,
           4.7,
           4.8,
           4.8,
           4.9,
           4.4,
           4.4,
           4.5,
           4.5,
           4.5,
           4.5,
           4.4,
           4.8,
           4.2,
           4.8,
           4.9,
           4.8,
           4.7,
           4.5,
           4.8,
           4.6,
           4.8,
           4.8,
           4.4,
           4.4,
           4.4,
           4.4,
           4.4,
           4.3,
           4.3,
           4.8,
           4.8,
           4.8,
           4.5,
           4.4,
           4.8,
           4.8,
           4.6,
           4.3,
           4.3,
           4.6,
           4.6,
           4.8,
           4.6,
           4.6,
           4.6,
           4.5,
           4.8,
           4.6,
           4.6,
           4.6,
           4.7,
           4.7,
           4.7,
           4.4,
           4.4,
           4.7,
           4.7,
           4.8,
           4.7,
           4.9,
           4.9,
           4.9,
           4.9,
           4.9,
           4.9,
           4.9,
           4.6,
           4.6,
           4.6,
           4.9,
           4.9,
           4.9,
           4.9,
           4.8,
           4.8,
           4.7,
           4.7,
           4.6,
           4.6,
           4.5,
           4.5,
           4.3,
           4.3,
           4.6,
           4.6,
           4.6,
           4.6,
           4.3,
           4.8,
           4.8,
           4.8,
           4.8,
           4.8,
           4.6,
           4.8,
           4.5,
           4.7,
           4.5,
           4.8,
           4.8,
           4.8,
           4.8,
           4.8,
           4.3,
           4.9,
           4.8,
           4.7,
           4.8,
           4.5,
           4.6,
           4.7,
           4.7,
           4.8,
           4.4,
           4.4,
           4.4,
           4.8,
           4.8,
           4.8,
           4.6,
           4.4,
           4.5,
           4.2,
           4.8,
           4.8,
           4.8,
           4.8,
           4.8,
           4.9,
           4.7,
           4.7,
           4.7,
           4.7
          ],
          "coloraxis": "coloraxis",
          "symbol": "circle"
         },
         "name": "",
         "showlegend": false,
         "type": "splom"
        }
       ],
       "layout": {
        "coloraxis": {
         "colorbar": {
          "title": {
           "text": "User Rating"
          }
         },
         "colorscale": [
          [
           0,
           "#0d0887"
          ],
          [
           0.1111111111111111,
           "#46039f"
          ],
          [
           0.2222222222222222,
           "#7201a8"
          ],
          [
           0.3333333333333333,
           "#9c179e"
          ],
          [
           0.4444444444444444,
           "#bd3786"
          ],
          [
           0.5555555555555556,
           "#d8576b"
          ],
          [
           0.6666666666666666,
           "#ed7953"
          ],
          [
           0.7777777777777778,
           "#fb9f3a"
          ],
          [
           0.8888888888888888,
           "#fdca26"
          ],
          [
           1,
           "#f0f921"
          ]
         ]
        },
        "dragmode": "select",
        "legend": {
         "tracegroupgap": 0
        },
        "template": {
         "data": {
          "bar": [
           {
            "error_x": {
             "color": "#2a3f5f"
            },
            "error_y": {
             "color": "#2a3f5f"
            },
            "marker": {
             "line": {
              "color": "#E5ECF6",
              "width": 0.5
             }
            },
            "type": "bar"
           }
          ],
          "barpolar": [
           {
            "marker": {
             "line": {
              "color": "#E5ECF6",
              "width": 0.5
             }
            },
            "type": "barpolar"
           }
          ],
          "carpet": [
           {
            "aaxis": {
             "endlinecolor": "#2a3f5f",
             "gridcolor": "white",
             "linecolor": "white",
             "minorgridcolor": "white",
             "startlinecolor": "#2a3f5f"
            },
            "baxis": {
             "endlinecolor": "#2a3f5f",
             "gridcolor": "white",
             "linecolor": "white",
             "minorgridcolor": "white",
             "startlinecolor": "#2a3f5f"
            },
            "type": "carpet"
           }
          ],
          "choropleth": [
           {
            "colorbar": {
             "outlinewidth": 0,
             "ticks": ""
            },
            "type": "choropleth"
           }
          ],
          "contour": [
           {
            "colorbar": {
             "outlinewidth": 0,
             "ticks": ""
            },
            "colorscale": [
             [
              0,
              "#0d0887"
             ],
             [
              0.1111111111111111,
              "#46039f"
             ],
             [
              0.2222222222222222,
              "#7201a8"
             ],
             [
              0.3333333333333333,
              "#9c179e"
             ],
             [
              0.4444444444444444,
              "#bd3786"
             ],
             [
              0.5555555555555556,
              "#d8576b"
             ],
             [
              0.6666666666666666,
              "#ed7953"
             ],
             [
              0.7777777777777778,
              "#fb9f3a"
             ],
             [
              0.8888888888888888,
              "#fdca26"
             ],
             [
              1,
              "#f0f921"
             ]
            ],
            "type": "contour"
           }
          ],
          "contourcarpet": [
           {
            "colorbar": {
             "outlinewidth": 0,
             "ticks": ""
            },
            "type": "contourcarpet"
           }
          ],
          "heatmap": [
           {
            "colorbar": {
             "outlinewidth": 0,
             "ticks": ""
            },
            "colorscale": [
             [
              0,
              "#0d0887"
             ],
             [
              0.1111111111111111,
              "#46039f"
             ],
             [
              0.2222222222222222,
              "#7201a8"
             ],
             [
              0.3333333333333333,
              "#9c179e"
             ],
             [
              0.4444444444444444,
              "#bd3786"
             ],
             [
              0.5555555555555556,
              "#d8576b"
             ],
             [
              0.6666666666666666,
              "#ed7953"
             ],
             [
              0.7777777777777778,
              "#fb9f3a"
             ],
             [
              0.8888888888888888,
              "#fdca26"
             ],
             [
              1,
              "#f0f921"
             ]
            ],
            "type": "heatmap"
           }
          ],
          "heatmapgl": [
           {
            "colorbar": {
             "outlinewidth": 0,
             "ticks": ""
            },
            "colorscale": [
             [
              0,
              "#0d0887"
             ],
             [
              0.1111111111111111,
              "#46039f"
             ],
             [
              0.2222222222222222,
              "#7201a8"
             ],
             [
              0.3333333333333333,
              "#9c179e"
             ],
             [
              0.4444444444444444,
              "#bd3786"
             ],
             [
              0.5555555555555556,
              "#d8576b"
             ],
             [
              0.6666666666666666,
              "#ed7953"
             ],
             [
              0.7777777777777778,
              "#fb9f3a"
             ],
             [
              0.8888888888888888,
              "#fdca26"
             ],
             [
              1,
              "#f0f921"
             ]
            ],
            "type": "heatmapgl"
           }
          ],
          "histogram": [
           {
            "marker": {
             "colorbar": {
              "outlinewidth": 0,
              "ticks": ""
             }
            },
            "type": "histogram"
           }
          ],
          "histogram2d": [
           {
            "colorbar": {
             "outlinewidth": 0,
             "ticks": ""
            },
            "colorscale": [
             [
              0,
              "#0d0887"
             ],
             [
              0.1111111111111111,
              "#46039f"
             ],
             [
              0.2222222222222222,
              "#7201a8"
             ],
             [
              0.3333333333333333,
              "#9c179e"
             ],
             [
              0.4444444444444444,
              "#bd3786"
             ],
             [
              0.5555555555555556,
              "#d8576b"
             ],
             [
              0.6666666666666666,
              "#ed7953"
             ],
             [
              0.7777777777777778,
              "#fb9f3a"
             ],
             [
              0.8888888888888888,
              "#fdca26"
             ],
             [
              1,
              "#f0f921"
             ]
            ],
            "type": "histogram2d"
           }
          ],
          "histogram2dcontour": [
           {
            "colorbar": {
             "outlinewidth": 0,
             "ticks": ""
            },
            "colorscale": [
             [
              0,
              "#0d0887"
             ],
             [
              0.1111111111111111,
              "#46039f"
             ],
             [
              0.2222222222222222,
              "#7201a8"
             ],
             [
              0.3333333333333333,
              "#9c179e"
             ],
             [
              0.4444444444444444,
              "#bd3786"
             ],
             [
              0.5555555555555556,
              "#d8576b"
             ],
             [
              0.6666666666666666,
              "#ed7953"
             ],
             [
              0.7777777777777778,
              "#fb9f3a"
             ],
             [
              0.8888888888888888,
              "#fdca26"
             ],
             [
              1,
              "#f0f921"
             ]
            ],
            "type": "histogram2dcontour"
           }
          ],
          "mesh3d": [
           {
            "colorbar": {
             "outlinewidth": 0,
             "ticks": ""
            },
            "type": "mesh3d"
           }
          ],
          "parcoords": [
           {
            "line": {
             "colorbar": {
              "outlinewidth": 0,
              "ticks": ""
             }
            },
            "type": "parcoords"
           }
          ],
          "pie": [
           {
            "automargin": true,
            "type": "pie"
           }
          ],
          "scatter": [
           {
            "marker": {
             "colorbar": {
              "outlinewidth": 0,
              "ticks": ""
             }
            },
            "type": "scatter"
           }
          ],
          "scatter3d": [
           {
            "line": {
             "colorbar": {
              "outlinewidth": 0,
              "ticks": ""
             }
            },
            "marker": {
             "colorbar": {
              "outlinewidth": 0,
              "ticks": ""
             }
            },
            "type": "scatter3d"
           }
          ],
          "scattercarpet": [
           {
            "marker": {
             "colorbar": {
              "outlinewidth": 0,
              "ticks": ""
             }
            },
            "type": "scattercarpet"
           }
          ],
          "scattergeo": [
           {
            "marker": {
             "colorbar": {
              "outlinewidth": 0,
              "ticks": ""
             }
            },
            "type": "scattergeo"
           }
          ],
          "scattergl": [
           {
            "marker": {
             "colorbar": {
              "outlinewidth": 0,
              "ticks": ""
             }
            },
            "type": "scattergl"
           }
          ],
          "scattermapbox": [
           {
            "marker": {
             "colorbar": {
              "outlinewidth": 0,
              "ticks": ""
             }
            },
            "type": "scattermapbox"
           }
          ],
          "scatterpolar": [
           {
            "marker": {
             "colorbar": {
              "outlinewidth": 0,
              "ticks": ""
             }
            },
            "type": "scatterpolar"
           }
          ],
          "scatterpolargl": [
           {
            "marker": {
             "colorbar": {
              "outlinewidth": 0,
              "ticks": ""
             }
            },
            "type": "scatterpolargl"
           }
          ],
          "scatterternary": [
           {
            "marker": {
             "colorbar": {
              "outlinewidth": 0,
              "ticks": ""
             }
            },
            "type": "scatterternary"
           }
          ],
          "surface": [
           {
            "colorbar": {
             "outlinewidth": 0,
             "ticks": ""
            },
            "colorscale": [
             [
              0,
              "#0d0887"
             ],
             [
              0.1111111111111111,
              "#46039f"
             ],
             [
              0.2222222222222222,
              "#7201a8"
             ],
             [
              0.3333333333333333,
              "#9c179e"
             ],
             [
              0.4444444444444444,
              "#bd3786"
             ],
             [
              0.5555555555555556,
              "#d8576b"
             ],
             [
              0.6666666666666666,
              "#ed7953"
             ],
             [
              0.7777777777777778,
              "#fb9f3a"
             ],
             [
              0.8888888888888888,
              "#fdca26"
             ],
             [
              1,
              "#f0f921"
             ]
            ],
            "type": "surface"
           }
          ],
          "table": [
           {
            "cells": {
             "fill": {
              "color": "#EBF0F8"
             },
             "line": {
              "color": "white"
             }
            },
            "header": {
             "fill": {
              "color": "#C8D4E3"
             },
             "line": {
              "color": "white"
             }
            },
            "type": "table"
           }
          ]
         },
         "layout": {
          "annotationdefaults": {
           "arrowcolor": "#2a3f5f",
           "arrowhead": 0,
           "arrowwidth": 1
          },
          "autotypenumbers": "strict",
          "coloraxis": {
           "colorbar": {
            "outlinewidth": 0,
            "ticks": ""
           }
          },
          "colorscale": {
           "diverging": [
            [
             0,
             "#8e0152"
            ],
            [
             0.1,
             "#c51b7d"
            ],
            [
             0.2,
             "#de77ae"
            ],
            [
             0.3,
             "#f1b6da"
            ],
            [
             0.4,
             "#fde0ef"
            ],
            [
             0.5,
             "#f7f7f7"
            ],
            [
             0.6,
             "#e6f5d0"
            ],
            [
             0.7,
             "#b8e186"
            ],
            [
             0.8,
             "#7fbc41"
            ],
            [
             0.9,
             "#4d9221"
            ],
            [
             1,
             "#276419"
            ]
           ],
           "sequential": [
            [
             0,
             "#0d0887"
            ],
            [
             0.1111111111111111,
             "#46039f"
            ],
            [
             0.2222222222222222,
             "#7201a8"
            ],
            [
             0.3333333333333333,
             "#9c179e"
            ],
            [
             0.4444444444444444,
             "#bd3786"
            ],
            [
             0.5555555555555556,
             "#d8576b"
            ],
            [
             0.6666666666666666,
             "#ed7953"
            ],
            [
             0.7777777777777778,
             "#fb9f3a"
            ],
            [
             0.8888888888888888,
             "#fdca26"
            ],
            [
             1,
             "#f0f921"
            ]
           ],
           "sequentialminus": [
            [
             0,
             "#0d0887"
            ],
            [
             0.1111111111111111,
             "#46039f"
            ],
            [
             0.2222222222222222,
             "#7201a8"
            ],
            [
             0.3333333333333333,
             "#9c179e"
            ],
            [
             0.4444444444444444,
             "#bd3786"
            ],
            [
             0.5555555555555556,
             "#d8576b"
            ],
            [
             0.6666666666666666,
             "#ed7953"
            ],
            [
             0.7777777777777778,
             "#fb9f3a"
            ],
            [
             0.8888888888888888,
             "#fdca26"
            ],
            [
             1,
             "#f0f921"
            ]
           ]
          },
          "colorway": [
           "#636efa",
           "#EF553B",
           "#00cc96",
           "#ab63fa",
           "#FFA15A",
           "#19d3f3",
           "#FF6692",
           "#B6E880",
           "#FF97FF",
           "#FECB52"
          ],
          "font": {
           "color": "#2a3f5f"
          },
          "geo": {
           "bgcolor": "white",
           "lakecolor": "white",
           "landcolor": "#E5ECF6",
           "showlakes": true,
           "showland": true,
           "subunitcolor": "white"
          },
          "hoverlabel": {
           "align": "left"
          },
          "hovermode": "closest",
          "mapbox": {
           "style": "light"
          },
          "paper_bgcolor": "white",
          "plot_bgcolor": "#E5ECF6",
          "polar": {
           "angularaxis": {
            "gridcolor": "white",
            "linecolor": "white",
            "ticks": ""
           },
           "bgcolor": "#E5ECF6",
           "radialaxis": {
            "gridcolor": "white",
            "linecolor": "white",
            "ticks": ""
           }
          },
          "scene": {
           "xaxis": {
            "backgroundcolor": "#E5ECF6",
            "gridcolor": "white",
            "gridwidth": 2,
            "linecolor": "white",
            "showbackground": true,
            "ticks": "",
            "zerolinecolor": "white"
           },
           "yaxis": {
            "backgroundcolor": "#E5ECF6",
            "gridcolor": "white",
            "gridwidth": 2,
            "linecolor": "white",
            "showbackground": true,
            "ticks": "",
            "zerolinecolor": "white"
           },
           "zaxis": {
            "backgroundcolor": "#E5ECF6",
            "gridcolor": "white",
            "gridwidth": 2,
            "linecolor": "white",
            "showbackground": true,
            "ticks": "",
            "zerolinecolor": "white"
           }
          },
          "shapedefaults": {
           "line": {
            "color": "#2a3f5f"
           }
          },
          "ternary": {
           "aaxis": {
            "gridcolor": "white",
            "linecolor": "white",
            "ticks": ""
           },
           "baxis": {
            "gridcolor": "white",
            "linecolor": "white",
            "ticks": ""
           },
           "bgcolor": "#E5ECF6",
           "caxis": {
            "gridcolor": "white",
            "linecolor": "white",
            "ticks": ""
           }
          },
          "title": {
           "x": 0.05
          },
          "xaxis": {
           "automargin": true,
           "gridcolor": "white",
           "linecolor": "white",
           "ticks": "",
           "title": {
            "standoff": 15
           },
           "zerolinecolor": "white",
           "zerolinewidth": 2
          },
          "yaxis": {
           "automargin": true,
           "gridcolor": "white",
           "linecolor": "white",
           "ticks": "",
           "title": {
            "standoff": 15
           },
           "zerolinecolor": "white",
           "zerolinewidth": 2
          }
         }
        },
        "title": {
         "text": "Relation between Rating and Title Length"
        }
       }
      },
      "text/html": [
       "<div>                            <div id=\"b3330540-a654-4529-a2da-22a180d84ad2\" class=\"plotly-graph-div\" style=\"height:525px; width:100%;\"></div>            <script type=\"text/javascript\">                require([\"plotly\"], function(Plotly) {                    window.PLOTLYENV=window.PLOTLYENV || {};                                    if (document.getElementById(\"b3330540-a654-4529-a2da-22a180d84ad2\")) {                    Plotly.newPlot(                        \"b3330540-a654-4529-a2da-22a180d84ad2\",                        [{\"dimensions\": [{\"axis\": {\"matches\": true}, \"label\": \"User Rating\", \"values\": [4.7, 4.6, 4.7, 4.7, 4.8, 4.4, 4.7, 4.7, 4.7, 4.6, 4.6, 4.6, 4.6, 4.5, 4.6, 4.5, 4.6, 4.4, 4.5, 4.8, 4.6, 4.6, 3.9, 4.6, 4.3, 4.6, 4.7, 4.2, 4.6, 4.6, 4.8, 4.7, 4.8, 4.8, 4.8, 4.7, 4.7, 4.7, 4.6, 4.5, 4.9, 4.9, 4.8, 4.6, 4.8, 4.5, 4.7, 4.7, 4.7, 4.7, 4.7, 4.7, 4.7, 4.3, 4.8, 4.8, 4.6, 4.6, 4.8, 4.4, 4.6, 4.3, 4.2, 4.8, 4.8, 4.8, 4.8, 4.6, 4.6, 4.5, 4.5, 4.8, 4.8, 4.8, 4.6, 4.6, 4.6, 4.5, 4.6, 4.7, 4.8, 4.9, 4.9, 4.9, 4.9, 4.9, 4.9, 4.9, 4.8, 4.6, 4.5, 4.5, 4.3, 4.5, 4.5, 4.7, 4.7, 4.7, 4.7, 4.7, 4.6, 4.6, 4.7, 4.4, 4.4, 4.5, 3.8, 3.8, 4.5, 4.2, 4.7, 4.7, 4.7, 4.7, 4.7, 4.4, 4.7, 4.4, 4.6, 4.6, 4.6, 4.5, 4.6, 4.8, 4.8, 4.8, 4.8, 4.8, 4.6, 4.6, 4.6, 4.6, 3.6, 4.8, 4.6, 4.0, 4.0, 4.0, 4.6, 4.5, 4.5, 4.5, 4.5, 4.8, 4.8, 4.8, 4.9, 4.9, 4.6, 4.4, 4.8, 4.9, 4.8, 4.9, 4.0, 4.9, 4.9, 4.9, 4.7, 4.8, 4.8, 4.7, 4.7, 4.4, 4.4, 4.8, 4.7, 4.7, 4.7, 4.7, 4.7, 4.3, 4.8, 4.8, 4.9, 4.7, 4.8, 4.6, 4.8, 4.8, 4.3, 4.4, 4.1, 4.6, 4.4, 4.4, 4.8, 4.9, 4.9, 4.9, 4.9, 4.9, 4.9, 4.6, 4.5, 4.6, 4.5, 4.6, 4.7, 4.7, 4.6, 4.6, 4.8, 4.8, 4.5, 4.5, 4.5, 4.9, 4.6, 4.6, 4.6, 4.6, 4.6, 4.5, 4.5, 4.4, 4.8, 4.5, 4.1, 4.9, 4.5, 4.5, 4.2, 4.8, 4.8, 4.8, 4.5, 4.7, 4.8, 4.7, 4.7, 4.7, 4.4, 4.6, 4.6, 4.6, 4.5, 4.5, 4.5, 4.8, 4.8, 4.6, 4.7, 4.6, 4.9, 4.9, 4.9, 4.9, 4.9, 4.9, 4.9, 4.9, 4.9, 4.8, 4.2, 4.6, 4.6, 4.5, 4.3, 4.6, 4.6, 4.6, 4.7, 4.7, 4.8, 4.8, 4.8, 4.8, 4.7, 4.3, 4.3, 4.5, 4.5, 4.5, 4.5, 4.5, 4.5, 4.5, 4.5, 4.5, 4.5, 4.8, 4.6, 4.6, 4.7, 4.7, 4.6, 4.6, 4.9, 4.9, 4.8, 4.8, 4.6, 4.8, 4.8, 4.7, 4.7, 4.8, 4.1, 4.7, 4.6, 4.6, 4.6, 4.9, 4.0, 4.0, 4.0, 4.0, 4.0, 4.0, 4.0, 4.0, 4.0, 4.5, 4.6, 4.5, 4.4, 4.4, 4.3, 4.3, 4.7, 4.7, 4.7, 4.7, 4.7, 4.8, 4.8, 4.8, 4.8, 4.8, 4.8, 4.6, 4.6, 4.6, 4.6, 4.7, 4.7, 4.7, 4.7, 4.6, 4.7, 4.7, 4.7, 4.8, 4.2, 4.8, 4.7, 4.6, 4.6, 4.8, 4.8, 4.8, 4.8, 3.3, 4.7, 4.3, 4.3, 4.3, 4.8, 4.4, 4.8, 4.8, 4.8, 4.1, 4.0, 4.7, 4.7, 4.7, 4.7, 4.6, 4.6, 4.6, 4.6, 4.6, 4.6, 4.7, 4.7, 4.7, 4.7, 4.7, 4.7, 4.8, 4.1, 4.1, 4.7, 4.7, 4.7, 4.7, 4.4, 4.4, 4.8, 4.8, 3.9, 3.9, 4.4, 4.4, 4.4, 4.5, 4.7, 4.3, 4.6, 4.8, 4.8, 4.8, 4.8, 4.8, 4.8, 4.7, 4.7, 4.7, 4.8, 4.8, 4.7, 4.7, 4.7, 4.3, 4.3, 4.7, 4.8, 4.8, 4.9, 4.4, 4.4, 4.5, 4.5, 4.5, 4.5, 4.4, 4.8, 4.2, 4.8, 4.9, 4.8, 4.7, 4.5, 4.8, 4.6, 4.8, 4.8, 4.4, 4.4, 4.4, 4.4, 4.4, 4.3, 4.3, 4.8, 4.8, 4.8, 4.5, 4.4, 4.8, 4.8, 4.6, 4.3, 4.3, 4.6, 4.6, 4.8, 4.6, 4.6, 4.6, 4.5, 4.8, 4.6, 4.6, 4.6, 4.7, 4.7, 4.7, 4.4, 4.4, 4.7, 4.7, 4.8, 4.7, 4.9, 4.9, 4.9, 4.9, 4.9, 4.9, 4.9, 4.6, 4.6, 4.6, 4.9, 4.9, 4.9, 4.9, 4.8, 4.8, 4.7, 4.7, 4.6, 4.6, 4.5, 4.5, 4.3, 4.3, 4.6, 4.6, 4.6, 4.6, 4.3, 4.8, 4.8, 4.8, 4.8, 4.8, 4.6, 4.8, 4.5, 4.7, 4.5, 4.8, 4.8, 4.8, 4.8, 4.8, 4.3, 4.9, 4.8, 4.7, 4.8, 4.5, 4.6, 4.7, 4.7, 4.8, 4.4, 4.4, 4.4, 4.8, 4.8, 4.8, 4.6, 4.4, 4.5, 4.2, 4.8, 4.8, 4.8, 4.8, 4.8, 4.9, 4.7, 4.7, 4.7, 4.7]}, {\"axis\": {\"matches\": true}, \"label\": \"Title Length\", \"values\": [29, 17, 39, 22, 66, 45, 98, 30, 45, 25, 25, 94, 23, 32, 108, 113, 52, 46, 117, 18, 27, 27, 9, 85, 24, 63, 34, 35, 28, 40, 62, 66, 8, 8, 50, 24, 24, 11, 41, 56, 40, 40, 42, 78, 49, 35, 32, 32, 32, 62, 43, 43, 43, 45, 59, 50, 17, 17, 99, 69, 71, 58, 54, 30, 30, 30, 30, 15, 61, 73, 73, 39, 45, 35, 115, 9, 9, 21, 115, 21, 50, 72, 83, 79, 79, 70, 85, 79, 38, 93, 51, 79, 96, 98, 98, 24, 18, 18, 18, 121, 14, 14, 79, 30, 19, 106, 88, 88, 86, 43, 15, 15, 15, 15, 15, 29, 27, 81, 97, 97, 97, 31, 79, 20, 20, 20, 20, 20, 80, 106, 106, 98, 26, 20, 29, 9, 9, 9, 104, 64, 64, 64, 64, 14, 14, 14, 95, 95, 92, 77, 4, 24, 61, 87, 80, 87, 88, 85, 26, 42, 33, 82, 82, 59, 59, 60, 37, 37, 37, 37, 37, 24, 18, 18, 28, 110, 60, 13, 28, 28, 9, 80, 7, 40, 114, 114, 102, 73, 73, 73, 73, 73, 73, 20, 25, 70, 46, 35, 105, 105, 107, 94, 98, 82, 26, 26, 26, 119, 29, 29, 29, 29, 29, 42, 17, 94, 45, 4, 19, 17, 23, 18, 81, 16, 16, 53, 43, 76, 43, 14, 14, 14, 54, 38, 38, 38, 29, 29, 29, 63, 103, 28, 13, 111, 27, 25, 25, 25, 25, 25, 25, 25, 25, 37, 16, 60, 60, 64, 32, 12, 30, 30, 47, 47, 63, 38, 38, 38, 87, 60, 60, 73, 73, 73, 73, 73, 73, 73, 73, 73, 73, 56, 65, 65, 55, 55, 25, 25, 89, 89, 61, 61, 11, 119, 119, 89, 16, 88, 55, 17, 116, 10, 10, 38, 19, 19, 19, 19, 19, 19, 19, 19, 19, 108, 48, 28, 77, 77, 59, 92, 51, 51, 51, 51, 51, 51, 51, 51, 51, 51, 18, 76, 76, 76, 76, 76, 76, 76, 13, 11, 38, 38, 42, 48, 112, 72, 59, 14, 14, 25, 25, 94, 94, 18, 114, 92, 92, 23, 37, 94, 24, 24, 24, 74, 28, 22, 22, 22, 22, 51, 51, 51, 51, 51, 73, 81, 81, 81, 81, 81, 81, 11, 21, 21, 58, 58, 49, 42, 51, 51, 21, 21, 51, 51, 16, 16, 16, 22, 49, 19, 76, 15, 8, 8, 8, 8, 46, 16, 25, 25, 38, 38, 36, 36, 36, 88, 88, 16, 59, 59, 36, 44, 44, 86, 86, 86, 86, 14, 41, 15, 13, 18, 46, 11, 24, 43, 18, 24, 24, 28, 28, 28, 28, 28, 81, 23, 106, 121, 46, 110, 91, 18, 18, 61, 33, 13, 45, 110, 50, 43, 43, 76, 18, 46, 86, 86, 86, 23, 46, 48, 24, 62, 78, 28, 45, 116, 27, 27, 27, 27, 27, 27, 27, 62, 62, 62, 32, 32, 32, 32, 16, 16, 19, 83, 23, 23, 20, 34, 76, 76, 86, 86, 86, 86, 20, 21, 21, 21, 21, 21, 101, 49, 22, 36, 72, 70, 70, 70, 70, 70, 23, 22, 81, 69, 8, 28, 13, 69, 38, 50, 36, 79, 79, 23, 23, 25, 82, 51, 52, 59, 6, 6, 6, 6, 6, 44, 86, 86, 86, 86]}], \"hovertemplate\": \"%{xaxis.title.text}=%{x}<br>%{yaxis.title.text}=%{y}<br>User Rating=%{marker.color}<extra></extra>\", \"legendgroup\": \"\", \"marker\": {\"color\": [4.7, 4.6, 4.7, 4.7, 4.8, 4.4, 4.7, 4.7, 4.7, 4.6, 4.6, 4.6, 4.6, 4.5, 4.6, 4.5, 4.6, 4.4, 4.5, 4.8, 4.6, 4.6, 3.9, 4.6, 4.3, 4.6, 4.7, 4.2, 4.6, 4.6, 4.8, 4.7, 4.8, 4.8, 4.8, 4.7, 4.7, 4.7, 4.6, 4.5, 4.9, 4.9, 4.8, 4.6, 4.8, 4.5, 4.7, 4.7, 4.7, 4.7, 4.7, 4.7, 4.7, 4.3, 4.8, 4.8, 4.6, 4.6, 4.8, 4.4, 4.6, 4.3, 4.2, 4.8, 4.8, 4.8, 4.8, 4.6, 4.6, 4.5, 4.5, 4.8, 4.8, 4.8, 4.6, 4.6, 4.6, 4.5, 4.6, 4.7, 4.8, 4.9, 4.9, 4.9, 4.9, 4.9, 4.9, 4.9, 4.8, 4.6, 4.5, 4.5, 4.3, 4.5, 4.5, 4.7, 4.7, 4.7, 4.7, 4.7, 4.6, 4.6, 4.7, 4.4, 4.4, 4.5, 3.8, 3.8, 4.5, 4.2, 4.7, 4.7, 4.7, 4.7, 4.7, 4.4, 4.7, 4.4, 4.6, 4.6, 4.6, 4.5, 4.6, 4.8, 4.8, 4.8, 4.8, 4.8, 4.6, 4.6, 4.6, 4.6, 3.6, 4.8, 4.6, 4.0, 4.0, 4.0, 4.6, 4.5, 4.5, 4.5, 4.5, 4.8, 4.8, 4.8, 4.9, 4.9, 4.6, 4.4, 4.8, 4.9, 4.8, 4.9, 4.0, 4.9, 4.9, 4.9, 4.7, 4.8, 4.8, 4.7, 4.7, 4.4, 4.4, 4.8, 4.7, 4.7, 4.7, 4.7, 4.7, 4.3, 4.8, 4.8, 4.9, 4.7, 4.8, 4.6, 4.8, 4.8, 4.3, 4.4, 4.1, 4.6, 4.4, 4.4, 4.8, 4.9, 4.9, 4.9, 4.9, 4.9, 4.9, 4.6, 4.5, 4.6, 4.5, 4.6, 4.7, 4.7, 4.6, 4.6, 4.8, 4.8, 4.5, 4.5, 4.5, 4.9, 4.6, 4.6, 4.6, 4.6, 4.6, 4.5, 4.5, 4.4, 4.8, 4.5, 4.1, 4.9, 4.5, 4.5, 4.2, 4.8, 4.8, 4.8, 4.5, 4.7, 4.8, 4.7, 4.7, 4.7, 4.4, 4.6, 4.6, 4.6, 4.5, 4.5, 4.5, 4.8, 4.8, 4.6, 4.7, 4.6, 4.9, 4.9, 4.9, 4.9, 4.9, 4.9, 4.9, 4.9, 4.9, 4.8, 4.2, 4.6, 4.6, 4.5, 4.3, 4.6, 4.6, 4.6, 4.7, 4.7, 4.8, 4.8, 4.8, 4.8, 4.7, 4.3, 4.3, 4.5, 4.5, 4.5, 4.5, 4.5, 4.5, 4.5, 4.5, 4.5, 4.5, 4.8, 4.6, 4.6, 4.7, 4.7, 4.6, 4.6, 4.9, 4.9, 4.8, 4.8, 4.6, 4.8, 4.8, 4.7, 4.7, 4.8, 4.1, 4.7, 4.6, 4.6, 4.6, 4.9, 4.0, 4.0, 4.0, 4.0, 4.0, 4.0, 4.0, 4.0, 4.0, 4.5, 4.6, 4.5, 4.4, 4.4, 4.3, 4.3, 4.7, 4.7, 4.7, 4.7, 4.7, 4.8, 4.8, 4.8, 4.8, 4.8, 4.8, 4.6, 4.6, 4.6, 4.6, 4.7, 4.7, 4.7, 4.7, 4.6, 4.7, 4.7, 4.7, 4.8, 4.2, 4.8, 4.7, 4.6, 4.6, 4.8, 4.8, 4.8, 4.8, 3.3, 4.7, 4.3, 4.3, 4.3, 4.8, 4.4, 4.8, 4.8, 4.8, 4.1, 4.0, 4.7, 4.7, 4.7, 4.7, 4.6, 4.6, 4.6, 4.6, 4.6, 4.6, 4.7, 4.7, 4.7, 4.7, 4.7, 4.7, 4.8, 4.1, 4.1, 4.7, 4.7, 4.7, 4.7, 4.4, 4.4, 4.8, 4.8, 3.9, 3.9, 4.4, 4.4, 4.4, 4.5, 4.7, 4.3, 4.6, 4.8, 4.8, 4.8, 4.8, 4.8, 4.8, 4.7, 4.7, 4.7, 4.8, 4.8, 4.7, 4.7, 4.7, 4.3, 4.3, 4.7, 4.8, 4.8, 4.9, 4.4, 4.4, 4.5, 4.5, 4.5, 4.5, 4.4, 4.8, 4.2, 4.8, 4.9, 4.8, 4.7, 4.5, 4.8, 4.6, 4.8, 4.8, 4.4, 4.4, 4.4, 4.4, 4.4, 4.3, 4.3, 4.8, 4.8, 4.8, 4.5, 4.4, 4.8, 4.8, 4.6, 4.3, 4.3, 4.6, 4.6, 4.8, 4.6, 4.6, 4.6, 4.5, 4.8, 4.6, 4.6, 4.6, 4.7, 4.7, 4.7, 4.4, 4.4, 4.7, 4.7, 4.8, 4.7, 4.9, 4.9, 4.9, 4.9, 4.9, 4.9, 4.9, 4.6, 4.6, 4.6, 4.9, 4.9, 4.9, 4.9, 4.8, 4.8, 4.7, 4.7, 4.6, 4.6, 4.5, 4.5, 4.3, 4.3, 4.6, 4.6, 4.6, 4.6, 4.3, 4.8, 4.8, 4.8, 4.8, 4.8, 4.6, 4.8, 4.5, 4.7, 4.5, 4.8, 4.8, 4.8, 4.8, 4.8, 4.3, 4.9, 4.8, 4.7, 4.8, 4.5, 4.6, 4.7, 4.7, 4.8, 4.4, 4.4, 4.4, 4.8, 4.8, 4.8, 4.6, 4.4, 4.5, 4.2, 4.8, 4.8, 4.8, 4.8, 4.8, 4.9, 4.7, 4.7, 4.7, 4.7], \"coloraxis\": \"coloraxis\", \"symbol\": \"circle\"}, \"name\": \"\", \"showlegend\": false, \"type\": \"splom\"}],                        {\"coloraxis\": {\"colorbar\": {\"title\": {\"text\": \"User Rating\"}}, \"colorscale\": [[0.0, \"#0d0887\"], [0.1111111111111111, \"#46039f\"], [0.2222222222222222, \"#7201a8\"], [0.3333333333333333, \"#9c179e\"], [0.4444444444444444, \"#bd3786\"], [0.5555555555555556, \"#d8576b\"], [0.6666666666666666, \"#ed7953\"], [0.7777777777777778, \"#fb9f3a\"], [0.8888888888888888, \"#fdca26\"], [1.0, \"#f0f921\"]]}, \"dragmode\": \"select\", \"legend\": {\"tracegroupgap\": 0}, \"template\": {\"data\": {\"bar\": [{\"error_x\": {\"color\": \"#2a3f5f\"}, \"error_y\": {\"color\": \"#2a3f5f\"}, \"marker\": {\"line\": {\"color\": \"#E5ECF6\", \"width\": 0.5}}, \"type\": \"bar\"}], \"barpolar\": [{\"marker\": {\"line\": {\"color\": \"#E5ECF6\", \"width\": 0.5}}, \"type\": \"barpolar\"}], \"carpet\": [{\"aaxis\": {\"endlinecolor\": \"#2a3f5f\", \"gridcolor\": \"white\", \"linecolor\": \"white\", \"minorgridcolor\": \"white\", \"startlinecolor\": \"#2a3f5f\"}, \"baxis\": {\"endlinecolor\": \"#2a3f5f\", \"gridcolor\": \"white\", \"linecolor\": \"white\", \"minorgridcolor\": \"white\", \"startlinecolor\": \"#2a3f5f\"}, \"type\": \"carpet\"}], \"choropleth\": [{\"colorbar\": {\"outlinewidth\": 0, \"ticks\": \"\"}, \"type\": \"choropleth\"}], \"contour\": [{\"colorbar\": {\"outlinewidth\": 0, \"ticks\": \"\"}, \"colorscale\": [[0.0, \"#0d0887\"], [0.1111111111111111, \"#46039f\"], [0.2222222222222222, \"#7201a8\"], [0.3333333333333333, \"#9c179e\"], [0.4444444444444444, \"#bd3786\"], [0.5555555555555556, \"#d8576b\"], [0.6666666666666666, \"#ed7953\"], [0.7777777777777778, \"#fb9f3a\"], [0.8888888888888888, \"#fdca26\"], [1.0, \"#f0f921\"]], \"type\": \"contour\"}], \"contourcarpet\": [{\"colorbar\": {\"outlinewidth\": 0, \"ticks\": \"\"}, \"type\": \"contourcarpet\"}], \"heatmap\": [{\"colorbar\": {\"outlinewidth\": 0, \"ticks\": \"\"}, \"colorscale\": [[0.0, \"#0d0887\"], [0.1111111111111111, \"#46039f\"], [0.2222222222222222, \"#7201a8\"], [0.3333333333333333, \"#9c179e\"], [0.4444444444444444, \"#bd3786\"], [0.5555555555555556, \"#d8576b\"], [0.6666666666666666, \"#ed7953\"], [0.7777777777777778, \"#fb9f3a\"], [0.8888888888888888, \"#fdca26\"], [1.0, \"#f0f921\"]], \"type\": \"heatmap\"}], \"heatmapgl\": [{\"colorbar\": {\"outlinewidth\": 0, \"ticks\": \"\"}, \"colorscale\": [[0.0, \"#0d0887\"], [0.1111111111111111, \"#46039f\"], [0.2222222222222222, \"#7201a8\"], [0.3333333333333333, \"#9c179e\"], [0.4444444444444444, \"#bd3786\"], [0.5555555555555556, \"#d8576b\"], [0.6666666666666666, \"#ed7953\"], [0.7777777777777778, \"#fb9f3a\"], [0.8888888888888888, \"#fdca26\"], [1.0, \"#f0f921\"]], \"type\": \"heatmapgl\"}], \"histogram\": [{\"marker\": {\"colorbar\": {\"outlinewidth\": 0, \"ticks\": \"\"}}, \"type\": \"histogram\"}], \"histogram2d\": [{\"colorbar\": {\"outlinewidth\": 0, \"ticks\": \"\"}, \"colorscale\": [[0.0, \"#0d0887\"], [0.1111111111111111, \"#46039f\"], [0.2222222222222222, \"#7201a8\"], [0.3333333333333333, \"#9c179e\"], [0.4444444444444444, \"#bd3786\"], [0.5555555555555556, \"#d8576b\"], [0.6666666666666666, \"#ed7953\"], [0.7777777777777778, \"#fb9f3a\"], [0.8888888888888888, \"#fdca26\"], [1.0, \"#f0f921\"]], \"type\": \"histogram2d\"}], \"histogram2dcontour\": [{\"colorbar\": {\"outlinewidth\": 0, \"ticks\": \"\"}, \"colorscale\": [[0.0, \"#0d0887\"], [0.1111111111111111, \"#46039f\"], [0.2222222222222222, \"#7201a8\"], [0.3333333333333333, \"#9c179e\"], [0.4444444444444444, \"#bd3786\"], [0.5555555555555556, \"#d8576b\"], [0.6666666666666666, \"#ed7953\"], [0.7777777777777778, \"#fb9f3a\"], [0.8888888888888888, \"#fdca26\"], [1.0, \"#f0f921\"]], \"type\": \"histogram2dcontour\"}], \"mesh3d\": [{\"colorbar\": {\"outlinewidth\": 0, \"ticks\": \"\"}, \"type\": \"mesh3d\"}], \"parcoords\": [{\"line\": {\"colorbar\": {\"outlinewidth\": 0, \"ticks\": \"\"}}, \"type\": \"parcoords\"}], \"pie\": [{\"automargin\": true, \"type\": \"pie\"}], \"scatter\": [{\"marker\": {\"colorbar\": {\"outlinewidth\": 0, \"ticks\": \"\"}}, \"type\": \"scatter\"}], \"scatter3d\": [{\"line\": {\"colorbar\": {\"outlinewidth\": 0, \"ticks\": \"\"}}, \"marker\": {\"colorbar\": {\"outlinewidth\": 0, \"ticks\": \"\"}}, \"type\": \"scatter3d\"}], \"scattercarpet\": [{\"marker\": {\"colorbar\": {\"outlinewidth\": 0, \"ticks\": \"\"}}, \"type\": \"scattercarpet\"}], \"scattergeo\": [{\"marker\": {\"colorbar\": {\"outlinewidth\": 0, \"ticks\": \"\"}}, \"type\": \"scattergeo\"}], \"scattergl\": [{\"marker\": {\"colorbar\": {\"outlinewidth\": 0, \"ticks\": \"\"}}, \"type\": \"scattergl\"}], \"scattermapbox\": [{\"marker\": {\"colorbar\": {\"outlinewidth\": 0, \"ticks\": \"\"}}, \"type\": \"scattermapbox\"}], \"scatterpolar\": [{\"marker\": {\"colorbar\": {\"outlinewidth\": 0, \"ticks\": \"\"}}, \"type\": \"scatterpolar\"}], \"scatterpolargl\": [{\"marker\": {\"colorbar\": {\"outlinewidth\": 0, \"ticks\": \"\"}}, \"type\": \"scatterpolargl\"}], \"scatterternary\": [{\"marker\": {\"colorbar\": {\"outlinewidth\": 0, \"ticks\": \"\"}}, \"type\": \"scatterternary\"}], \"surface\": [{\"colorbar\": {\"outlinewidth\": 0, \"ticks\": \"\"}, \"colorscale\": [[0.0, \"#0d0887\"], [0.1111111111111111, \"#46039f\"], [0.2222222222222222, \"#7201a8\"], [0.3333333333333333, \"#9c179e\"], [0.4444444444444444, \"#bd3786\"], [0.5555555555555556, \"#d8576b\"], [0.6666666666666666, \"#ed7953\"], [0.7777777777777778, \"#fb9f3a\"], [0.8888888888888888, \"#fdca26\"], [1.0, \"#f0f921\"]], \"type\": \"surface\"}], \"table\": [{\"cells\": {\"fill\": {\"color\": \"#EBF0F8\"}, \"line\": {\"color\": \"white\"}}, \"header\": {\"fill\": {\"color\": \"#C8D4E3\"}, \"line\": {\"color\": \"white\"}}, \"type\": \"table\"}]}, \"layout\": {\"annotationdefaults\": {\"arrowcolor\": \"#2a3f5f\", \"arrowhead\": 0, \"arrowwidth\": 1}, \"autotypenumbers\": \"strict\", \"coloraxis\": {\"colorbar\": {\"outlinewidth\": 0, \"ticks\": \"\"}}, \"colorscale\": {\"diverging\": [[0, \"#8e0152\"], [0.1, \"#c51b7d\"], [0.2, \"#de77ae\"], [0.3, \"#f1b6da\"], [0.4, \"#fde0ef\"], [0.5, \"#f7f7f7\"], [0.6, \"#e6f5d0\"], [0.7, \"#b8e186\"], [0.8, \"#7fbc41\"], [0.9, \"#4d9221\"], [1, \"#276419\"]], \"sequential\": [[0.0, \"#0d0887\"], [0.1111111111111111, \"#46039f\"], [0.2222222222222222, \"#7201a8\"], [0.3333333333333333, \"#9c179e\"], [0.4444444444444444, \"#bd3786\"], [0.5555555555555556, \"#d8576b\"], [0.6666666666666666, \"#ed7953\"], [0.7777777777777778, \"#fb9f3a\"], [0.8888888888888888, \"#fdca26\"], [1.0, \"#f0f921\"]], \"sequentialminus\": [[0.0, \"#0d0887\"], [0.1111111111111111, \"#46039f\"], [0.2222222222222222, \"#7201a8\"], [0.3333333333333333, \"#9c179e\"], [0.4444444444444444, \"#bd3786\"], [0.5555555555555556, \"#d8576b\"], [0.6666666666666666, \"#ed7953\"], [0.7777777777777778, \"#fb9f3a\"], [0.8888888888888888, \"#fdca26\"], [1.0, \"#f0f921\"]]}, \"colorway\": [\"#636efa\", \"#EF553B\", \"#00cc96\", \"#ab63fa\", \"#FFA15A\", \"#19d3f3\", \"#FF6692\", \"#B6E880\", \"#FF97FF\", \"#FECB52\"], \"font\": {\"color\": \"#2a3f5f\"}, \"geo\": {\"bgcolor\": \"white\", \"lakecolor\": \"white\", \"landcolor\": \"#E5ECF6\", \"showlakes\": true, \"showland\": true, \"subunitcolor\": \"white\"}, \"hoverlabel\": {\"align\": \"left\"}, \"hovermode\": \"closest\", \"mapbox\": {\"style\": \"light\"}, \"paper_bgcolor\": \"white\", \"plot_bgcolor\": \"#E5ECF6\", \"polar\": {\"angularaxis\": {\"gridcolor\": \"white\", \"linecolor\": \"white\", \"ticks\": \"\"}, \"bgcolor\": \"#E5ECF6\", \"radialaxis\": {\"gridcolor\": \"white\", \"linecolor\": \"white\", \"ticks\": \"\"}}, \"scene\": {\"xaxis\": {\"backgroundcolor\": \"#E5ECF6\", \"gridcolor\": \"white\", \"gridwidth\": 2, \"linecolor\": \"white\", \"showbackground\": true, \"ticks\": \"\", \"zerolinecolor\": \"white\"}, \"yaxis\": {\"backgroundcolor\": \"#E5ECF6\", \"gridcolor\": \"white\", \"gridwidth\": 2, \"linecolor\": \"white\", \"showbackground\": true, \"ticks\": \"\", \"zerolinecolor\": \"white\"}, \"zaxis\": {\"backgroundcolor\": \"#E5ECF6\", \"gridcolor\": \"white\", \"gridwidth\": 2, \"linecolor\": \"white\", \"showbackground\": true, \"ticks\": \"\", \"zerolinecolor\": \"white\"}}, \"shapedefaults\": {\"line\": {\"color\": \"#2a3f5f\"}}, \"ternary\": {\"aaxis\": {\"gridcolor\": \"white\", \"linecolor\": \"white\", \"ticks\": \"\"}, \"baxis\": {\"gridcolor\": \"white\", \"linecolor\": \"white\", \"ticks\": \"\"}, \"bgcolor\": \"#E5ECF6\", \"caxis\": {\"gridcolor\": \"white\", \"linecolor\": \"white\", \"ticks\": \"\"}}, \"title\": {\"x\": 0.05}, \"xaxis\": {\"automargin\": true, \"gridcolor\": \"white\", \"linecolor\": \"white\", \"ticks\": \"\", \"title\": {\"standoff\": 15}, \"zerolinecolor\": \"white\", \"zerolinewidth\": 2}, \"yaxis\": {\"automargin\": true, \"gridcolor\": \"white\", \"linecolor\": \"white\", \"ticks\": \"\", \"title\": {\"standoff\": 15}, \"zerolinecolor\": \"white\", \"zerolinewidth\": 2}}}, \"title\": {\"text\": \"Relation between Rating and Title Length\"}},                        {\"responsive\": true}                    ).then(function(){\n",
       "                            \n",
       "var gd = document.getElementById('b3330540-a654-4529-a2da-22a180d84ad2');\n",
       "var x = new MutationObserver(function (mutations, observer) {{\n",
       "        var display = window.getComputedStyle(gd).display;\n",
       "        if (!display || display === 'none') {{\n",
       "            console.log([gd, 'removed!']);\n",
       "            Plotly.purge(gd);\n",
       "            observer.disconnect();\n",
       "        }}\n",
       "}});\n",
       "\n",
       "// Listen for the removal of the full notebook cells\n",
       "var notebookContainer = gd.closest('#notebook-container');\n",
       "if (notebookContainer) {{\n",
       "    x.observe(notebookContainer, {childList: true});\n",
       "}}\n",
       "\n",
       "// Listen for the clearing of the current output cell\n",
       "var outputEl = gd.closest('.output');\n",
       "if (outputEl) {{\n",
       "    x.observe(outputEl, {childList: true});\n",
       "}}\n",
       "\n",
       "                        })                };                });            </script>        </div>"
      ]
     },
     "metadata": {},
     "output_type": "display_data"
    }
   ],
   "source": [
    "fig = px.scatter_matrix(dataset, dimensions=['User Rating', 'Title Length'], color=\"User Rating\", title=\"Relation between Rating and Title Length\")\n",
    "fig.show()"
   ]
  },
  {
   "cell_type": "markdown",
   "metadata": {},
   "source": [
    "- There is no corelation between Popularity and User Ratings"
   ]
  },
  {
   "cell_type": "markdown",
   "metadata": {},
   "source": [
    "### The author who wrote the most number of bestselling books"
   ]
  },
  {
   "cell_type": "code",
   "execution_count": 78,
   "metadata": {},
   "outputs": [
    {
     "data": {
      "text/html": [
       "<div>\n",
       "<style scoped>\n",
       "    .dataframe tbody tr th:only-of-type {\n",
       "        vertical-align: middle;\n",
       "    }\n",
       "\n",
       "    .dataframe tbody tr th {\n",
       "        vertical-align: top;\n",
       "    }\n",
       "\n",
       "    .dataframe thead th {\n",
       "        text-align: right;\n",
       "    }\n",
       "</style>\n",
       "<table border=\"1\" class=\"dataframe\">\n",
       "  <thead>\n",
       "    <tr style=\"text-align: right;\">\n",
       "      <th></th>\n",
       "      <th>Author</th>\n",
       "      <th>Books</th>\n",
       "    </tr>\n",
       "  </thead>\n",
       "  <tbody>\n",
       "    <tr>\n",
       "      <th>0</th>\n",
       "      <td>Jeff Kinney</td>\n",
       "      <td>12</td>\n",
       "    </tr>\n",
       "    <tr>\n",
       "      <th>1</th>\n",
       "      <td>Suzanne Collins</td>\n",
       "      <td>11</td>\n",
       "    </tr>\n",
       "    <tr>\n",
       "      <th>2</th>\n",
       "      <td>Gary Chapman</td>\n",
       "      <td>11</td>\n",
       "    </tr>\n",
       "    <tr>\n",
       "      <th>3</th>\n",
       "      <td>Rick Riordan</td>\n",
       "      <td>11</td>\n",
       "    </tr>\n",
       "    <tr>\n",
       "      <th>4</th>\n",
       "      <td>American Psychological Association</td>\n",
       "      <td>10</td>\n",
       "    </tr>\n",
       "  </tbody>\n",
       "</table>\n",
       "</div>"
      ],
      "text/plain": [
       "                               Author  Books\n",
       "0                         Jeff Kinney     12\n",
       "1                     Suzanne Collins     11\n",
       "2                        Gary Chapman     11\n",
       "3                        Rick Riordan     11\n",
       "4  American Psychological Association     10"
      ]
     },
     "execution_count": 78,
     "metadata": {},
     "output_type": "execute_result"
    }
   ],
   "source": [
    "authors = dataset['Author'].value_counts()\n",
    "author_data = pd.DataFrame({'Author':authors.keys(), 'Books': authors.values})\n",
    "author_data.head()"
   ]
  },
  {
   "cell_type": "markdown",
   "metadata": {},
   "source": [
    "- The author who wrote most number of best selling books is *Jeff Kinney*."
   ]
  },
  {
   "cell_type": "code",
   "execution_count": null,
   "metadata": {},
   "outputs": [],
   "source": []
  }
 ],
 "metadata": {
  "kernelspec": {
   "display_name": "Python 3",
   "language": "python",
   "name": "python3"
  },
  "language_info": {
   "codemirror_mode": {
    "name": "ipython",
    "version": 3
   },
   "file_extension": ".py",
   "mimetype": "text/x-python",
   "name": "python",
   "nbconvert_exporter": "python",
   "pygments_lexer": "ipython3",
   "version": "3.8.5"
  }
 },
 "nbformat": 4,
 "nbformat_minor": 4
}
